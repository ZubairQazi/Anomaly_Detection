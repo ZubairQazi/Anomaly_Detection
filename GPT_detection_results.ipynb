{
 "cells": [
  {
   "cell_type": "code",
   "execution_count": 1,
   "metadata": {},
   "outputs": [],
   "source": [
    "import numpy as np\n",
    "import torch\n",
    "\n",
    "import scipy.io\n",
    "import mat73\n",
    "\n",
    "import sparse\n",
    "\n",
    "from tqdm.notebook import tqdm\n",
    "from scipy.sparse.linalg import norm"
   ]
  },
  {
   "cell_type": "code",
   "execution_count": 5,
   "metadata": {},
   "outputs": [],
   "source": [
    "# /data/zqazi004/decomposition_factors/reddit_tensor_indices_cp_factors_rankXXX.mat\n",
    "path = input('Enter factors file path: ')\n",
    "try:\n",
    "    factors = scipy.io.loadmat(path)['c_factors']\n",
    "except:\n",
    "    factors = mat73.loadmat(path)['c_factors']"
   ]
  },
  {
   "cell_type": "code",
   "execution_count": 6,
   "metadata": {},
   "outputs": [
    {
     "name": "stdout",
     "output_type": "stream",
     "text": [
      "(65119, 10) (65119, 10)\n"
     ]
    }
   ],
   "source": [
    "A, B = factors[1][0], factors[2][0]\n",
    "\n",
    "print(A.shape, B.shape)"
   ]
  },
  {
   "cell_type": "code",
   "execution_count": 7,
   "metadata": {},
   "outputs": [],
   "source": [
    "data = scipy.io.loadmat('tensor_data/reddit_tensor_datas.mat')"
   ]
  },
  {
   "cell_type": "code",
   "execution_count": 8,
   "metadata": {},
   "outputs": [],
   "source": [
    "# Extract the indices and values from the dictionary\n",
    "indices = data['indices']\n",
    "values = data['values'][0]\n",
    "N = data['size'][0][0]\n",
    "\n",
    "sparse_tensor = sparse.COO(torch.tensor(list(zip(*indices))), data=torch.tensor(values))"
   ]
  },
  {
   "cell_type": "code",
   "execution_count": 9,
   "metadata": {},
   "outputs": [
    {
     "data": {
      "application/vnd.jupyter.widget-view+json": {
       "model_id": "03a3b8b6e12841e198118c1c4225829b",
       "version_major": 2,
       "version_minor": 0
      },
      "text/plain": [
       "  0%|          | 0/3 [00:00<?, ?it/s]"
      ]
     },
     "metadata": {},
     "output_type": "display_data"
    },
    {
     "ename": "AttributeError",
     "evalue": "module 'sparse' has no attribute 'sum'",
     "output_type": "error",
     "traceback": [
      "\u001b[0;31m---------------------------------------------------------------------------\u001b[0m",
      "\u001b[0;31mAttributeError\u001b[0m                            Traceback (most recent call last)",
      "\u001b[1;32m/home/zqazi004/Anomaly_Detection/GPT_detection_results.ipynb Cell 6\u001b[0m in \u001b[0;36m<cell line: 3>\u001b[0;34m()\u001b[0m\n\u001b[1;32m     <a href='vscode-notebook-cell://ssh-remote%2Bcoldbrew/home/zqazi004/Anomaly_Detection/GPT_detection_results.ipynb#X15sdnNjb2RlLXJlbW90ZQ%3D%3D?line=16'>17</a>\u001b[0m elementwise_squared_diff \u001b[39m=\u001b[39m (s_i \u001b[39m-\u001b[39m reconstruction) \u001b[39m*\u001b[39m\u001b[39m*\u001b[39m \u001b[39m2\u001b[39m\n\u001b[1;32m     <a href='vscode-notebook-cell://ssh-remote%2Bcoldbrew/home/zqazi004/Anomaly_Detection/GPT_detection_results.ipynb#X15sdnNjb2RlLXJlbW90ZQ%3D%3D?line=18'>19</a>\u001b[0m \u001b[39m# Sum up all the squared elements\u001b[39;00m\n\u001b[0;32m---> <a href='vscode-notebook-cell://ssh-remote%2Bcoldbrew/home/zqazi004/Anomaly_Detection/GPT_detection_results.ipynb#X15sdnNjb2RlLXJlbW90ZQ%3D%3D?line=19'>20</a>\u001b[0m sum_of_squares \u001b[39m=\u001b[39m sparse\u001b[39m.\u001b[39;49msum(elementwise_squared_diff)\n\u001b[1;32m     <a href='vscode-notebook-cell://ssh-remote%2Bcoldbrew/home/zqazi004/Anomaly_Detection/GPT_detection_results.ipynb#X15sdnNjb2RlLXJlbW90ZQ%3D%3D?line=21'>22</a>\u001b[0m \u001b[39m# Take the square root to get the Frobenius norm\u001b[39;00m\n\u001b[1;32m     <a href='vscode-notebook-cell://ssh-remote%2Bcoldbrew/home/zqazi004/Anomaly_Detection/GPT_detection_results.ipynb#X15sdnNjb2RlLXJlbW90ZQ%3D%3D?line=22'>23</a>\u001b[0m frobenius_norm \u001b[39m=\u001b[39m np\u001b[39m.\u001b[39msqrt(sum_of_squares)\n",
      "\u001b[0;31mAttributeError\u001b[0m: module 'sparse' has no attribute 'sum'"
     ]
    }
   ],
   "source": [
    "# Iterate through each slice along the first dimension of the sparse tensor\n",
    "norms = []\n",
    "for i in tqdm(range(1)):\n",
    "    s_i = sparse_tensor[i]\n",
    "\n",
    "    # Convert the sparse slice s to a dense numpy array\n",
    "    projection = sparse.tensordot(sparse.tensordot(A.T, s_i, axes=1), B, axes=1)\n",
    "\n",
    "    reconstruction = sparse.tensordot(sparse.tensordot(A, projection, axes=1), B.T, axes=1)\n",
    "\n",
    "    norm_diff = np.linalg.norm(s_i - reconstruction, ord='fro')\n",
    "\n",
    "    norms.append(norm_diff)\n",
    "\n",
    "frobenius_norms_array = np.array(norms)"
   ]
  },
  {
   "cell_type": "code",
   "execution_count": null,
   "metadata": {},
   "outputs": [],
   "source": []
  }
 ],
 "metadata": {
  "kernelspec": {
   "display_name": "anom_detect",
   "language": "python",
   "name": "python3"
  },
  "language_info": {
   "codemirror_mode": {
    "name": "ipython",
    "version": 3
   },
   "file_extension": ".py",
   "mimetype": "text/x-python",
   "name": "python",
   "nbconvert_exporter": "python",
   "pygments_lexer": "ipython3",
   "version": "3.10.5"
  },
  "orig_nbformat": 4
 },
 "nbformat": 4,
 "nbformat_minor": 2
}
