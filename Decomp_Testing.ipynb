{
 "cells": [
  {
   "cell_type": "code",
   "execution_count": 52,
   "id": "97f3bfca",
   "metadata": {},
   "outputs": [],
   "source": [
    "import torch\n",
    "\n",
    "import networkx as nx\n",
    "\n",
    "import numpy as np\n",
    "    \n",
    "import pandas as pd\n",
    "\n",
    "import scipy.io\n",
    "\n",
    "from itertools import combinations as comb\n",
    "\n",
    "from tqdm.notebook import tqdm\n",
    "\n",
    "import pickle\n",
    "\n",
    "import matplotlib.pyplot as plt\n",
    "\n",
    "import seaborn as sns\n",
    "\n",
    "from sklearn.cluster import KMeans, MiniBatchKMeans"
   ]
  },
  {
   "cell_type": "markdown",
   "id": "e2a39f53",
   "metadata": {},
   "source": [
    "# Clean Tensor from Separate Data\n",
    "Using Tensor constructed from separate data without anomaly injections"
   ]
  },
  {
   "cell_type": "code",
   "execution_count": 2,
   "id": "466a4e98",
   "metadata": {},
   "outputs": [
    {
     "name": "stdout",
     "output_type": "stream",
     "text": [
      "Graph with 5196 nodes and 172897 edges\n"
     ]
    },
    {
     "name": "stderr",
     "output_type": "stream",
     "text": [
      "/var/folders/80/w14y6f9s2_g49cyn7jpfhrfh0000gn/T/ipykernel_28945/680799908.py:5: DeprecationWarning: info is deprecated and will be removed in version 3.0.\n",
      "\n",
      "  print(nx.info(G))\n"
     ]
    }
   ],
   "source": [
    "bc_data = scipy.io.loadmat(\"graph-gan/dataset/BlogCatalog/blogcatalog.mat\")\n",
    "\n",
    "G = nx.from_scipy_sparse_array(bc_data[\"Network\"])\n",
    "# nx.set_node_attributes(G, bc_data[\"Attributes\"], 'Attributes')\n",
    "print(nx.info(G))\n",
    "\n",
    "# convert list of lists to list\n",
    "labels = [j for i in bc_data[\"Label\"] for j in i]\n",
    "\n",
    "# Add labels to each node\n",
    "for i in range(len(G.nodes)):\n",
    "    G.nodes[i]['Anomaly'] = labels[i]"
   ]
  },
  {
   "cell_type": "code",
   "execution_count": 3,
   "id": "7be979a4",
   "metadata": {
    "scrolled": true
   },
   "outputs": [
    {
     "data": {
      "text/plain": [
       "Text(0, 0.5, 'Frequency')"
      ]
     },
     "execution_count": 3,
     "metadata": {},
     "output_type": "execute_result"
    },
    {
     "data": {
      "image/png": "[encoded data removed]",
      "text/plain": [
       "<Figure size 432x288 with 1 Axes>"
      ]
     },
     "metadata": {
      "needs_background": "light"
     },
     "output_type": "display_data"
    }
   ],
   "source": [
    "plt.hist(nx.degree_histogram(G))\n",
    "plt.xlabel('Degree')\n",
    "plt.ylabel('Frequency')"
   ]
  },
  {
   "cell_type": "code",
   "execution_count": 3,
   "id": "1c9289d2",
   "metadata": {},
   "outputs": [],
   "source": [
    "def load_bc_data(G):\n",
    "\n",
    "    G = max((G.subgraph(c) for c in nx.connected_components(G)), key=len)\n",
    "    G = nx.convert_node_labels_to_integers(G)\n",
    "    ego_gs = []\n",
    "\n",
    "    max_graph = 0\n",
    "\n",
    "    for i in tqdm(range(G.number_of_nodes())):\n",
    "        G_ego = nx.ego_graph(G, i, radius=1)\n",
    "        if G_ego.number_of_nodes() >= 2:\n",
    "            ego_gs.append(G_ego)\n",
    "            if max_graph < G_ego.number_of_nodes():\n",
    "                max_graph = G_ego.number_of_nodes()\n",
    "\n",
    "    return G, ego_gs, max_graph"
   ]
  },
  {
   "cell_type": "code",
   "execution_count": 4,
   "id": "35c78216",
   "metadata": {},
   "outputs": [
    {
     "data": {
      "application/vnd.jupyter.widget-view+json": {
       "model_id": "19ae79966a504d779f13218b6cfebb49",
       "version_major": 2,
       "version_minor": 0
      },
      "text/plain": [
       "  0%|          | 0/5196 [00:00<?, ?it/s]"
      ]
     },
     "metadata": {},
     "output_type": "display_data"
    }
   ],
   "source": [
    "G, ego_gs, _ = load_bc_data(G)"
   ]
  },
  {
   "cell_type": "code",
   "execution_count": 5,
   "id": "f6a93de2",
   "metadata": {},
   "outputs": [],
   "source": [
    "# get anomalous egonets\n",
    "def is_anomolous(G):\n",
    "    for node in G.nodes():\n",
    "        if G.nodes[node]['Anomaly'] == 1:\n",
    "            return True\n",
    "    return False"
   ]
  },
  {
   "cell_type": "code",
   "execution_count": 6,
   "id": "b6a845be",
   "metadata": {},
   "outputs": [
    {
     "data": {
      "application/vnd.jupyter.widget-view+json": {
       "model_id": "d578842c41ff4bf28ce10892a336872b",
       "version_major": 2,
       "version_minor": 0
      },
      "text/plain": [
       "  0%|          | 0/5196 [00:00<?, ?it/s]"
      ]
     },
     "metadata": {},
     "output_type": "display_data"
    },
    {
     "name": "stdout",
     "output_type": "stream",
     "text": [
      "# of anomalous graphs: 4720/5196\n",
      "# of clean graphs: 476/5196\n"
     ]
    }
   ],
   "source": [
    "anom_gs, clean_gs = [], []\n",
    "for idx, g in enumerate(tqdm(ego_gs, total=len(ego_gs))):\n",
    "    # check if root is anomolous first\n",
    "    if is_anomolous(g):\n",
    "        anom_gs.append(g)\n",
    "    else:\n",
    "        clean_gs.append(g)\n",
    "\n",
    "print(f'# of anomalous graphs: {len(anom_gs)}/{len(ego_gs)}')\n",
    "print(f'# of clean graphs: {len(clean_gs)}/{len(ego_gs)}')"
   ]
  },
  {
   "cell_type": "code",
   "execution_count": 7,
   "id": "5e83dd87",
   "metadata": {},
   "outputs": [],
   "source": [
    "with open('decomp.sav', 'rb') as f:\n",
    "    result = pickle.load(f)\n",
    "    f.close()"
   ]
  },
  {
   "cell_type": "code",
   "execution_count": 8,
   "id": "c84e9ed9",
   "metadata": {},
   "outputs": [],
   "source": [
    "core, factors = result"
   ]
  },
  {
   "cell_type": "code",
   "execution_count": 9,
   "id": "b596d74d",
   "metadata": {},
   "outputs": [],
   "source": [
    "A, B, C = factors"
   ]
  },
  {
   "cell_type": "code",
   "execution_count": 10,
   "id": "ffc3a816",
   "metadata": {},
   "outputs": [],
   "source": [
    "A, B, C, = np.array(A), np.array(B), np.array(C)"
   ]
  },
  {
   "cell_type": "code",
   "execution_count": 11,
   "id": "5ab96213",
   "metadata": {},
   "outputs": [
    {
     "data": {
      "application/vnd.jupyter.widget-view+json": {
       "model_id": "",
       "version_major": 2,
       "version_minor": 0
      },
      "text/plain": [
       "  0%|          | 0/4720 [00:00<?, ?it/s]"
      ]
     },
     "metadata": {},
     "output_type": "display_data"
    }
   ],
   "source": [
    "padded_anom = []\n",
    "for gs in tqdm(anom_gs):\n",
    "    g = nx.to_numpy_array(gs)\n",
    "    padded = np.zeros((1000, 1000))\n",
    "    padded[:g.shape[0], :g.shape[1]] = g\n",
    "    padded_anom.append(padded)"
   ]
  },
  {
   "cell_type": "code",
   "execution_count": 12,
   "id": "95a671dd",
   "metadata": {},
   "outputs": [
    {
     "data": {
      "application/vnd.jupyter.widget-view+json": {
       "model_id": "",
       "version_major": 2,
       "version_minor": 0
      },
      "text/plain": [
       "  0%|          | 0/476 [00:00<?, ?it/s]"
      ]
     },
     "metadata": {},
     "output_type": "display_data"
    }
   ],
   "source": [
    "padded_clean = []\n",
    "for gs in tqdm(clean_gs):\n",
    "    g = nx.to_numpy_array(gs)\n",
    "    padded = np.zeros((1000, 1000))\n",
    "    padded[:g.shape[0], :g.shape[1]] = g\n",
    "    padded_clean.append(padded)"
   ]
  },
  {
   "cell_type": "code",
   "execution_count": 13,
   "id": "267c7b3f",
   "metadata": {},
   "outputs": [
    {
     "data": {
      "application/vnd.jupyter.widget-view+json": {
       "model_id": "",
       "version_major": 2,
       "version_minor": 0
      },
      "text/plain": [
       "  0%|          | 0/4720 [00:00<?, ?it/s]"
      ]
     },
     "metadata": {},
     "output_type": "display_data"
    }
   ],
   "source": [
    "results_anom = []\n",
    "for gs in tqdm(padded_anom):\n",
    "    gs_p = (A @ ((A.T @ gs) @ B) @ B.T)\n",
    "    d = np.linalg.norm(gs - gs_p)\n",
    "    results_anom.append(d)"
   ]
  },
  {
   "cell_type": "code",
   "execution_count": 14,
   "id": "a5bfe03a",
   "metadata": {},
   "outputs": [
    {
     "data": {
      "application/vnd.jupyter.widget-view+json": {
       "model_id": "",
       "version_major": 2,
       "version_minor": 0
      },
      "text/plain": [
       "  0%|          | 0/476 [00:00<?, ?it/s]"
      ]
     },
     "metadata": {},
     "output_type": "display_data"
    }
   ],
   "source": [
    "results_clean = []\n",
    "for gs in tqdm(padded_clean):\n",
    "    gs_p = (A @ ((A.T @ gs) @ B) @ B.T)\n",
    "    d = np.linalg.norm(gs - gs_p)\n",
    "    results_clean.append(d)"
   ]
  },
  {
   "cell_type": "code",
   "execution_count": 15,
   "id": "7f621010",
   "metadata": {},
   "outputs": [
    {
     "name": "stdout",
     "output_type": "stream",
     "text": [
      "151.9937847780831 5.922383915434441\n",
      "28.182793891188993 3.1380770902666613\n"
     ]
    }
   ],
   "source": [
    "print(max(results_anom), min(results_anom))\n",
    "print(max(results_clean), min(results_clean))"
   ]
  },
  {
   "cell_type": "code",
   "execution_count": 16,
   "id": "be65a99d",
   "metadata": {},
   "outputs": [],
   "source": [
    "anom_y = np.zeros(len(results_anom))\n",
    "clean_y = np.zeros(len(results_clean))"
   ]
  },
  {
   "cell_type": "code",
   "execution_count": 17,
   "id": "ba693c63",
   "metadata": {
    "scrolled": true
   },
   "outputs": [
    {
     "data": {
      "text/plain": [
       "<matplotlib.legend.Legend at 0x7f7e58310340>"
      ]
     },
     "execution_count": 17,
     "metadata": {},
     "output_type": "execute_result"
    },
    {
     "data": {
      "image/png": "[encoded data removed]",
      "text/plain": [
       "<Figure size 432x288 with 1 Axes>"
      ]
     },
     "metadata": {
      "needs_background": "light"
     },
     "output_type": "display_data"
    }
   ],
   "source": [
    "sns.scatterplot(x=results_anom, y=anom_y, marker='x')\n",
    "sns.scatterplot(x=results_clean, y=clean_y, marker='o')\n",
    "\n",
    "plt.legend(['Anom', 'Clean'])"
   ]
  },
  {
   "cell_type": "code",
   "execution_count": 18,
   "id": "d431fde0",
   "metadata": {
    "scrolled": false
   },
   "outputs": [
    {
     "data": {
      "text/plain": [
       "<AxesSubplot:ylabel='Count'>"
      ]
     },
     "execution_count": 18,
     "metadata": {},
     "output_type": "execute_result"
    },
    {
     "data": {
      "image/png": "[encoded data removed]",
      "text/plain": [
       "<Figure size 432x288 with 1 Axes>"
      ]
     },
     "metadata": {
      "needs_background": "light"
     },
     "output_type": "display_data"
    }
   ],
   "source": [
    "sns.histplot(results_anom)\n",
    "sns.histplot(results_clean, ax=plt.gca())"
   ]
  },
  {
   "cell_type": "code",
   "execution_count": 19,
   "id": "66d4bd6d",
   "metadata": {},
   "outputs": [],
   "source": [
    "comb = [results_clean, results_anom]"
   ]
  },
  {
   "cell_type": "code",
   "execution_count": 20,
   "id": "7b55e740",
   "metadata": {
    "scrolled": true
   },
   "outputs": [
    {
     "data": {
      "text/plain": [
       "{'whiskers': [<matplotlib.lines.Line2D at 0x7f7e492108b0>,\n",
       "  <matplotlib.lines.Line2D at 0x7f7e49210b80>,\n",
       "  <matplotlib.lines.Line2D at 0x7f7e49221cd0>,\n",
       "  <matplotlib.lines.Line2D at 0x7f7e49221fa0>],\n",
       " 'caps': [<matplotlib.lines.Line2D at 0x7f7e49210f10>,\n",
       "  <matplotlib.lines.Line2D at 0x7f7e49221160>,\n",
       "  <matplotlib.lines.Line2D at 0x7f7e4920f2b0>,\n",
       "  <matplotlib.lines.Line2D at 0x7f7e4920f580>],\n",
       " 'boxes': [<matplotlib.lines.Line2D at 0x7f7e49210670>,\n",
       "  <matplotlib.lines.Line2D at 0x7f7e49221a00>],\n",
       " 'medians': [<matplotlib.lines.Line2D at 0x7f7e49221430>,\n",
       "  <matplotlib.lines.Line2D at 0x7f7e4920f850>],\n",
       " 'fliers': [<matplotlib.lines.Line2D at 0x7f7e49221700>,\n",
       "  <matplotlib.lines.Line2D at 0x7f7e4920fb20>],\n",
       " 'means': []}"
      ]
     },
     "execution_count": 20,
     "metadata": {},
     "output_type": "execute_result"
    },
    {
     "data": {
      "image/png": "[encoded data removed]",
      "text/plain": [
       "<Figure size 432x288 with 1 Axes>"
      ]
     },
     "metadata": {
      "needs_background": "light"
     },
     "output_type": "display_data"
    }
   ],
   "source": [
    "plt.boxplot(comb)"
   ]
  },
  {
   "cell_type": "code",
   "execution_count": 21,
   "id": "e622e607",
   "metadata": {},
   "outputs": [
    {
     "name": "stdout",
     "output_type": "stream",
     "text": [
      "Using 10312 egonets\n"
     ]
    }
   ],
   "source": [
    "# using non-anomolous nodes from original data (no anomalies)\n",
    "\n",
    "with open('egonets.sav', 'rb') as f:\n",
    "    ego_gs = pickle.load(f)\n",
    "    f.close()\n",
    "\n",
    "print(f'Using {len(ego_gs)} egonets')"
   ]
  },
  {
   "cell_type": "code",
   "execution_count": 22,
   "id": "6de67a95",
   "metadata": {},
   "outputs": [],
   "source": [
    "indices = np.random.randint(0, len(anom_gs), size=len(clean_gs))\n",
    "\n",
    "sampled_anoms = np.array(anom_gs, dtype=object)[indices]"
   ]
  },
  {
   "cell_type": "code",
   "execution_count": 23,
   "id": "f13faa73",
   "metadata": {},
   "outputs": [
    {
     "data": {
      "application/vnd.jupyter.widget-view+json": {
       "model_id": "561ac2a2b8bf46d9974fe60c0dc7b12a",
       "version_major": 2,
       "version_minor": 0
      },
      "text/plain": [
       "  0%|          | 0/476 [00:00<?, ?it/s]"
      ]
     },
     "metadata": {},
     "output_type": "display_data"
    }
   ],
   "source": [
    "padded_anom = []\n",
    "for gs in tqdm(sampled_anoms):\n",
    "    g = nx.to_numpy_array(gs)\n",
    "    padded = np.zeros((1000, 1000))\n",
    "    padded[:g.shape[0], :g.shape[1]] = g\n",
    "    padded_anom.append(padded)"
   ]
  },
  {
   "cell_type": "code",
   "execution_count": 24,
   "id": "75618784",
   "metadata": {},
   "outputs": [
    {
     "data": {
      "application/vnd.jupyter.widget-view+json": {
       "model_id": "5ed9c8b07448476c88f8a3bced33ccc5",
       "version_major": 2,
       "version_minor": 0
      },
      "text/plain": [
       "  0%|          | 0/476 [00:00<?, ?it/s]"
      ]
     },
     "metadata": {},
     "output_type": "display_data"
    }
   ],
   "source": [
    "results_anom = []\n",
    "indices = np.random.randint(0, len(padded_anom), size=len(padded_clean))\n",
    "for gs in tqdm(padded_anom):\n",
    "    gs_p = (A @ ((A.T @ gs) @ B) @ B.T)\n",
    "    d = np.linalg.norm(gs - gs_p)\n",
    "    results_anom.append(d)"
   ]
  },
  {
   "cell_type": "code",
   "execution_count": 25,
   "id": "6536ed29",
   "metadata": {},
   "outputs": [],
   "source": [
    "anom_y = np.zeros(len(results_anom))"
   ]
  },
  {
   "cell_type": "code",
   "execution_count": 26,
   "id": "a2851c97",
   "metadata": {
    "scrolled": true
   },
   "outputs": [
    {
     "data": {
      "text/plain": [
       "<matplotlib.legend.Legend at 0x7f7e0c15cdf0>"
      ]
     },
     "execution_count": 26,
     "metadata": {},
     "output_type": "execute_result"
    },
    {
     "data": {
      "image/png": "[encoded data removed]",
      "text/plain": [
       "<Figure size 432x288 with 1 Axes>"
      ]
     },
     "metadata": {
      "needs_background": "light"
     },
     "output_type": "display_data"
    }
   ],
   "source": [
    "sns.scatterplot(x=results_anom, y=anom_y, marker='x')\n",
    "sns.scatterplot(x=results_clean, y=clean_y, marker='o')\n",
    "\n",
    "plt.legend(['Anom', 'Clean'])"
   ]
  },
  {
   "cell_type": "markdown",
   "id": "96d34ae8",
   "metadata": {},
   "source": [
    "## Redefine Anomalies\n",
    "Redefining anomalies egonets as egonets with root node as anomalous"
   ]
  },
  {
   "cell_type": "code",
   "execution_count": 27,
   "id": "4ad94f50",
   "metadata": {},
   "outputs": [
    {
     "name": "stdout",
     "output_type": "stream",
     "text": [
      "Graph with 5196 nodes and 172897 edges\n"
     ]
    },
    {
     "name": "stderr",
     "output_type": "stream",
     "text": [
      "/var/folders/80/w14y6f9s2_g49cyn7jpfhrfh0000gn/T/ipykernel_28945/680799908.py:5: DeprecationWarning: info is deprecated and will be removed in version 3.0.\n",
      "\n",
      "  print(nx.info(G))\n"
     ]
    }
   ],
   "source": [
    "bc_data = scipy.io.loadmat(\"graph-gan/dataset/BlogCatalog/blogcatalog.mat\")\n",
    "\n",
    "G = nx.from_scipy_sparse_array(bc_data[\"Network\"])\n",
    "# nx.set_node_attributes(G, bc_data[\"Attributes\"], 'Attributes')\n",
    "print(nx.info(G))\n",
    "\n",
    "# convert list of lists to list\n",
    "labels = [j for i in bc_data[\"Label\"] for j in i]\n",
    "\n",
    "# Add labels to each node\n",
    "for i in range(len(G.nodes)):\n",
    "    G.nodes[i]['Anomaly'] = labels[i]"
   ]
  },
  {
   "cell_type": "code",
   "execution_count": 31,
   "id": "c7fae5e4",
   "metadata": {},
   "outputs": [],
   "source": [
    "def load_bc_data(G):\n",
    "\n",
    "    G = max((G.subgraph(c) for c in nx.connected_components(G)), key=len)\n",
    "    G = nx.convert_node_labels_to_integers(G)\n",
    "    ego_gs, roots = [], []\n",
    "    max_graph = 0\n",
    "\n",
    "    for i in tqdm(range(G.number_of_nodes())):\n",
    "        roots.append(G.nodes[i]['Anomaly'])\n",
    "        G_ego = nx.ego_graph(G, i, radius=1)\n",
    "        if G_ego.number_of_nodes() >= 2:\n",
    "            ego_gs.append(G_ego)\n",
    "\n",
    "    return G, ego_gs, max_graph, roots"
   ]
  },
  {
   "cell_type": "code",
   "execution_count": 32,
   "id": "5b2e9a62",
   "metadata": {
    "scrolled": false
   },
   "outputs": [
    {
     "data": {
      "application/vnd.jupyter.widget-view+json": {
       "model_id": "c860609a0c6e4bfb97039fd8a3e689cc",
       "version_major": 2,
       "version_minor": 0
      },
      "text/plain": [
       "  0%|          | 0/5196 [00:00<?, ?it/s]"
      ]
     },
     "metadata": {},
     "output_type": "display_data"
    }
   ],
   "source": [
    "G, ego_gs, _, roots = load_bc_data(G)"
   ]
  },
  {
   "cell_type": "code",
   "execution_count": 42,
   "id": "acd9dd89",
   "metadata": {},
   "outputs": [],
   "source": [
    "roots = [int(r) for r in roots]"
   ]
  },
  {
   "cell_type": "code",
   "execution_count": 44,
   "id": "f1541750",
   "metadata": {
    "scrolled": true
   },
   "outputs": [
    {
     "data": {
      "application/vnd.jupyter.widget-view+json": {
       "model_id": "cb5a48faa4f34ef1b41ddb08b94267be",
       "version_major": 2,
       "version_minor": 0
      },
      "text/plain": [
       "  0%|          | 0/5196 [00:00<?, ?it/s]"
      ]
     },
     "metadata": {},
     "output_type": "display_data"
    },
    {
     "name": "stdout",
     "output_type": "stream",
     "text": [
      "# of anomalous graphs: 298/5196\n",
      "# of clean graphs: 4898/5196\n"
     ]
    }
   ],
   "source": [
    "anom_gs, clean_gs = [], []\n",
    "for idx, root_attr in enumerate(tqdm(roots)):\n",
    "    if root_attr == 1:\n",
    "        anom_gs.append(ego_gs[idx])\n",
    "    else:\n",
    "        clean_gs.append(ego_gs[idx])\n",
    "        \n",
    "print(f'# of anomalous graphs: {len(anom_gs)}/{len(ego_gs)}')\n",
    "print(f'# of clean graphs: {len(clean_gs)}/{len(ego_gs)}')"
   ]
  },
  {
   "cell_type": "code",
   "execution_count": 46,
   "id": "c2386943",
   "metadata": {},
   "outputs": [
    {
     "data": {
      "application/vnd.jupyter.widget-view+json": {
       "model_id": "c5e6fb71e23a427e9c2bc37b11d06706",
       "version_major": 2,
       "version_minor": 0
      },
      "text/plain": [
       "  0%|          | 0/298 [00:00<?, ?it/s]"
      ]
     },
     "metadata": {},
     "output_type": "display_data"
    }
   ],
   "source": [
    "padded_anom = []\n",
    "for gs in tqdm(anom_gs):\n",
    "    g = nx.to_numpy_array(gs)\n",
    "    padded = np.zeros((1000, 1000))\n",
    "    padded[:g.shape[0], :g.shape[1]] = g\n",
    "    padded_anom.append(padded)"
   ]
  },
  {
   "cell_type": "code",
   "execution_count": 47,
   "id": "8c88c507",
   "metadata": {},
   "outputs": [
    {
     "data": {
      "application/vnd.jupyter.widget-view+json": {
       "model_id": "49a92b16a21540979dbec39bb52d15d8",
       "version_major": 2,
       "version_minor": 0
      },
      "text/plain": [
       "  0%|          | 0/4898 [00:00<?, ?it/s]"
      ]
     },
     "metadata": {},
     "output_type": "display_data"
    }
   ],
   "source": [
    "padded_clean = []\n",
    "for gs in tqdm(clean_gs):\n",
    "    g = nx.to_numpy_array(gs)\n",
    "    padded = np.zeros((1000, 1000))\n",
    "    padded[:g.shape[0], :g.shape[1]] = g\n",
    "    padded_clean.append(padded)"
   ]
  },
  {
   "cell_type": "code",
   "execution_count": 48,
   "id": "89b1cb15",
   "metadata": {},
   "outputs": [
    {
     "data": {
      "application/vnd.jupyter.widget-view+json": {
       "model_id": "67c926d28f15483594b2029760f4cc89",
       "version_major": 2,
       "version_minor": 0
      },
      "text/plain": [
       "  0%|          | 0/298 [00:00<?, ?it/s]"
      ]
     },
     "metadata": {},
     "output_type": "display_data"
    }
   ],
   "source": [
    "results_anom = []\n",
    "for gs in tqdm(padded_anom):\n",
    "    gs_p = (A @ ((A.T @ gs) @ B) @ B.T)\n",
    "    d = np.linalg.norm(gs - gs_p)\n",
    "    results_anom.append(d)"
   ]
  },
  {
   "cell_type": "code",
   "execution_count": 49,
   "id": "b5d2a9de",
   "metadata": {},
   "outputs": [
    {
     "data": {
      "application/vnd.jupyter.widget-view+json": {
       "model_id": "d58e990a38534e4a989cd7913ab4ffdd",
       "version_major": 2,
       "version_minor": 0
      },
      "text/plain": [
       "  0%|          | 0/4898 [00:00<?, ?it/s]"
      ]
     },
     "metadata": {},
     "output_type": "display_data"
    }
   ],
   "source": [
    "results_clean = []\n",
    "for gs in tqdm(padded_clean):\n",
    "    gs_p = (A @ ((A.T @ gs) @ B) @ B.T)\n",
    "    d = np.linalg.norm(gs - gs_p)\n",
    "    results_clean.append(d)"
   ]
  },
  {
   "cell_type": "code",
   "execution_count": 57,
   "id": "0296703c",
   "metadata": {},
   "outputs": [],
   "source": [
    "anom_y = np.zeros(len(results_anom))\n",
    "clean_y = np.zeros(len(results_clean))"
   ]
  },
  {
   "cell_type": "code",
   "execution_count": 58,
   "id": "977512fd",
   "metadata": {},
   "outputs": [
    {
     "data": {
      "text/plain": [
       "<matplotlib.legend.Legend at 0x7f7defaf44f0>"
      ]
     },
     "execution_count": 58,
     "metadata": {},
     "output_type": "execute_result"
    },
    {
     "data": {
      "image/png": "[encoded data removed]",
      "text/plain": [
       "<Figure size 432x288 with 1 Axes>"
      ]
     },
     "metadata": {
      "needs_background": "light"
     },
     "output_type": "display_data"
    }
   ],
   "source": [
    "sns.scatterplot(x=results_clean, y=clean_y, marker='o')\n",
    "sns.scatterplot(x=results_anom, y=anom_y, marker='x')\n",
    "\n",
    "plt.legend(['Anom', 'Clean'])"
   ]
  },
  {
   "cell_type": "code",
   "execution_count": 59,
   "id": "a5717669",
   "metadata": {},
   "outputs": [
    {
     "data": {
      "text/plain": [
       "<AxesSubplot:ylabel='Count'>"
      ]
     },
     "execution_count": 59,
     "metadata": {},
     "output_type": "execute_result"
    },
    {
     "data": {
      "image/png": "[encoded data removed]",
      "text/plain": [
       "<Figure size 432x288 with 1 Axes>"
      ]
     },
     "metadata": {
      "needs_background": "light"
     },
     "output_type": "display_data"
    }
   ],
   "source": [
    "sns.histplot(results_anom)\n",
    "sns.histplot(results_clean, ax=plt.gca())"
   ]
  },
  {
   "cell_type": "code",
   "execution_count": 61,
   "id": "e49751c4",
   "metadata": {
    "scrolled": true
   },
   "outputs": [
    {
     "data": {
      "text/plain": [
       "{'whiskers': [<matplotlib.lines.Line2D at 0x7f7e0aab9100>,\n",
       "  <matplotlib.lines.Line2D at 0x7f7e0aab96d0>,\n",
       "  <matplotlib.lines.Line2D at 0x7f7da8c24a90>,\n",
       "  <matplotlib.lines.Line2D at 0x7f7da8c24820>],\n",
       " 'caps': [<matplotlib.lines.Line2D at 0x7f7e0aab9c10>,\n",
       "  <matplotlib.lines.Line2D at 0x7f7da8c24160>,\n",
       "  <matplotlib.lines.Line2D at 0x7f7da8af6be0>,\n",
       "  <matplotlib.lines.Line2D at 0x7f7da8af6190>],\n",
       " 'boxes': [<matplotlib.lines.Line2D at 0x7f7e0aab9910>,\n",
       "  <matplotlib.lines.Line2D at 0x7f7da8c243d0>],\n",
       " 'medians': [<matplotlib.lines.Line2D at 0x7f7da8c24760>,\n",
       "  <matplotlib.lines.Line2D at 0x7f7da8af6820>],\n",
       " 'fliers': [<matplotlib.lines.Line2D at 0x7f7da8c24eb0>,\n",
       "  <matplotlib.lines.Line2D at 0x7f7da8af6af0>],\n",
       " 'means': []}"
      ]
     },
     "execution_count": 61,
     "metadata": {},
     "output_type": "execute_result"
    },
    {
     "data": {
      "image/png": "[encoded data removed]",
      "text/plain": [
       "<Figure size 432x288 with 1 Axes>"
      ]
     },
     "metadata": {
      "needs_background": "light"
     },
     "output_type": "display_data"
    }
   ],
   "source": [
    "comb = [results_clean, results_anom]\n",
    "plt.boxplot(comb)"
   ]
  },
  {
   "cell_type": "markdown",
   "id": "f2dac367",
   "metadata": {},
   "source": [
    "# Clean tensor with modified data\n",
    "Using \"clean\" tensor from redefined clean egonets. \n",
    "\n",
    "See BC_EgoNet_Tensor.ipynb for details. "
   ]
  },
  {
   "cell_type": "code",
   "execution_count": 53,
   "id": "8483423f",
   "metadata": {},
   "outputs": [],
   "source": [
    "with open('decomp_mod.sav', 'rb') as f:\n",
    "    result = pickle.load(f)\n",
    "    f.close()\n",
    "    \n",
    "core, factors = result\n",
    "A, B, C = factors\n",
    "A, B, C, = np.array(A), np.array(B), np.array(C)"
   ]
  },
  {
   "cell_type": "markdown",
   "id": "9899f923",
   "metadata": {},
   "source": [
    "## Original Anomaly Definition"
   ]
  },
  {
   "cell_type": "code",
   "execution_count": 3,
   "id": "e16c1da6",
   "metadata": {
    "scrolled": false
   },
   "outputs": [
    {
     "name": "stdout",
     "output_type": "stream",
     "text": [
      "Graph with 5196 nodes and 172897 edges\n"
     ]
    }
   ],
   "source": [
    "bc_data = scipy.io.loadmat(\"graph-gan/dataset/BlogCatalog/blogcatalog.mat\")\n",
    "\n",
    "G = nx.from_scipy_sparse_array(bc_data[\"Network\"])\n",
    "# nx.set_node_attributes(G, bc_data[\"Attributes\"], 'Attributes')\n",
    "print(str(G))\n",
    "\n",
    "# convert list of lists to list\n",
    "labels = [j for i in bc_data[\"Label\"] for j in i]\n",
    "\n",
    "# Add labels to each node\n",
    "for i in range(len(G.nodes)):\n",
    "    G.nodes[i]['Anomaly'] = labels[i]"
   ]
  },
  {
   "cell_type": "code",
   "execution_count": 4,
   "id": "33310905",
   "metadata": {},
   "outputs": [],
   "source": [
    "def load_bc_data(G):\n",
    "\n",
    "    G = max((G.subgraph(c) for c in nx.connected_components(G)), key=len)\n",
    "    G = nx.convert_node_labels_to_integers(G)\n",
    "    ego_gs = []\n",
    "\n",
    "    max_graph = 0\n",
    "\n",
    "    for i in tqdm(range(G.number_of_nodes())):\n",
    "        G_ego = nx.ego_graph(G, i, radius=1)\n",
    "        if G_ego.number_of_nodes() >= 2:\n",
    "            ego_gs.append(G_ego)\n",
    "            if max_graph < G_ego.number_of_nodes():\n",
    "                max_graph = G_ego.number_of_nodes()\n",
    "\n",
    "    return G, ego_gs, max_graph"
   ]
  },
  {
   "cell_type": "code",
   "execution_count": 5,
   "id": "38133b12",
   "metadata": {
    "scrolled": false
   },
   "outputs": [
    {
     "data": {
      "application/vnd.jupyter.widget-view+json": {
       "model_id": "b52421ed6345441085eda6206be3be25",
       "version_major": 2,
       "version_minor": 0
      },
      "text/plain": [
       "  0%|          | 0/5196 [00:00<?, ?it/s]"
      ]
     },
     "metadata": {},
     "output_type": "display_data"
    }
   ],
   "source": [
    "G, ego_gs, _ = load_bc_data(G)"
   ]
  },
  {
   "cell_type": "code",
   "execution_count": 6,
   "id": "b14e3c9b",
   "metadata": {},
   "outputs": [],
   "source": [
    "# get anomalous egonets\n",
    "def is_anomolous(G):\n",
    "    for node in G.nodes():\n",
    "        if G.nodes[node]['Anomaly'] == 1:\n",
    "            return True\n",
    "    return False"
   ]
  },
  {
   "cell_type": "code",
   "execution_count": 7,
   "id": "3e125dd3",
   "metadata": {
    "scrolled": true
   },
   "outputs": [
    {
     "data": {
      "application/vnd.jupyter.widget-view+json": {
       "model_id": "7f2f837c7a7b4b808869a75c3c5d0cfe",
       "version_major": 2,
       "version_minor": 0
      },
      "text/plain": [
       "  0%|          | 0/5196 [00:00<?, ?it/s]"
      ]
     },
     "metadata": {},
     "output_type": "display_data"
    },
    {
     "name": "stdout",
     "output_type": "stream",
     "text": [
      "# of anomalous graphs: 4720/5196\n",
      "# of clean graphs: 476/5196\n"
     ]
    }
   ],
   "source": [
    "anom_gs, clean_gs = [], []\n",
    "for idx, g in enumerate(tqdm(ego_gs, total=len(ego_gs))):\n",
    "    # check if root is anomolous first\n",
    "    if is_anomolous(g):\n",
    "        anom_gs.append(g)\n",
    "    else:\n",
    "        clean_gs.append(g)\n",
    "\n",
    "print(f'# of anomalous graphs: {len(anom_gs)}/{len(ego_gs)}')\n",
    "print(f'# of clean graphs: {len(clean_gs)}/{len(ego_gs)}')"
   ]
  },
  {
   "cell_type": "code",
   "execution_count": 8,
   "id": "18a5f014",
   "metadata": {},
   "outputs": [
    {
     "data": {
      "application/vnd.jupyter.widget-view+json": {
       "model_id": "0b4f9af8adf34742abaae0d0e4f93083",
       "version_major": 2,
       "version_minor": 0
      },
      "text/plain": [
       "  0%|          | 0/4720 [00:00<?, ?it/s]"
      ]
     },
     "metadata": {},
     "output_type": "display_data"
    }
   ],
   "source": [
    "padded_anom = []\n",
    "for gs in tqdm(anom_gs):\n",
    "    g = nx.to_numpy_array(gs)\n",
    "    padded = np.zeros((1000, 1000))\n",
    "    padded[:g.shape[0], :g.shape[1]] = g\n",
    "    padded_anom.append(padded)"
   ]
  },
  {
   "cell_type": "code",
   "execution_count": 9,
   "id": "8a9545a7",
   "metadata": {},
   "outputs": [
    {
     "data": {
      "application/vnd.jupyter.widget-view+json": {
       "model_id": "33f91edf897243b0a63426d006cf4e82",
       "version_major": 2,
       "version_minor": 0
      },
      "text/plain": [
       "  0%|          | 0/476 [00:00<?, ?it/s]"
      ]
     },
     "metadata": {},
     "output_type": "display_data"
    }
   ],
   "source": [
    "padded_clean = []\n",
    "for gs in tqdm(clean_gs):\n",
    "    g = nx.to_numpy_array(gs)\n",
    "    padded = np.zeros((1000, 1000))\n",
    "    padded[:g.shape[0], :g.shape[1]] = g\n",
    "    padded_clean.append(padded)"
   ]
  },
  {
   "cell_type": "code",
   "execution_count": 10,
   "id": "c514495d",
   "metadata": {},
   "outputs": [
    {
     "data": {
      "application/vnd.jupyter.widget-view+json": {
       "model_id": "e4ea9a1abe0f4430a54907a07351f9c5",
       "version_major": 2,
       "version_minor": 0
      },
      "text/plain": [
       "  0%|          | 0/4720 [00:00<?, ?it/s]"
      ]
     },
     "metadata": {},
     "output_type": "display_data"
    }
   ],
   "source": [
    "results_anom = []\n",
    "for gs in tqdm(padded_anom):\n",
    "    gs_p = (A @ ((A.T @ gs) @ B) @ B.T)\n",
    "    d = np.linalg.norm(gs - gs_p)\n",
    "    results_anom.append(d)"
   ]
  },
  {
   "cell_type": "code",
   "execution_count": 11,
   "id": "72656a88",
   "metadata": {},
   "outputs": [
    {
     "data": {
      "application/vnd.jupyter.widget-view+json": {
       "model_id": "37f89abc10e04bc18f686bcbf2b530dd",
       "version_major": 2,
       "version_minor": 0
      },
      "text/plain": [
       "  0%|          | 0/476 [00:00<?, ?it/s]"
      ]
     },
     "metadata": {},
     "output_type": "display_data"
    }
   ],
   "source": [
    "results_clean = []\n",
    "for gs in tqdm(padded_clean):\n",
    "    gs_p = (A @ ((A.T @ gs) @ B) @ B.T)\n",
    "    d = np.linalg.norm(gs - gs_p)\n",
    "    results_clean.append(d)"
   ]
  },
  {
   "cell_type": "code",
   "execution_count": 13,
   "id": "9093dbd5",
   "metadata": {},
   "outputs": [],
   "source": [
    "# storing results\n",
    "saved_model = open('rec_error_clean.sav', 'wb')\n",
    "pickle.dump(results_clean, saved_model)\n",
    "saved_model.close()\n",
    "\n",
    "saved_model = open('rec_error_anom.sav', 'wb')\n",
    "pickle.dump(results_anom, saved_model)\n",
    "saved_model.close()"
   ]
  },
  {
   "cell_type": "code",
   "execution_count": 13,
   "id": "cf0958db",
   "metadata": {},
   "outputs": [
    {
     "name": "stdout",
     "output_type": "stream",
     "text": [
      "150.97796514367164 4.725902291534618\n",
      "29.62832336219839 3.0777877970519065\n"
     ]
    }
   ],
   "source": [
    "print(max(results_anom), min(results_anom))\n",
    "print(max(results_clean), min(results_clean))"
   ]
  },
  {
   "cell_type": "code",
   "execution_count": 15,
   "id": "dd5f345e",
   "metadata": {},
   "outputs": [],
   "source": [
    "anom_y = np.zeros(len(results_anom))\n",
    "clean_y = np.zeros(len(results_clean))"
   ]
  },
  {
   "cell_type": "code",
   "execution_count": 16,
   "id": "e2530e6e",
   "metadata": {
    "scrolled": true
   },
   "outputs": [
    {
     "data": {
      "text/plain": [
       "<matplotlib.legend.Legend at 0x7f84a2b13940>"
      ]
     },
     "execution_count": 16,
     "metadata": {},
     "output_type": "execute_result"
    },
    {
     "data": {
      "image/png": "[encoded data removed]",
      "text/plain": [
       "<Figure size 432x288 with 1 Axes>"
      ]
     },
     "metadata": {
      "needs_background": "light"
     },
     "output_type": "display_data"
    }
   ],
   "source": [
    "sns.scatterplot(x=results_anom, y=anom_y, marker='x')\n",
    "sns.scatterplot(x=results_clean, y=clean_y, marker='o')\n",
    "\n",
    "plt.legend(['Anom', 'Clean'])"
   ]
  },
  {
   "cell_type": "code",
   "execution_count": 15,
   "id": "7cc28e65",
   "metadata": {
    "scrolled": false
   },
   "outputs": [
    {
     "data": {
      "text/plain": [
       "<AxesSubplot:ylabel='Count'>"
      ]
     },
     "execution_count": 15,
     "metadata": {},
     "output_type": "execute_result"
    },
    {
     "data": {
      "image/png": "[encoded data removed]",
      "text/plain": [
       "<Figure size 432x288 with 1 Axes>"
      ]
     },
     "metadata": {
      "needs_background": "light"
     },
     "output_type": "display_data"
    }
   ],
   "source": [
    "sns.histplot(results_anom)\n",
    "sns.histplot(results_clean, ax=plt.gca())"
   ]
  },
  {
   "cell_type": "code",
   "execution_count": 16,
   "id": "0af511b1",
   "metadata": {
    "scrolled": true
   },
   "outputs": [
    {
     "data": {
      "text/plain": [
       "{'whiskers': [<matplotlib.lines.Line2D at 0x7fb25c1bbfd0>,\n",
       "  <matplotlib.lines.Line2D at 0x7fb25ba392e0>,\n",
       "  <matplotlib.lines.Line2D at 0x7fb25ba3a400>,\n",
       "  <matplotlib.lines.Line2D at 0x7fb25ba3a6d0>],\n",
       " 'caps': [<matplotlib.lines.Line2D at 0x7fb25ba39670>,\n",
       "  <matplotlib.lines.Line2D at 0x7fb25ba39880>,\n",
       "  <matplotlib.lines.Line2D at 0x7fb25ba3a9a0>,\n",
       "  <matplotlib.lines.Line2D at 0x7fb25ba3ac70>],\n",
       " 'boxes': [<matplotlib.lines.Line2D at 0x7fb25c1bbd00>,\n",
       "  <matplotlib.lines.Line2D at 0x7fb25ba3a130>],\n",
       " 'medians': [<matplotlib.lines.Line2D at 0x7fb25ba39b50>,\n",
       "  <matplotlib.lines.Line2D at 0x7fb25ba3af40>],\n",
       " 'fliers': [<matplotlib.lines.Line2D at 0x7fb25ba39e20>,\n",
       "  <matplotlib.lines.Line2D at 0x7fb25ba21250>],\n",
       " 'means': []}"
      ]
     },
     "execution_count": 16,
     "metadata": {},
     "output_type": "execute_result"
    },
    {
     "data": {
      "image/png": "[encoded data removed]",
      "text/plain": [
       "<Figure size 432x288 with 1 Axes>"
      ]
     },
     "metadata": {
      "needs_background": "light"
     },
     "output_type": "display_data"
    }
   ],
   "source": [
    "comb = [results_clean, results_anom]\n",
    "plt.boxplot(comb)"
   ]
  },
  {
   "cell_type": "markdown",
   "id": "ea3593b4",
   "metadata": {},
   "source": [
    "# 2-means clustering"
   ]
  },
  {
   "cell_type": "code",
   "execution_count": 2,
   "id": "1b5ce9ff",
   "metadata": {},
   "outputs": [],
   "source": [
    "with open('rec_error_clean.sav', 'rb') as f:\n",
    "    results_clean = pickle.load(f)\n",
    "    f.close()\n",
    "    \n",
    "with open('rec_error_anom.sav', 'rb') as f:\n",
    "    results_anom = pickle.load(f)\n",
    "    f.close()"
   ]
  },
  {
   "cell_type": "code",
   "execution_count": 3,
   "id": "beb4953c",
   "metadata": {},
   "outputs": [],
   "source": [
    "results = []\n",
    "results.extend(results_anom); results.extend(results_clean)"
   ]
  },
  {
   "cell_type": "code",
   "execution_count": 4,
   "id": "fa072b6c",
   "metadata": {},
   "outputs": [
    {
     "data": {
      "text/plain": [
       "array([[14.60334512],\n",
       "       [67.27261932],\n",
       "       [23.5805774 ],\n",
       "       ...,\n",
       "       [10.84822317],\n",
       "       [25.45649103],\n",
       "       [ 7.90701136]])"
      ]
     },
     "execution_count": 4,
     "metadata": {},
     "output_type": "execute_result"
    }
   ],
   "source": [
    "results = np.array(results).reshape(-1, 1)\n",
    "np.random.shuffle(results)\n",
    "\n",
    "results"
   ]
  },
  {
   "cell_type": "code",
   "execution_count": 6,
   "id": "443d76aa",
   "metadata": {},
   "outputs": [],
   "source": [
    "kmeans = KMeans(n_clusters=2, random_state=1).fit(results)"
   ]
  },
  {
   "cell_type": "code",
   "execution_count": 11,
   "id": "e400baca",
   "metadata": {
    "scrolled": false
   },
   "outputs": [
    {
     "data": {
      "text/plain": [
       "<AxesSubplot:>"
      ]
     },
     "execution_count": 11,
     "metadata": {},
     "output_type": "execute_result"
    },
    {
     "data": {
      "image/png": "[encoded data removed]",
      "text/plain": [
       "<Figure size 432x288 with 1 Axes>"
      ]
     },
     "metadata": {
      "needs_background": "light"
     },
     "output_type": "display_data"
    }
   ],
   "source": [
    "sns.scatterplot(x=results.flatten(), y=np.zeros(len(results)), hue=kmeans.labels_)"
   ]
  },
  {
   "cell_type": "markdown",
   "id": "0cb5a490",
   "metadata": {},
   "source": [
    "## Redefined Anomalies"
   ]
  },
  {
   "cell_type": "code",
   "execution_count": 33,
   "id": "d808512d",
   "metadata": {},
   "outputs": [
    {
     "name": "stdout",
     "output_type": "stream",
     "text": [
      "Graph with 5196 nodes and 172897 edges\n"
     ]
    },
    {
     "name": "stderr",
     "output_type": "stream",
     "text": [
      "/var/folders/80/w14y6f9s2_g49cyn7jpfhrfh0000gn/T/ipykernel_30150/680799908.py:5: DeprecationWarning: info is deprecated and will be removed in version 3.0.\n",
      "\n",
      "  print(nx.info(G))\n"
     ]
    }
   ],
   "source": [
    "bc_data = scipy.io.loadmat(\"graph-gan/dataset/BlogCatalog/blogcatalog.mat\")\n",
    "\n",
    "G = nx.from_scipy_sparse_array(bc_data[\"Network\"])\n",
    "# nx.set_node_attributes(G, bc_data[\"Attributes\"], 'Attributes')\n",
    "print(nx.info(G))\n",
    "\n",
    "# convert list of lists to list\n",
    "labels = [j for i in bc_data[\"Label\"] for j in i]\n",
    "\n",
    "# Add labels to each node\n",
    "for i in range(len(G.nodes)):\n",
    "    G.nodes[i]['Anomaly'] = labels[i]"
   ]
  },
  {
   "cell_type": "code",
   "execution_count": 34,
   "id": "2c15e9f2",
   "metadata": {},
   "outputs": [],
   "source": [
    "def load_bc_data(G):\n",
    "\n",
    "    G = max((G.subgraph(c) for c in nx.connected_components(G)), key=len)\n",
    "    G = nx.convert_node_labels_to_integers(G)\n",
    "    ego_gs, roots = [], []\n",
    "\n",
    "    for i in tqdm(range(G.number_of_nodes())):\n",
    "        roots.append(G.nodes[i]['Anomaly'])\n",
    "        G_ego = nx.ego_graph(G, i, radius=1)\n",
    "        if G_ego.number_of_nodes() >= 2:\n",
    "            ego_gs.append(G_ego)\n",
    "\n",
    "    return G, ego_gs, roots"
   ]
  },
  {
   "cell_type": "code",
   "execution_count": 35,
   "id": "117f38ec",
   "metadata": {},
   "outputs": [
    {
     "data": {
      "application/vnd.jupyter.widget-view+json": {
       "model_id": "863a06908a3d436e8ffe6a6af797029e",
       "version_major": 2,
       "version_minor": 0
      },
      "text/plain": [
       "  0%|          | 0/5196 [00:00<?, ?it/s]"
      ]
     },
     "metadata": {},
     "output_type": "display_data"
    }
   ],
   "source": [
    "G, ego_gs, roots = load_bc_data(G)"
   ]
  },
  {
   "cell_type": "code",
   "execution_count": 36,
   "id": "eae16280",
   "metadata": {},
   "outputs": [],
   "source": [
    "roots = [int(r) for r in roots]"
   ]
  },
  {
   "cell_type": "code",
   "execution_count": 37,
   "id": "58c08ded",
   "metadata": {
    "scrolled": true
   },
   "outputs": [
    {
     "data": {
      "application/vnd.jupyter.widget-view+json": {
       "model_id": "475c610e5a9a43b6b22f3301580ad830",
       "version_major": 2,
       "version_minor": 0
      },
      "text/plain": [
       "  0%|          | 0/5196 [00:00<?, ?it/s]"
      ]
     },
     "metadata": {},
     "output_type": "display_data"
    },
    {
     "name": "stdout",
     "output_type": "stream",
     "text": [
      "# of anomalous graphs: 298/5196\n",
      "# of clean graphs: 4898/5196\n"
     ]
    }
   ],
   "source": [
    "anom_gs, clean_gs = [], []\n",
    "for idx, root_attr in enumerate(tqdm(roots)):\n",
    "    if root_attr == 1:\n",
    "        anom_gs.append(ego_gs[idx])\n",
    "    else:\n",
    "        clean_gs.append(ego_gs[idx])\n",
    "        \n",
    "print(f'# of anomalous graphs: {len(anom_gs)}/{len(ego_gs)}')\n",
    "print(f'# of clean graphs: {len(clean_gs)}/{len(ego_gs)}')"
   ]
  },
  {
   "cell_type": "code",
   "execution_count": 38,
   "id": "ee3802c7",
   "metadata": {},
   "outputs": [
    {
     "data": {
      "application/vnd.jupyter.widget-view+json": {
       "model_id": "7d402a4752c04044994f5191f56ee974",
       "version_major": 2,
       "version_minor": 0
      },
      "text/plain": [
       "  0%|          | 0/298 [00:00<?, ?it/s]"
      ]
     },
     "metadata": {},
     "output_type": "display_data"
    }
   ],
   "source": [
    "padded_anom = []\n",
    "for gs in tqdm(anom_gs):\n",
    "    g = nx.to_numpy_array(gs)\n",
    "    padded = np.zeros((1000, 1000))\n",
    "    padded[:g.shape[0], :g.shape[1]] = g\n",
    "    padded_anom.append(padded)"
   ]
  },
  {
   "cell_type": "code",
   "execution_count": 39,
   "id": "69994ec4",
   "metadata": {},
   "outputs": [
    {
     "data": {
      "application/vnd.jupyter.widget-view+json": {
       "model_id": "66e65d46f0224815876605b25b8368d4",
       "version_major": 2,
       "version_minor": 0
      },
      "text/plain": [
       "  0%|          | 0/4898 [00:00<?, ?it/s]"
      ]
     },
     "metadata": {},
     "output_type": "display_data"
    }
   ],
   "source": [
    "padded_clean = []\n",
    "for gs in tqdm(clean_gs):\n",
    "    g = nx.to_numpy_array(gs)\n",
    "    padded = np.zeros((1000, 1000))\n",
    "    padded[:g.shape[0], :g.shape[1]] = g\n",
    "    padded_clean.append(padded)"
   ]
  },
  {
   "cell_type": "code",
   "execution_count": 40,
   "id": "0a1a0d12",
   "metadata": {},
   "outputs": [
    {
     "data": {
      "application/vnd.jupyter.widget-view+json": {
       "model_id": "6187a337c6be4f6eae8b63d830672b03",
       "version_major": 2,
       "version_minor": 0
      },
      "text/plain": [
       "  0%|          | 0/298 [00:00<?, ?it/s]"
      ]
     },
     "metadata": {},
     "output_type": "display_data"
    }
   ],
   "source": [
    "results_anom = []\n",
    "for gs in tqdm(padded_anom):\n",
    "    gs_p = (A @ ((A.T @ gs) @ B) @ B.T)\n",
    "    d = np.linalg.norm(gs - gs_p)\n",
    "    results_anom.append(d)"
   ]
  },
  {
   "cell_type": "code",
   "execution_count": 41,
   "id": "860b32d7",
   "metadata": {},
   "outputs": [
    {
     "data": {
      "application/vnd.jupyter.widget-view+json": {
       "model_id": "58504f2efd39488688b3fe8b9042d5c9",
       "version_major": 2,
       "version_minor": 0
      },
      "text/plain": [
       "  0%|          | 0/4898 [00:00<?, ?it/s]"
      ]
     },
     "metadata": {},
     "output_type": "display_data"
    }
   ],
   "source": [
    "results_clean = []\n",
    "for gs in tqdm(padded_clean):\n",
    "    gs_p = (A @ ((A.T @ gs) @ B) @ B.T)\n",
    "    d = np.linalg.norm(gs - gs_p)\n",
    "    results_clean.append(d)"
   ]
  },
  {
   "cell_type": "code",
   "execution_count": 42,
   "id": "f5baa1aa",
   "metadata": {},
   "outputs": [],
   "source": [
    "# storing results\n",
    "saved_model = open('rec_error_clean_mod.sav', 'wb')\n",
    "pickle.dump(results_clean, saved_model)\n",
    "saved_model.close()\n",
    "\n",
    "saved_model = open('rec_error_anom_mod.sav', 'wb')\n",
    "pickle.dump(results_anom, saved_model)\n",
    "saved_model.close()"
   ]
  },
  {
   "cell_type": "code",
   "execution_count": 43,
   "id": "02c29b3e",
   "metadata": {},
   "outputs": [],
   "source": [
    "anom_y = np.zeros(len(results_anom))\n",
    "clean_y = np.zeros(len(results_clean))"
   ]
  },
  {
   "cell_type": "code",
   "execution_count": 44,
   "id": "a5eda66f",
   "metadata": {},
   "outputs": [
    {
     "data": {
      "text/plain": [
       "<matplotlib.legend.Legend at 0x7fd22fce19a0>"
      ]
     },
     "execution_count": 44,
     "metadata": {},
     "output_type": "execute_result"
    },
    {
     "data": {
      "image/png": "[encoded data removed]",
      "text/plain": [
       "<Figure size 432x288 with 1 Axes>"
      ]
     },
     "metadata": {
      "needs_background": "light"
     },
     "output_type": "display_data"
    }
   ],
   "source": [
    "sns.scatterplot(x=results_clean, y=clean_y, marker='o')\n",
    "sns.scatterplot(x=results_anom, y=anom_y, marker='x')\n",
    "\n",
    "plt.legend(['Anom', 'Clean'])"
   ]
  },
  {
   "cell_type": "code",
   "execution_count": 45,
   "id": "891a6f9e",
   "metadata": {},
   "outputs": [
    {
     "data": {
      "text/plain": [
       "<AxesSubplot:ylabel='Count'>"
      ]
     },
     "execution_count": 45,
     "metadata": {},
     "output_type": "execute_result"
    },
    {
     "data": {
      "image/png": "[encoded data removed]",
      "text/plain": [
       "<Figure size 432x288 with 1 Axes>"
      ]
     },
     "metadata": {
      "needs_background": "light"
     },
     "output_type": "display_data"
    }
   ],
   "source": [
    "sns.histplot(results_anom)\n",
    "sns.histplot(results_clean, ax=plt.gca())"
   ]
  },
  {
   "cell_type": "code",
   "execution_count": 46,
   "id": "4215ac2c",
   "metadata": {
    "scrolled": true
   },
   "outputs": [
    {
     "data": {
      "text/plain": [
       "{'whiskers': [<matplotlib.lines.Line2D at 0x7fd940a24e50>,\n",
       "  <matplotlib.lines.Line2D at 0x7fd9503c0160>,\n",
       "  <matplotlib.lines.Line2D at 0x7fd9503b62b0>,\n",
       "  <matplotlib.lines.Line2D at 0x7fd9503b6580>],\n",
       " 'caps': [<matplotlib.lines.Line2D at 0x7fd9503c04f0>,\n",
       "  <matplotlib.lines.Line2D at 0x7fd9503c0700>,\n",
       "  <matplotlib.lines.Line2D at 0x7fd9503b6850>,\n",
       "  <matplotlib.lines.Line2D at 0x7fd9503b6b20>],\n",
       " 'boxes': [<matplotlib.lines.Line2D at 0x7fd940a24b80>,\n",
       "  <matplotlib.lines.Line2D at 0x7fd9503c0f70>],\n",
       " 'medians': [<matplotlib.lines.Line2D at 0x7fd9503c09d0>,\n",
       "  <matplotlib.lines.Line2D at 0x7fd9503b6df0>],\n",
       " 'fliers': [<matplotlib.lines.Line2D at 0x7fd9503c0ca0>,\n",
       "  <matplotlib.lines.Line2D at 0x7fd9503d3100>],\n",
       " 'means': []}"
      ]
     },
     "execution_count": 46,
     "metadata": {},
     "output_type": "execute_result"
    },
    {
     "data": {
      "image/png": "[encoded data removed]",
      "text/plain": [
       "<Figure size 432x288 with 1 Axes>"
      ]
     },
     "metadata": {
      "needs_background": "light"
     },
     "output_type": "display_data"
    }
   ],
   "source": [
    "comb = [results_clean, results_anom]\n",
    "plt.boxplot(comb)"
   ]
  },
  {
   "cell_type": "markdown",
   "id": "a5734e61",
   "metadata": {},
   "source": [
    "# 2-means clustering"
   ]
  },
  {
   "cell_type": "code",
   "execution_count": 47,
   "id": "be56027a",
   "metadata": {},
   "outputs": [],
   "source": [
    "with open('rec_error_clean_mod.sav', 'rb') as f:\n",
    "    results_clean = pickle.load(f)\n",
    "    f.close()\n",
    "    \n",
    "with open('rec_error_anom_mod.sav', 'rb') as f:\n",
    "    results_anom = pickle.load(f)\n",
    "    f.close()"
   ]
  },
  {
   "cell_type": "code",
   "execution_count": 48,
   "id": "fb60851b",
   "metadata": {},
   "outputs": [],
   "source": [
    "results = []\n",
    "results.extend(results_anom); results.extend(results_clean)"
   ]
  },
  {
   "cell_type": "code",
   "execution_count": 49,
   "id": "c7f7fbd8",
   "metadata": {},
   "outputs": [
    {
     "data": {
      "text/plain": [
       "array([[30.63866399],\n",
       "       [21.40855262],\n",
       "       [20.17653066],\n",
       "       ...,\n",
       "       [21.65171333],\n",
       "       [13.32984479],\n",
       "       [35.97166138]])"
      ]
     },
     "execution_count": 49,
     "metadata": {},
     "output_type": "execute_result"
    }
   ],
   "source": [
    "results = np.array(results).reshape(-1, 1)\n",
    "np.random.shuffle(results)\n",
    "\n",
    "results"
   ]
  },
  {
   "cell_type": "code",
   "execution_count": 50,
   "id": "71c4e32e",
   "metadata": {},
   "outputs": [],
   "source": [
    "kmeans = KMeans(n_clusters=2, random_state=1).fit(results)"
   ]
  },
  {
   "cell_type": "code",
   "execution_count": 51,
   "id": "d7c877bc",
   "metadata": {
    "scrolled": false
   },
   "outputs": [
    {
     "data": {
      "text/plain": [
       "<AxesSubplot:>"
      ]
     },
     "execution_count": 51,
     "metadata": {},
     "output_type": "execute_result"
    },
    {
     "data": {
      "image/png": "[encoded data removed]",
      "text/plain": [
       "<Figure size 432x288 with 1 Axes>"
      ]
     },
     "metadata": {
      "needs_background": "light"
     },
     "output_type": "display_data"
    }
   ],
   "source": [
    "sns.scatterplot(x=results.flatten(), y=np.zeros(len(results)), hue=kmeans.labels_)"
   ]
  }
 ],
 "metadata": {
  "kernelspec": {
   "display_name": "Python 3 (ipykernel)",
   "language": "python",
   "name": "python3"
  },
  "language_info": {
   "codemirror_mode": {
    "name": "ipython",
    "version": 3
   },
   "file_extension": ".py",
   "mimetype": "text/x-python",
   "name": "python",
   "nbconvert_exporter": "python",
   "pygments_lexer": "ipython3",
   "version": "3.9.12"
  }
 },
 "nbformat": 4,
 "nbformat_minor": 5
}
