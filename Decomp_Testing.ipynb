{
 "cells": [
  {
   "cell_type": "code",
   "execution_count": 42,
   "id": "97f3bfca",
   "metadata": {},
   "outputs": [],
   "source": [
    "import torch\n",
    "\n",
    "import networkx as nx\n",
    "\n",
    "import numpy as np\n",
    "    \n",
    "import pandas as pd\n",
    "\n",
    "import scipy.io\n",
    "\n",
    "from itertools import combinations as comb\n",
    "\n",
    "from tqdm.notebook import tqdm\n",
    "\n",
    "import pickle\n",
    "\n",
    "import matplotlib.pyplot as plt\n",
    "\n",
    "import seaborn as sns\n",
    "\n",
    "from sklearn.cluster import KMeans, MiniBatchKMeans"
   ]
  },
  {
   "cell_type": "markdown",
   "id": "e2a39f53",
   "metadata": {},
   "source": [
    "# Clean Tensor from Separate Data\n",
    "Using Tensor constructed from separate data without anomaly injections"
   ]
  },
  {
   "cell_type": "code",
   "execution_count": 38,
   "id": "466a4e98",
   "metadata": {},
   "outputs": [
    {
     "name": "stdout",
     "output_type": "stream",
     "text": [
      "Graph with 5196 nodes and 172897 edges\n"
     ]
    },
    {
     "name": "stderr",
     "output_type": "stream",
     "text": [
      "/var/folders/80/w14y6f9s2_g49cyn7jpfhrfh0000gn/T/ipykernel_47718/621034405.py:5: DeprecationWarning: info is deprecated and will be removed in version 3.0.\n",
      "\n",
      "  print(nx.info(G))\n"
     ]
    }
   ],
   "source": [
    "bc_data = scipy.io.loadmat(\"datasets/blogcatalog.mat\")\n",
    "\n",
    "G = nx.from_scipy_sparse_array(bc_data[\"Network\"])\n",
    "# nx.set_node_attributes(G, bc_data[\"Attributes\"], 'Attributes')\n",
    "print(str(G))\n",
    "\n",
    "# convert list of lists to list\n",
    "labels = [j for i in bc_data[\"Label\"] for j in i]\n",
    "\n",
    "# Add labels to each node\n",
    "for i in range(len(G.nodes)):\n",
    "    G.nodes[i]['Anomaly'] = labels[i]"
   ]
  },
  {
   "cell_type": "code",
   "execution_count": 39,
   "id": "7be979a4",
   "metadata": {
    "scrolled": true
   },
   "outputs": [
    {
     "data": {
      "text/plain": [
       "Text(0, 0.5, 'Frequency')"
      ]
     },
     "execution_count": 39,
     "metadata": {},
     "output_type": "execute_result"
    },
    {
     "data": {
      "image/png": "[encoded data removed]",
      "text/plain": [
       "<Figure size 432x288 with 1 Axes>"
      ]
     },
     "metadata": {
      "needs_background": "light"
     },
     "output_type": "display_data"
    }
   ],
   "source": [
    "plt.hist(nx.degree_histogram(G))\n",
    "plt.xlabel('Degree')\n",
    "plt.ylabel('Frequency')"
   ]
  },
  {
   "cell_type": "code",
   "execution_count": 40,
   "id": "1c9289d2",
   "metadata": {},
   "outputs": [],
   "source": [
    "def load_bc_data(G):\n",
    "\n",
    "    G = max((G.subgraph(c) for c in nx.connected_components(G)), key=len)\n",
    "    G = nx.convert_node_labels_to_integers(G)\n",
    "    ego_gs = []\n",
    "\n",
    "    max_graph = 0\n",
    "\n",
    "    for i in tqdm(range(G.number_of_nodes())):\n",
    "        G_ego = nx.ego_graph(G, i, radius=1)\n",
    "        if G_ego.number_of_nodes() >= 2:\n",
    "            ego_gs.append(G_ego)\n",
    "            if max_graph < G_ego.number_of_nodes():\n",
    "                max_graph = G_ego.number_of_nodes()\n",
    "\n",
    "    return G, ego_gs, max_graph"
   ]
  },
  {
   "cell_type": "code",
   "execution_count": null,
   "id": "35c78216",
   "metadata": {
    "scrolled": true
   },
   "outputs": [],
   "source": [
    "G, ego_gs, _ = load_bc_data(G)"
   ]
  },
  {
   "cell_type": "code",
   "execution_count": null,
   "id": "f6a93de2",
   "metadata": {},
   "outputs": [],
   "source": [
    "# get anomalous egonets\n",
    "def is_anomolous(G):\n",
    "    for node in G.nodes():\n",
    "        if G.nodes[node]['Anomaly'] == 1:\n",
    "            return True\n",
    "    return False"
   ]
  },
  {
   "cell_type": "code",
   "execution_count": null,
   "id": "b6a845be",
   "metadata": {},
   "outputs": [],
   "source": [
    "anom_gs, clean_gs = [], []\n",
    "for idx, g in enumerate(tqdm(ego_gs, total=len(ego_gs))):\n",
    "    # check if root is anomolous first\n",
    "    if is_anomolous(g):\n",
    "        anom_gs.append(g)\n",
    "    else:\n",
    "        clean_gs.append(g)\n",
    "\n",
    "print(f'# of anomalous graphs: {len(anom_gs)}/{len(ego_gs)}')\n",
    "print(f'# of clean graphs: {len(clean_gs)}/{len(ego_gs)}')"
   ]
  },
  {
   "cell_type": "code",
   "execution_count": null,
   "id": "5e83dd87",
   "metadata": {},
   "outputs": [],
   "source": [
    "with open('decomp.sav', 'rb') as f:\n",
    "    result = pickle.load(f)\n",
    "    f.close()"
   ]
  },
  {
   "cell_type": "code",
   "execution_count": null,
   "id": "c84e9ed9",
   "metadata": {},
   "outputs": [],
   "source": [
    "core, factors = result"
   ]
  },
  {
   "cell_type": "code",
   "execution_count": null,
   "id": "b596d74d",
   "metadata": {},
   "outputs": [],
   "source": [
    "A, B, C = factors"
   ]
  },
  {
   "cell_type": "code",
   "execution_count": null,
   "id": "ffc3a816",
   "metadata": {},
   "outputs": [],
   "source": [
    "A, B, C, = np.array(A), np.array(B), np.array(C)"
   ]
  },
  {
   "cell_type": "code",
   "execution_count": null,
   "id": "5ab96213",
   "metadata": {},
   "outputs": [],
   "source": [
    "padded_anom = []\n",
    "for gs in tqdm(anom_gs):\n",
    "    g = nx.to_numpy_array(gs)\n",
    "    padded = np.zeros((1000, 1000))\n",
    "    padded[:g.shape[0], :g.shape[1]] = g\n",
    "    padded_anom.append(padded)"
   ]
  },
  {
   "cell_type": "code",
   "execution_count": null,
   "id": "95a671dd",
   "metadata": {},
   "outputs": [],
   "source": [
    "padded_clean = []\n",
    "for gs in tqdm(clean_gs):\n",
    "    g = nx.to_numpy_array(gs)\n",
    "    padded = np.zeros((1000, 1000))\n",
    "    padded[:g.shape[0], :g.shape[1]] = g\n",
    "    padded_clean.append(padded)"
   ]
  },
  {
   "cell_type": "code",
   "execution_count": null,
   "id": "267c7b3f",
   "metadata": {},
   "outputs": [],
   "source": [
    "results_anom = []\n",
    "for gs in tqdm(padded_anom):\n",
    "    gs_p = (A @ ((A.T @ gs) @ B) @ B.T)\n",
    "    d = np.linalg.norm(gs - gs_p)\n",
    "    results_anom.append(d)"
   ]
  },
  {
   "cell_type": "code",
   "execution_count": null,
   "id": "a5bfe03a",
   "metadata": {},
   "outputs": [],
   "source": [
    "results_clean = []\n",
    "for gs in tqdm(padded_clean):\n",
    "    gs_p = (A @ ((A.T @ gs) @ B) @ B.T)\n",
    "    d = np.linalg.norm(gs - gs_p)\n",
    "    results_clean.append(d)"
   ]
  },
  {
   "cell_type": "code",
   "execution_count": null,
   "id": "7f621010",
   "metadata": {},
   "outputs": [],
   "source": [
    "print(max(results_anom), min(results_anom))\n",
    "print(max(results_clean), min(results_clean))"
   ]
  },
  {
   "cell_type": "code",
   "execution_count": null,
   "id": "be65a99d",
   "metadata": {},
   "outputs": [],
   "source": [
    "anom_y = np.zeros(len(results_anom))\n",
    "clean_y = np.zeros(len(results_clean))"
   ]
  },
  {
   "cell_type": "code",
   "execution_count": null,
   "id": "ba693c63",
   "metadata": {
    "scrolled": true
   },
   "outputs": [],
   "source": [
    "sns.scatterplot(x=results_anom, y=anom_y, marker='x')\n",
    "sns.scatterplot(x=results_clean, y=clean_y, marker='o')\n",
    "\n",
    "plt.legend(['Anom', 'Clean'])"
   ]
  },
  {
   "cell_type": "code",
   "execution_count": null,
   "id": "d431fde0",
   "metadata": {
    "scrolled": false
   },
   "outputs": [],
   "source": [
    "sns.histplot(results_anom)\n",
    "sns.histplot(results_clean, ax=plt.gca())"
   ]
  },
  {
   "cell_type": "code",
   "execution_count": null,
   "id": "66d4bd6d",
   "metadata": {},
   "outputs": [],
   "source": [
    "comb = [results_clean, results_anom]"
   ]
  },
  {
   "cell_type": "code",
   "execution_count": null,
   "id": "7b55e740",
   "metadata": {
    "scrolled": true
   },
   "outputs": [],
   "source": [
    "plt.boxplot(comb)"
   ]
  },
  {
   "cell_type": "code",
   "execution_count": null,
   "id": "e622e607",
   "metadata": {},
   "outputs": [],
   "source": [
    "# using non-anomolous nodes from original data (no anomalies)\n",
    "\n",
    "with open('egonets.sav', 'rb') as f:\n",
    "    ego_gs = pickle.load(f)\n",
    "    f.close()\n",
    "\n",
    "print(f'Using {len(ego_gs)} egonets')"
   ]
  },
  {
   "cell_type": "code",
   "execution_count": null,
   "id": "6de67a95",
   "metadata": {},
   "outputs": [],
   "source": [
    "indices = np.random.randint(0, len(anom_gs), size=len(clean_gs))\n",
    "\n",
    "sampled_anoms = np.array(anom_gs, dtype=object)[indices]"
   ]
  },
  {
   "cell_type": "code",
   "execution_count": null,
   "id": "f13faa73",
   "metadata": {},
   "outputs": [],
   "source": [
    "padded_anom = []\n",
    "for gs in tqdm(sampled_anoms):\n",
    "    g = nx.to_numpy_array(gs)\n",
    "    padded = np.zeros((1000, 1000))\n",
    "    padded[:g.shape[0], :g.shape[1]] = g\n",
    "    padded_anom.append(padded)"
   ]
  },
  {
   "cell_type": "code",
   "execution_count": null,
   "id": "75618784",
   "metadata": {},
   "outputs": [],
   "source": [
    "results_anom = []\n",
    "indices = np.random.randint(0, len(padded_anom), size=len(padded_clean))\n",
    "for gs in tqdm(padded_anom):\n",
    "    gs_p = (A @ ((A.T @ gs) @ B) @ B.T)\n",
    "    d = np.linalg.norm(gs - gs_p)\n",
    "    results_anom.append(d)"
   ]
  },
  {
   "cell_type": "code",
   "execution_count": null,
   "id": "6536ed29",
   "metadata": {},
   "outputs": [],
   "source": [
    "anom_y = np.zeros(len(results_anom))"
   ]
  },
  {
   "cell_type": "code",
   "execution_count": null,
   "id": "a2851c97",
   "metadata": {
    "scrolled": true
   },
   "outputs": [],
   "source": [
    "sns.scatterplot(x=results_anom, y=anom_y, marker='x')\n",
    "sns.scatterplot(x=results_clean, y=clean_y, marker='o')\n",
    "\n",
    "plt.legend(['Anom', 'Clean'])"
   ]
  },
  {
   "cell_type": "markdown",
   "id": "96d34ae8",
   "metadata": {},
   "source": [
    "## Redefine Anomalies\n",
    "Redefining anomalies egonets as egonets with root node as anomalous"
   ]
  },
  {
   "cell_type": "code",
   "execution_count": null,
   "id": "4ad94f50",
   "metadata": {},
   "outputs": [],
   "source": [
    "bc_data = scipy.io.loadmat(\"datasets/blogcatalog.mat\")\n",
    "\n",
    "G = nx.from_scipy_sparse_array(bc_data[\"Network\"])\n",
    "# nx.set_node_attributes(G, bc_data[\"Attributes\"], 'Attributes')\n",
    "print(str(G))\n",
    "\n",
    "# convert list of lists to list\n",
    "labels = [j for i in bc_data[\"Label\"] for j in i]\n",
    "\n",
    "# Add labels to each node\n",
    "for i in range(len(G.nodes)):\n",
    "    G.nodes[i]['Anomaly'] = labels[i]"
   ]
  },
  {
   "cell_type": "code",
   "execution_count": null,
   "id": "c7fae5e4",
   "metadata": {},
   "outputs": [],
   "source": [
    "def load_bc_data(G):\n",
    "\n",
    "    G = max((G.subgraph(c) for c in nx.connected_components(G)), key=len)\n",
    "    G = nx.convert_node_labels_to_integers(G)\n",
    "    ego_gs, roots = [], []\n",
    "    max_graph = 0\n",
    "\n",
    "    for i in tqdm(range(G.number_of_nodes())):\n",
    "        roots.append(G.nodes[i]['Anomaly'])\n",
    "        G_ego = nx.ego_graph(G, i, radius=1)\n",
    "        if G_ego.number_of_nodes() >= 2:\n",
    "            ego_gs.append(G_ego)\n",
    "\n",
    "    return G, ego_gs, max_graph, roots"
   ]
  },
  {
   "cell_type": "code",
   "execution_count": null,
   "id": "5b2e9a62",
   "metadata": {
    "scrolled": false
   },
   "outputs": [],
   "source": [
    "G, ego_gs, _, roots = load_bc_data(G)"
   ]
  },
  {
   "cell_type": "code",
   "execution_count": null,
   "id": "acd9dd89",
   "metadata": {},
   "outputs": [],
   "source": [
    "roots = [int(r) for r in roots]"
   ]
  },
  {
   "cell_type": "code",
   "execution_count": null,
   "id": "f1541750",
   "metadata": {
    "scrolled": true
   },
   "outputs": [],
   "source": [
    "anom_gs, clean_gs = [], []\n",
    "for idx, root_attr in enumerate(tqdm(roots)):\n",
    "    if root_attr == 1:\n",
    "        anom_gs.append(ego_gs[idx])\n",
    "    else:\n",
    "        clean_gs.append(ego_gs[idx])\n",
    "        \n",
    "print(f'# of anomalous graphs: {len(anom_gs)}/{len(ego_gs)}')\n",
    "print(f'# of clean graphs: {len(clean_gs)}/{len(ego_gs)}')"
   ]
  },
  {
   "cell_type": "code",
   "execution_count": null,
   "id": "c2386943",
   "metadata": {},
   "outputs": [],
   "source": [
    "padded_anom = []\n",
    "for gs in tqdm(anom_gs):\n",
    "    g = nx.to_numpy_array(gs)\n",
    "    padded = np.zeros((1000, 1000))\n",
    "    padded[:g.shape[0], :g.shape[1]] = g\n",
    "    padded_anom.append(padded)"
   ]
  },
  {
   "cell_type": "code",
   "execution_count": null,
   "id": "8c88c507",
   "metadata": {},
   "outputs": [],
   "source": [
    "padded_clean = []\n",
    "for gs in tqdm(clean_gs):\n",
    "    g = nx.to_numpy_array(gs)\n",
    "    padded = np.zeros((1000, 1000))\n",
    "    padded[:g.shape[0], :g.shape[1]] = g\n",
    "    padded_clean.append(padded)"
   ]
  },
  {
   "cell_type": "code",
   "execution_count": null,
   "id": "89b1cb15",
   "metadata": {},
   "outputs": [],
   "source": [
    "results_anom = []\n",
    "for gs in tqdm(padded_anom):\n",
    "    gs_p = (A @ ((A.T @ gs) @ B) @ B.T)\n",
    "    d = np.linalg.norm(gs - gs_p)\n",
    "    results_anom.append(d)"
   ]
  },
  {
   "cell_type": "code",
   "execution_count": null,
   "id": "b5d2a9de",
   "metadata": {},
   "outputs": [],
   "source": [
    "results_clean = []\n",
    "for gs in tqdm(padded_clean):\n",
    "    gs_p = (A @ ((A.T @ gs) @ B) @ B.T)\n",
    "    d = np.linalg.norm(gs - gs_p)\n",
    "    results_clean.append(d)"
   ]
  },
  {
   "cell_type": "code",
   "execution_count": null,
   "id": "0296703c",
   "metadata": {},
   "outputs": [],
   "source": [
    "anom_y = np.zeros(len(results_anom))\n",
    "clean_y = np.zeros(len(results_clean))"
   ]
  },
  {
   "cell_type": "code",
   "execution_count": null,
   "id": "977512fd",
   "metadata": {},
   "outputs": [],
   "source": [
    "sns.scatterplot(x=results_clean, y=clean_y, marker='o')\n",
    "sns.scatterplot(x=results_anom, y=anom_y, marker='x')\n",
    "\n",
    "plt.legend(['Anom', 'Clean'])"
   ]
  },
  {
   "cell_type": "code",
   "execution_count": null,
   "id": "a5717669",
   "metadata": {},
   "outputs": [],
   "source": [
    "sns.histplot(results_anom)\n",
    "sns.histplot(results_clean, ax=plt.gca())"
   ]
  },
  {
   "cell_type": "code",
   "execution_count": null,
   "id": "e49751c4",
   "metadata": {
    "scrolled": true
   },
   "outputs": [],
   "source": [
    "comb = [results_clean, results_anom]\n",
    "plt.boxplot(comb)"
   ]
  },
  {
   "cell_type": "markdown",
   "id": "f2dac367",
   "metadata": {},
   "source": [
    "# Clean tensor with modified data\n",
    "Using \"clean\" tensor from redefined clean egonets. \n",
    "\n",
    "See BC_EgoNet_Tensor.ipynb for details. "
   ]
  },
  {
   "cell_type": "code",
   "execution_count": 45,
   "id": "8483423f",
   "metadata": {},
   "outputs": [],
   "source": [
    "with open('decomp_mod.sav', 'rb') as f:\n",
    "    result = pickle.load(f)\n",
    "    f.close()\n",
    "    \n",
    "core, factors = result\n",
    "A, B, C = factors\n",
    "A, B, C, = np.array(A), np.array(B), np.array(C)"
   ]
  },
  {
   "cell_type": "markdown",
   "id": "9899f923",
   "metadata": {},
   "source": [
    "## Original Anomaly Definition"
   ]
  },
  {
   "cell_type": "code",
   "execution_count": 46,
   "id": "e16c1da6",
   "metadata": {
    "scrolled": false
   },
   "outputs": [
    {
     "name": "stdout",
     "output_type": "stream",
     "text": [
      "Graph with 5196 nodes and 172897 edges\n"
     ]
    }
   ],
   "source": [
    "bc_data = scipy.io.loadmat(\"datasets/blogcatalog.mat\")\n",
    "\n",
    "G = nx.from_scipy_sparse_array(bc_data[\"Network\"])\n",
    "# nx.set_node_attributes(G, bc_data[\"Attributes\"], 'Attributes')\n",
    "print(str(G))\n",
    "\n",
    "# convert list of lists to list\n",
    "labels = [j for i in bc_data[\"Label\"] for j in i]\n",
    "\n",
    "# Add labels to each node\n",
    "for i in range(len(G.nodes)):\n",
    "    G.nodes[i]['Anomaly'] = labels[i]"
   ]
  },
  {
   "cell_type": "code",
   "execution_count": 47,
   "id": "33310905",
   "metadata": {},
   "outputs": [],
   "source": [
    "def load_bc_data(G):\n",
    "\n",
    "    G = max((G.subgraph(c) for c in nx.connected_components(G)), key=len)\n",
    "    G = nx.convert_node_labels_to_integers(G)\n",
    "    ego_gs = []\n",
    "\n",
    "    max_graph = 0\n",
    "\n",
    "    for i in tqdm(range(G.number_of_nodes())):\n",
    "        G_ego = nx.ego_graph(G, i, radius=1)\n",
    "        if G_ego.number_of_nodes() >= 2:\n",
    "            ego_gs.append(G_ego)\n",
    "            if max_graph < G_ego.number_of_nodes():\n",
    "                max_graph = G_ego.number_of_nodes()\n",
    "\n",
    "    return G, ego_gs, max_graph"
   ]
  },
  {
   "cell_type": "code",
   "execution_count": 48,
   "id": "38133b12",
   "metadata": {
    "scrolled": false
   },
   "outputs": [
    {
     "data": {
      "application/vnd.jupyter.widget-view+json": {
       "model_id": "f38c904544444054a8bc4a7bd8042d0d",
       "version_major": 2,
       "version_minor": 0
      },
      "text/plain": [
       "  0%|          | 0/5196 [00:00<?, ?it/s]"
      ]
     },
     "metadata": {},
     "output_type": "display_data"
    }
   ],
   "source": [
    "G, ego_gs, _ = load_bc_data(G)"
   ]
  },
  {
   "cell_type": "code",
   "execution_count": 49,
   "id": "b14e3c9b",
   "metadata": {},
   "outputs": [],
   "source": [
    "# get anomalous egonets\n",
    "def is_anomolous(G):\n",
    "    for node in G.nodes():\n",
    "        if G.nodes[node]['Anomaly'] == 1:\n",
    "            return True\n",
    "    return False"
   ]
  },
  {
   "cell_type": "code",
   "execution_count": 50,
   "id": "3e125dd3",
   "metadata": {
    "scrolled": true
   },
   "outputs": [
    {
     "data": {
      "application/vnd.jupyter.widget-view+json": {
       "model_id": "2a981739736b46f9953c57adafe92a34",
       "version_major": 2,
       "version_minor": 0
      },
      "text/plain": [
       "  0%|          | 0/5196 [00:00<?, ?it/s]"
      ]
     },
     "metadata": {},
     "output_type": "display_data"
    },
    {
     "name": "stdout",
     "output_type": "stream",
     "text": [
      "# of anomalous graphs: 4720/5196\n",
      "# of clean graphs: 476/5196\n"
     ]
    }
   ],
   "source": [
    "anom_gs, clean_gs = [], []\n",
    "for idx, g in enumerate(tqdm(ego_gs, total=len(ego_gs))):\n",
    "    # check if root is anomolous first\n",
    "    if is_anomolous(g):\n",
    "        anom_gs.append(g)\n",
    "    else:\n",
    "        clean_gs.append(g)\n",
    "\n",
    "print(f'# of anomalous graphs: {len(anom_gs)}/{len(ego_gs)}')\n",
    "print(f'# of clean graphs: {len(clean_gs)}/{len(ego_gs)}')"
   ]
  },
  {
   "cell_type": "code",
   "execution_count": 51,
   "id": "18a5f014",
   "metadata": {},
   "outputs": [
    {
     "data": {
      "application/vnd.jupyter.widget-view+json": {
       "model_id": "18b2dc8802084ae88fa18f5bac723638",
       "version_major": 2,
       "version_minor": 0
      },
      "text/plain": [
       "  0%|          | 0/4720 [00:00<?, ?it/s]"
      ]
     },
     "metadata": {},
     "output_type": "display_data"
    }
   ],
   "source": [
    "padded_anom = []\n",
    "for gs in tqdm(anom_gs):\n",
    "    g = nx.to_numpy_array(gs)\n",
    "    padded = np.zeros((1000, 1000))\n",
    "    padded[:g.shape[0], :g.shape[1]] = g\n",
    "    padded_anom.append(padded)"
   ]
  },
  {
   "cell_type": "code",
   "execution_count": 52,
   "id": "8a9545a7",
   "metadata": {},
   "outputs": [
    {
     "data": {
      "application/vnd.jupyter.widget-view+json": {
       "model_id": "d4e4c4f9cc9a4198b5e89f3b581d22b8",
       "version_major": 2,
       "version_minor": 0
      },
      "text/plain": [
       "  0%|          | 0/476 [00:00<?, ?it/s]"
      ]
     },
     "metadata": {},
     "output_type": "display_data"
    }
   ],
   "source": [
    "padded_clean = []\n",
    "for gs in tqdm(clean_gs):\n",
    "    g = nx.to_numpy_array(gs)\n",
    "    padded = np.zeros((1000, 1000))\n",
    "    padded[:g.shape[0], :g.shape[1]] = g\n",
    "    padded_clean.append(padded)"
   ]
  },
  {
   "cell_type": "code",
   "execution_count": 53,
   "id": "c514495d",
   "metadata": {},
   "outputs": [
    {
     "data": {
      "application/vnd.jupyter.widget-view+json": {
       "model_id": "71241dc7c01d4030bb39e03d6dd4da48",
       "version_major": 2,
       "version_minor": 0
      },
      "text/plain": [
       "  0%|          | 0/4720 [00:00<?, ?it/s]"
      ]
     },
     "metadata": {},
     "output_type": "display_data"
    }
   ],
   "source": [
    "results_anom = []\n",
    "for gs in tqdm(padded_anom):\n",
    "    gs_p = (A @ ((A.T @ gs) @ B) @ B.T)\n",
    "    d = np.linalg.norm(gs - gs_p)\n",
    "    results_anom.append(d)"
   ]
  },
  {
   "cell_type": "code",
   "execution_count": 54,
   "id": "72656a88",
   "metadata": {},
   "outputs": [
    {
     "data": {
      "application/vnd.jupyter.widget-view+json": {
       "model_id": "cec62991586742d385aea90188727a72",
       "version_major": 2,
       "version_minor": 0
      },
      "text/plain": [
       "  0%|          | 0/476 [00:00<?, ?it/s]"
      ]
     },
     "metadata": {},
     "output_type": "display_data"
    }
   ],
   "source": [
    "results_clean = []\n",
    "for gs in tqdm(padded_clean):\n",
    "    gs_p = (A @ ((A.T @ gs) @ B) @ B.T)\n",
    "    d = np.linalg.norm(gs - gs_p)\n",
    "    results_clean.append(d)"
   ]
  },
  {
   "cell_type": "code",
   "execution_count": 55,
   "id": "9093dbd5",
   "metadata": {},
   "outputs": [],
   "source": [
    "# storing results\n",
    "saved_model = open('rec_error_clean.sav', 'wb')\n",
    "pickle.dump(results_clean, saved_model)\n",
    "saved_model.close()\n",
    "\n",
    "saved_model = open('rec_error_anom.sav', 'wb')\n",
    "pickle.dump(results_anom, saved_model)\n",
    "saved_model.close()"
   ]
  },
  {
   "cell_type": "code",
   "execution_count": 56,
   "id": "cf0958db",
   "metadata": {},
   "outputs": [
    {
     "name": "stdout",
     "output_type": "stream",
     "text": [
      "149.8612272252934 4.203161302021947\n",
      "27.92187479154074 2.1179947797423204\n"
     ]
    }
   ],
   "source": [
    "print(max(results_anom), min(results_anom))\n",
    "print(max(results_clean), min(results_clean))"
   ]
  },
  {
   "cell_type": "code",
   "execution_count": 57,
   "id": "dd5f345e",
   "metadata": {},
   "outputs": [],
   "source": [
    "anom_y = np.zeros(len(results_anom))\n",
    "clean_y = np.zeros(len(results_clean))"
   ]
  },
  {
   "cell_type": "code",
   "execution_count": 58,
   "id": "e2530e6e",
   "metadata": {
    "scrolled": true
   },
   "outputs": [
    {
     "data": {
      "text/plain": [
       "<matplotlib.legend.Legend at 0x7f7aaa9ec3a0>"
      ]
     },
     "execution_count": 58,
     "metadata": {},
     "output_type": "execute_result"
    },
    {
     "data": {
      "image/png": "[encoded data removed]",
      "text/plain": [
       "<Figure size 432x288 with 1 Axes>"
      ]
     },
     "metadata": {
      "needs_background": "light"
     },
     "output_type": "display_data"
    }
   ],
   "source": [
    "sns.scatterplot(x=results_anom, y=anom_y, marker='x')\n",
    "sns.scatterplot(x=results_clean, y=clean_y, marker='o')\n",
    "\n",
    "plt.legend(['Anom', 'Clean'])"
   ]
  },
  {
   "cell_type": "code",
   "execution_count": 59,
   "id": "7cc28e65",
   "metadata": {
    "scrolled": false
   },
   "outputs": [
    {
     "data": {
      "text/plain": [
       "<AxesSubplot:ylabel='Count'>"
      ]
     },
     "execution_count": 59,
     "metadata": {},
     "output_type": "execute_result"
    },
    {
     "data": {
      "image/png": "[encoded data removed]",
      "text/plain": [
       "<Figure size 432x288 with 1 Axes>"
      ]
     },
     "metadata": {
      "needs_background": "light"
     },
     "output_type": "display_data"
    }
   ],
   "source": [
    "sns.histplot(results_anom)\n",
    "sns.histplot(results_clean, ax=plt.gca())"
   ]
  },
  {
   "cell_type": "code",
   "execution_count": 60,
   "id": "0af511b1",
   "metadata": {
    "scrolled": true
   },
   "outputs": [
    {
     "data": {
      "text/plain": [
       "{'whiskers': [<matplotlib.lines.Line2D at 0x7f7aab9b2430>,\n",
       "  <matplotlib.lines.Line2D at 0x7f7aab9b2700>,\n",
       "  <matplotlib.lines.Line2D at 0x7f7ab8b35820>,\n",
       "  <matplotlib.lines.Line2D at 0x7f7ab8b35af0>],\n",
       " 'caps': [<matplotlib.lines.Line2D at 0x7f7aab9b2a90>,\n",
       "  <matplotlib.lines.Line2D at 0x7f7aab9b2ca0>,\n",
       "  <matplotlib.lines.Line2D at 0x7f7ab8b35dc0>,\n",
       "  <matplotlib.lines.Line2D at 0x7f7a8cab60d0>],\n",
       " 'boxes': [<matplotlib.lines.Line2D at 0x7f7aab9b2160>,\n",
       "  <matplotlib.lines.Line2D at 0x7f7ab8b35550>],\n",
       " 'medians': [<matplotlib.lines.Line2D at 0x7f7aab9b2f70>,\n",
       "  <matplotlib.lines.Line2D at 0x7f7a8cab63a0>],\n",
       " 'fliers': [<matplotlib.lines.Line2D at 0x7f7ab8b35280>,\n",
       "  <matplotlib.lines.Line2D at 0x7f7a8cab6670>],\n",
       " 'means': []}"
      ]
     },
     "execution_count": 60,
     "metadata": {},
     "output_type": "execute_result"
    },
    {
     "data": {
      "image/png": "[encoded data removed]",
      "text/plain": [
       "<Figure size 432x288 with 1 Axes>"
      ]
     },
     "metadata": {
      "needs_background": "light"
     },
     "output_type": "display_data"
    }
   ],
   "source": [
    "comb = [results_clean, results_anom]\n",
    "plt.boxplot(comb)"
   ]
  },
  {
   "cell_type": "markdown",
   "id": "ea3593b4",
   "metadata": {},
   "source": [
    "# 2-means clustering"
   ]
  },
  {
   "cell_type": "code",
   "execution_count": 61,
   "id": "1b5ce9ff",
   "metadata": {},
   "outputs": [],
   "source": [
    "with open('rec_error_clean.sav', 'rb') as f:\n",
    "    results_clean = pickle.load(f)\n",
    "    f.close()\n",
    "    \n",
    "with open('rec_error_anom.sav', 'rb') as f:\n",
    "    results_anom = pickle.load(f)\n",
    "    f.close()"
   ]
  },
  {
   "cell_type": "code",
   "execution_count": 62,
   "id": "beb4953c",
   "metadata": {},
   "outputs": [],
   "source": [
    "results = []\n",
    "results.extend(results_anom); results.extend(results_clean)"
   ]
  },
  {
   "cell_type": "code",
   "execution_count": 63,
   "id": "fa072b6c",
   "metadata": {},
   "outputs": [
    {
     "data": {
      "text/plain": [
       "array([[24.29481572],\n",
       "       [15.50807845],\n",
       "       [18.4074689 ],\n",
       "       ...,\n",
       "       [ 9.40852423],\n",
       "       [28.60743207],\n",
       "       [38.01458472]])"
      ]
     },
     "execution_count": 63,
     "metadata": {},
     "output_type": "execute_result"
    }
   ],
   "source": [
    "results = np.array(results).reshape(-1, 1)\n",
    "np.random.shuffle(results)\n",
    "\n",
    "results"
   ]
  },
  {
   "cell_type": "code",
   "execution_count": 64,
   "id": "443d76aa",
   "metadata": {},
   "outputs": [],
   "source": [
    "kmeans = KMeans(n_clusters=2, random_state=1).fit(results)"
   ]
  },
  {
   "cell_type": "code",
   "execution_count": 65,
   "id": "e400baca",
   "metadata": {
    "scrolled": false
   },
   "outputs": [
    {
     "data": {
      "text/plain": [
       "<AxesSubplot:>"
      ]
     },
     "execution_count": 65,
     "metadata": {},
     "output_type": "execute_result"
    },
    {
     "data": {
      "image/png": "[encoded data removed]",
      "text/plain": [
       "<Figure size 432x288 with 1 Axes>"
      ]
     },
     "metadata": {
      "needs_background": "light"
     },
     "output_type": "display_data"
    }
   ],
   "source": [
    "sns.scatterplot(x=results.flatten(), y=np.zeros(len(results)), hue=kmeans.labels_)"
   ]
  },
  {
   "cell_type": "markdown",
   "id": "0cb5a490",
   "metadata": {},
   "source": [
    "## Redefined Anomalies"
   ]
  },
  {
   "cell_type": "code",
   "execution_count": 67,
   "id": "d808512d",
   "metadata": {},
   "outputs": [
    {
     "name": "stdout",
     "output_type": "stream",
     "text": [
      "Graph with 5196 nodes and 172897 edges\n"
     ]
    },
    {
     "name": "stderr",
     "output_type": "stream",
     "text": [
      "/var/folders/80/w14y6f9s2_g49cyn7jpfhrfh0000gn/T/ipykernel_47718/621034405.py:5: DeprecationWarning: info is deprecated and will be removed in version 3.0.\n",
      "\n",
      "  print(nx.info(G))\n"
     ]
    }
   ],
   "source": [
    "bc_data = scipy.io.loadmat(\"datasets/blogcatalog.mat\")\n",
    "\n",
    "G = nx.from_scipy_sparse_array(bc_data[\"Network\"])\n",
    "# nx.set_node_attributes(G, bc_data[\"Attributes\"], 'Attributes')\n",
    "print(str(G))\n",
    "\n",
    "# convert list of lists to list\n",
    "labels = [j for i in bc_data[\"Label\"] for j in i]\n",
    "\n",
    "# Add labels to each node\n",
    "for i in range(len(G.nodes)):\n",
    "    G.nodes[i]['Anomaly'] = labels[i]"
   ]
  },
  {
   "cell_type": "code",
   "execution_count": 68,
   "id": "2c15e9f2",
   "metadata": {},
   "outputs": [],
   "source": [
    "def load_bc_data(G):\n",
    "\n",
    "    G = max((G.subgraph(c) for c in nx.connected_components(G)), key=len)\n",
    "    G = nx.convert_node_labels_to_integers(G)\n",
    "    ego_gs, roots = [], []\n",
    "\n",
    "    for i in tqdm(range(G.number_of_nodes())):\n",
    "        roots.append(G.nodes[i]['Anomaly'])\n",
    "        G_ego = nx.ego_graph(G, i, radius=1)\n",
    "        if G_ego.number_of_nodes() >= 2:\n",
    "            ego_gs.append(G_ego)\n",
    "\n",
    "    return G, ego_gs, roots"
   ]
  },
  {
   "cell_type": "code",
   "execution_count": 69,
   "id": "117f38ec",
   "metadata": {},
   "outputs": [
    {
     "data": {
      "application/vnd.jupyter.widget-view+json": {
       "model_id": "dbbfa6a9b920490fb79908841dd7b828",
       "version_major": 2,
       "version_minor": 0
      },
      "text/plain": [
       "  0%|          | 0/5196 [00:00<?, ?it/s]"
      ]
     },
     "metadata": {},
     "output_type": "display_data"
    }
   ],
   "source": [
    "G, ego_gs, roots = load_bc_data(G)"
   ]
  },
  {
   "cell_type": "code",
   "execution_count": 70,
   "id": "eae16280",
   "metadata": {},
   "outputs": [],
   "source": [
    "roots = [int(r) for r in roots]"
   ]
  },
  {
   "cell_type": "code",
   "execution_count": 71,
   "id": "58c08ded",
   "metadata": {
    "scrolled": true
   },
   "outputs": [
    {
     "data": {
      "application/vnd.jupyter.widget-view+json": {
       "model_id": "2ce7f777dacb4138aac9ac89d2b6242a",
       "version_major": 2,
       "version_minor": 0
      },
      "text/plain": [
       "  0%|          | 0/5196 [00:00<?, ?it/s]"
      ]
     },
     "metadata": {},
     "output_type": "display_data"
    },
    {
     "name": "stdout",
     "output_type": "stream",
     "text": [
      "# of anomalous graphs: 298/5196\n",
      "# of clean graphs: 4898/5196\n"
     ]
    }
   ],
   "source": [
    "anom_gs, clean_gs = [], []\n",
    "for idx, root_attr in enumerate(tqdm(roots)):\n",
    "    if root_attr == 1:\n",
    "        anom_gs.append(ego_gs[idx])\n",
    "    else:\n",
    "        clean_gs.append(ego_gs[idx])\n",
    "        \n",
    "print(f'# of anomalous graphs: {len(anom_gs)}/{len(ego_gs)}')\n",
    "print(f'# of clean graphs: {len(clean_gs)}/{len(ego_gs)}')"
   ]
  },
  {
   "cell_type": "code",
   "execution_count": 72,
   "id": "ee3802c7",
   "metadata": {},
   "outputs": [
    {
     "data": {
      "application/vnd.jupyter.widget-view+json": {
       "model_id": "7a014d93bc6745899aeed531f28b2308",
       "version_major": 2,
       "version_minor": 0
      },
      "text/plain": [
       "  0%|          | 0/298 [00:00<?, ?it/s]"
      ]
     },
     "metadata": {},
     "output_type": "display_data"
    }
   ],
   "source": [
    "padded_anom = []\n",
    "for gs in tqdm(anom_gs):\n",
    "    g = nx.to_numpy_array(gs)\n",
    "    padded = np.zeros((1000, 1000))\n",
    "    padded[:g.shape[0], :g.shape[1]] = g\n",
    "    padded_anom.append(padded)"
   ]
  },
  {
   "cell_type": "code",
   "execution_count": 73,
   "id": "69994ec4",
   "metadata": {},
   "outputs": [
    {
     "data": {
      "application/vnd.jupyter.widget-view+json": {
       "model_id": "8f953cba4e444c499a2caad03f8f4b7b",
       "version_major": 2,
       "version_minor": 0
      },
      "text/plain": [
       "  0%|          | 0/4898 [00:00<?, ?it/s]"
      ]
     },
     "metadata": {},
     "output_type": "display_data"
    }
   ],
   "source": [
    "padded_clean = []\n",
    "for gs in tqdm(clean_gs):\n",
    "    g = nx.to_numpy_array(gs)\n",
    "    padded = np.zeros((1000, 1000))\n",
    "    padded[:g.shape[0], :g.shape[1]] = g\n",
    "    padded_clean.append(padded)"
   ]
  },
  {
   "cell_type": "code",
   "execution_count": 74,
   "id": "0a1a0d12",
   "metadata": {},
   "outputs": [
    {
     "data": {
      "application/vnd.jupyter.widget-view+json": {
       "model_id": "e97a2745fd724aa598be349d438c2c0e",
       "version_major": 2,
       "version_minor": 0
      },
      "text/plain": [
       "  0%|          | 0/298 [00:00<?, ?it/s]"
      ]
     },
     "metadata": {},
     "output_type": "display_data"
    }
   ],
   "source": [
    "results_anom = []\n",
    "for gs in tqdm(padded_anom):\n",
    "    gs_p = (A @ ((A.T @ gs) @ B) @ B.T)\n",
    "    d = np.linalg.norm(gs - gs_p)\n",
    "    results_anom.append(d)"
   ]
  },
  {
   "cell_type": "code",
   "execution_count": 75,
   "id": "860b32d7",
   "metadata": {},
   "outputs": [
    {
     "data": {
      "application/vnd.jupyter.widget-view+json": {
       "model_id": "fc026677c266466eaf50da8ec40f2767",
       "version_major": 2,
       "version_minor": 0
      },
      "text/plain": [
       "  0%|          | 0/4898 [00:00<?, ?it/s]"
      ]
     },
     "metadata": {},
     "output_type": "display_data"
    }
   ],
   "source": [
    "results_clean = []\n",
    "for gs in tqdm(padded_clean):\n",
    "    gs_p = (A @ ((A.T @ gs) @ B) @ B.T)\n",
    "    d = np.linalg.norm(gs - gs_p)\n",
    "    results_clean.append(d)"
   ]
  },
  {
   "cell_type": "code",
   "execution_count": 76,
   "id": "f5baa1aa",
   "metadata": {},
   "outputs": [],
   "source": [
    "# storing results\n",
    "saved_model = open('rec_error_clean_mod.sav', 'wb')\n",
    "pickle.dump(results_clean, saved_model)\n",
    "saved_model.close()\n",
    "\n",
    "saved_model = open('rec_error_anom_mod.sav', 'wb')\n",
    "pickle.dump(results_anom, saved_model)\n",
    "saved_model.close()"
   ]
  },
  {
   "cell_type": "code",
   "execution_count": 77,
   "id": "02c29b3e",
   "metadata": {},
   "outputs": [],
   "source": [
    "anom_y = np.zeros(len(results_anom))\n",
    "clean_y = np.zeros(len(results_clean))"
   ]
  },
  {
   "cell_type": "code",
   "execution_count": 78,
   "id": "a5eda66f",
   "metadata": {},
   "outputs": [
    {
     "data": {
      "text/plain": [
       "<matplotlib.legend.Legend at 0x7f7a288cf5b0>"
      ]
     },
     "execution_count": 78,
     "metadata": {},
     "output_type": "execute_result"
    },
    {
     "data": {
      "image/png": "[encoded data removed]",
      "text/plain": [
       "<Figure size 432x288 with 1 Axes>"
      ]
     },
     "metadata": {
      "needs_background": "light"
     },
     "output_type": "display_data"
    }
   ],
   "source": [
    "sns.scatterplot(x=results_clean, y=clean_y, marker='o')\n",
    "sns.scatterplot(x=results_anom, y=anom_y, marker='x')\n",
    "\n",
    "plt.legend(['Anom', 'Clean'])"
   ]
  },
  {
   "cell_type": "code",
   "execution_count": 79,
   "id": "891a6f9e",
   "metadata": {},
   "outputs": [
    {
     "data": {
      "text/plain": [
       "<AxesSubplot:ylabel='Count'>"
      ]
     },
     "execution_count": 79,
     "metadata": {},
     "output_type": "execute_result"
    },
    {
     "data": {
      "image/png": "[encoded data removed]",
      "text/plain": [
       "<Figure size 432x288 with 1 Axes>"
      ]
     },
     "metadata": {
      "needs_background": "light"
     },
     "output_type": "display_data"
    }
   ],
   "source": [
    "sns.histplot(results_anom)\n",
    "sns.histplot(results_clean, ax=plt.gca())"
   ]
  },
  {
   "cell_type": "code",
   "execution_count": 80,
   "id": "4215ac2c",
   "metadata": {
    "scrolled": true
   },
   "outputs": [
    {
     "data": {
      "text/plain": [
       "{'whiskers': [<matplotlib.lines.Line2D at 0x7f7aab798d30>,\n",
       "  <matplotlib.lines.Line2D at 0x7f7aab7b5040>,\n",
       "  <matplotlib.lines.Line2D at 0x7f7a8c935160>,\n",
       "  <matplotlib.lines.Line2D at 0x7f7a8c935430>],\n",
       " 'caps': [<matplotlib.lines.Line2D at 0x7f7aab7b5310>,\n",
       "  <matplotlib.lines.Line2D at 0x7f7aab7b55e0>,\n",
       "  <matplotlib.lines.Line2D at 0x7f7a8c935700>,\n",
       "  <matplotlib.lines.Line2D at 0x7f7a8c9359d0>],\n",
       " 'boxes': [<matplotlib.lines.Line2D at 0x7f7aab798a60>,\n",
       "  <matplotlib.lines.Line2D at 0x7f7aab7b5e50>],\n",
       " 'medians': [<matplotlib.lines.Line2D at 0x7f7aab7b58b0>,\n",
       "  <matplotlib.lines.Line2D at 0x7f7a8c935ca0>],\n",
       " 'fliers': [<matplotlib.lines.Line2D at 0x7f7aab7b5b80>,\n",
       "  <matplotlib.lines.Line2D at 0x7f7a8c935f70>],\n",
       " 'means': []}"
      ]
     },
     "execution_count": 80,
     "metadata": {},
     "output_type": "execute_result"
    },
    {
     "data": {
      "image/png": "[encoded data removed]",
      "text/plain": [
       "<Figure size 432x288 with 1 Axes>"
      ]
     },
     "metadata": {
      "needs_background": "light"
     },
     "output_type": "display_data"
    }
   ],
   "source": [
    "comb = [results_clean, results_anom]\n",
    "plt.boxplot(comb)"
   ]
  },
  {
   "cell_type": "markdown",
   "id": "a5734e61",
   "metadata": {},
   "source": [
    "# 2-means clustering"
   ]
  },
  {
   "cell_type": "code",
   "execution_count": 81,
   "id": "be56027a",
   "metadata": {},
   "outputs": [],
   "source": [
    "with open('rec_error_clean_mod.sav', 'rb') as f:\n",
    "    results_clean = pickle.load(f)\n",
    "    f.close()\n",
    "    \n",
    "with open('rec_error_anom_mod.sav', 'rb') as f:\n",
    "    results_anom = pickle.load(f)\n",
    "    f.close()"
   ]
  },
  {
   "cell_type": "code",
   "execution_count": 82,
   "id": "fb60851b",
   "metadata": {},
   "outputs": [],
   "source": [
    "results = []\n",
    "results.extend(results_anom); results.extend(results_clean)"
   ]
  },
  {
   "cell_type": "code",
   "execution_count": 83,
   "id": "c7f7fbd8",
   "metadata": {},
   "outputs": [
    {
     "data": {
      "text/plain": [
       "array([[20.97722076],\n",
       "       [34.42531843],\n",
       "       [13.23615905],\n",
       "       ...,\n",
       "       [19.77623717],\n",
       "       [ 9.20028763],\n",
       "       [10.66575473]])"
      ]
     },
     "execution_count": 83,
     "metadata": {},
     "output_type": "execute_result"
    }
   ],
   "source": [
    "results = np.array(results).reshape(-1, 1)\n",
    "np.random.shuffle(results)\n",
    "\n",
    "results"
   ]
  },
  {
   "cell_type": "code",
   "execution_count": 84,
   "id": "71c4e32e",
   "metadata": {},
   "outputs": [],
   "source": [
    "kmeans = KMeans(n_clusters=2, random_state=1).fit(results)"
   ]
  },
  {
   "cell_type": "code",
   "execution_count": 85,
   "id": "d7c877bc",
   "metadata": {
    "scrolled": false
   },
   "outputs": [
    {
     "data": {
      "text/plain": [
       "<AxesSubplot:>"
      ]
     },
     "execution_count": 85,
     "metadata": {},
     "output_type": "execute_result"
    },
    {
     "data": {
      "image/png": "[encoded data removed]",
      "text/plain": [
       "<Figure size 432x288 with 1 Axes>"
      ]
     },
     "metadata": {
      "needs_background": "light"
     },
     "output_type": "display_data"
    }
   ],
   "source": [
    "sns.scatterplot(x=results.flatten(), y=np.zeros(len(results)), hue=kmeans.labels_)"
   ]
  }
 ],
 "metadata": {
  "kernelspec": {
   "display_name": "Python 3 (ipykernel)",
   "language": "python",
   "name": "python3"
  },
  "language_info": {
   "codemirror_mode": {
    "name": "ipython",
    "version": 3
   },
   "file_extension": ".py",
   "mimetype": "text/x-python",
   "name": "python",
   "nbconvert_exporter": "python",
   "pygments_lexer": "ipython3",
   "version": "3.9.12"
  }
 },
 "nbformat": 4,
 "nbformat_minor": 5
}
