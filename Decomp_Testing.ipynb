{
 "cells": [
  {
   "cell_type": "code",
   "execution_count": 14,
   "id": "97f3bfca",
   "metadata": {},
   "outputs": [],
   "source": [
    "import torch\n",
    "\n",
    "import networkx as nx\n",
    "\n",
    "import numpy as np\n",
    "    \n",
    "import pandas as pd\n",
    "\n",
    "import scipy.io\n",
    "\n",
    "from itertools import combinations as comb\n",
    "\n",
    "from tqdm.notebook import tqdm\n",
    "\n",
    "import pickle\n",
    "\n",
    "import matplotlib.pyplot as plt\n",
    "\n",
    "import seaborn as sns\n",
    "\n",
    "from sklearn.cluster import KMeans, MiniBatchKMeans\n",
    "from sklearn.metrics import f1_score\n",
    "\n",
    "from numpy.linalg import pinv"
   ]
  },
  {
   "cell_type": "markdown",
   "id": "e2a39f53",
   "metadata": {},
   "source": [
    "# Clean Tensor from Separate Data\n",
    "Using Tensor constructed from separate data without anomaly injections"
   ]
  },
  {
   "cell_type": "code",
   "execution_count": 2,
   "id": "466a4e98",
   "metadata": {},
   "outputs": [
    {
     "name": "stdout",
     "output_type": "stream",
     "text": [
      "Graph with 5196 nodes and 172897 edges\n"
     ]
    }
   ],
   "source": [
    "bc_data = scipy.io.loadmat(\"datasets/blogcatalog.mat\")\n",
    "\n",
    "G = nx.from_scipy_sparse_array(bc_data[\"Network\"])\n",
    "# nx.set_node_attributes(G, bc_data[\"Attributes\"], 'Attributes')\n",
    "print(str(G))\n",
    "\n",
    "# convert list of lists to list\n",
    "labels = [j for i in bc_data[\"Label\"] for j in i]\n",
    "\n",
    "# Add labels to each node\n",
    "for i in range(len(G.nodes)):\n",
    "    G.nodes[i]['Anomaly'] = labels[i]"
   ]
  },
  {
   "cell_type": "code",
   "execution_count": 3,
   "id": "7be979a4",
   "metadata": {
    "scrolled": true
   },
   "outputs": [
    {
     "data": {
      "text/plain": [
       "Text(0, 0.5, 'Frequency')"
      ]
     },
     "execution_count": 3,
     "metadata": {},
     "output_type": "execute_result"
    },
    {
     "data": {
      "image/png": "[encoded data removed]",
      "text/plain": [
       "<Figure size 432x288 with 1 Axes>"
      ]
     },
     "metadata": {
      "needs_background": "light"
     },
     "output_type": "display_data"
    }
   ],
   "source": [
    "plt.hist(nx.degree_histogram(G))\n",
    "plt.xlabel('Degree')\n",
    "plt.ylabel('Frequency')"
   ]
  },
  {
   "cell_type": "code",
   "execution_count": 4,
   "id": "1c9289d2",
   "metadata": {},
   "outputs": [],
   "source": [
    "def load_bc_data(G):\n",
    "\n",
    "    G = max((G.subgraph(c) for c in nx.connected_components(G)), key=len)\n",
    "    G = nx.convert_node_labels_to_integers(G)\n",
    "    ego_gs = []\n",
    "\n",
    "    max_graph = 0\n",
    "\n",
    "    for i in tqdm(range(G.number_of_nodes())):\n",
    "        G_ego = nx.ego_graph(G, i, radius=1)\n",
    "        if G_ego.number_of_nodes() >= 2:\n",
    "            ego_gs.append(G_ego)\n",
    "            if max_graph < G_ego.number_of_nodes():\n",
    "                max_graph = G_ego.number_of_nodes()\n",
    "\n",
    "    return G, ego_gs, max_graph"
   ]
  },
  {
   "cell_type": "code",
   "execution_count": 5,
   "id": "35c78216",
   "metadata": {
    "scrolled": true
   },
   "outputs": [
    {
     "data": {
      "application/vnd.jupyter.widget-view+json": {
       "model_id": "4ed151824c1c424fae378052e2ef72a8",
       "version_major": 2,
       "version_minor": 0
      },
      "text/plain": [
       "  0%|          | 0/5196 [00:00<?, ?it/s]"
      ]
     },
     "metadata": {},
     "output_type": "display_data"
    }
   ],
   "source": [
    "G, ego_gs, _ = load_bc_data(G)"
   ]
  },
  {
   "cell_type": "code",
   "execution_count": 6,
   "id": "f6a93de2",
   "metadata": {},
   "outputs": [],
   "source": [
    "# get anomalous egonets\n",
    "def is_anomolous(G):\n",
    "    for node in G.nodes():\n",
    "        if G.nodes[node]['Anomaly'] == 1:\n",
    "            return True\n",
    "    return False"
   ]
  },
  {
   "cell_type": "code",
   "execution_count": 7,
   "id": "b6a845be",
   "metadata": {},
   "outputs": [
    {
     "data": {
      "application/vnd.jupyter.widget-view+json": {
       "model_id": "8d6c271bbf6940ea92329f236eac629e",
       "version_major": 2,
       "version_minor": 0
      },
      "text/plain": [
       "  0%|          | 0/5196 [00:00<?, ?it/s]"
      ]
     },
     "metadata": {},
     "output_type": "display_data"
    },
    {
     "name": "stdout",
     "output_type": "stream",
     "text": [
      "# of anomalous graphs: 4720/5196\n",
      "# of clean graphs: 476/5196\n"
     ]
    }
   ],
   "source": [
    "anom_gs, clean_gs = [], []\n",
    "for idx, g in enumerate(tqdm(ego_gs, total=len(ego_gs))):\n",
    "    # check if root is anomolous first\n",
    "    if is_anomolous(g):\n",
    "        anom_gs.append(g)\n",
    "    else:\n",
    "        clean_gs.append(g)\n",
    "\n",
    "print(f'# of anomalous graphs: {len(anom_gs)}/{len(ego_gs)}')\n",
    "print(f'# of clean graphs: {len(clean_gs)}/{len(ego_gs)}')"
   ]
  },
  {
   "cell_type": "code",
   "execution_count": 8,
   "id": "5e83dd87",
   "metadata": {},
   "outputs": [],
   "source": [
    "with open('decomp.sav', 'rb') as f:\n",
    "    result = pickle.load(f)\n",
    "    f.close()"
   ]
  },
  {
   "cell_type": "code",
   "execution_count": 9,
   "id": "c84e9ed9",
   "metadata": {},
   "outputs": [],
   "source": [
    "core, factors = result"
   ]
  },
  {
   "cell_type": "code",
   "execution_count": 10,
   "id": "b596d74d",
   "metadata": {},
   "outputs": [],
   "source": [
    "A, B, C = factors"
   ]
  },
  {
   "cell_type": "code",
   "execution_count": 11,
   "id": "ffc3a816",
   "metadata": {},
   "outputs": [],
   "source": [
    "A, B, C, = np.array(A), np.array(B), np.array(C)"
   ]
  },
  {
   "cell_type": "code",
   "execution_count": 12,
   "id": "5ab96213",
   "metadata": {},
   "outputs": [
    {
     "data": {
      "application/vnd.jupyter.widget-view+json": {
       "model_id": "5456371776dd45d3b7be034c7d6cfc78",
       "version_major": 2,
       "version_minor": 0
      },
      "text/plain": [
       "  0%|          | 0/4720 [00:00<?, ?it/s]"
      ]
     },
     "metadata": {},
     "output_type": "display_data"
    }
   ],
   "source": [
    "padded_anom = []\n",
    "for gs in tqdm(anom_gs):\n",
    "    g = nx.to_numpy_array(gs)\n",
    "    padded = np.zeros((1000, 1000))\n",
    "    padded[:g.shape[0], :g.shape[1]] = g\n",
    "    padded_anom.append(padded)"
   ]
  },
  {
   "cell_type": "code",
   "execution_count": 13,
   "id": "95a671dd",
   "metadata": {},
   "outputs": [
    {
     "data": {
      "application/vnd.jupyter.widget-view+json": {
       "model_id": "6d8d64b269d4485db1f6ebbbeccfb69d",
       "version_major": 2,
       "version_minor": 0
      },
      "text/plain": [
       "  0%|          | 0/476 [00:00<?, ?it/s]"
      ]
     },
     "metadata": {},
     "output_type": "display_data"
    }
   ],
   "source": [
    "padded_clean = []\n",
    "for gs in tqdm(clean_gs):\n",
    "    g = nx.to_numpy_array(gs)\n",
    "    padded = np.zeros((1000, 1000))\n",
    "    padded[:g.shape[0], :g.shape[1]] = g\n",
    "    padded_clean.append(padded)"
   ]
  },
  {
   "cell_type": "code",
   "execution_count": 14,
   "id": "267c7b3f",
   "metadata": {},
   "outputs": [
    {
     "data": {
      "application/vnd.jupyter.widget-view+json": {
       "model_id": "80a0cb8d361e43d289ec67fa5b84b6ad",
       "version_major": 2,
       "version_minor": 0
      },
      "text/plain": [
       "  0%|          | 0/4720 [00:00<?, ?it/s]"
      ]
     },
     "metadata": {},
     "output_type": "display_data"
    }
   ],
   "source": [
    "results_anom = []\n",
    "for gs in tqdm(padded_anom):\n",
    "    gs_p = (A @ ((A.T @ gs) @ B) @ B.T)\n",
    "    d = np.linalg.norm(gs - gs_p)\n",
    "    results_anom.append(d)"
   ]
  },
  {
   "cell_type": "code",
   "execution_count": 15,
   "id": "a5bfe03a",
   "metadata": {},
   "outputs": [
    {
     "data": {
      "application/vnd.jupyter.widget-view+json": {
       "model_id": "b1f014432a2341698ede97a21018cc37",
       "version_major": 2,
       "version_minor": 0
      },
      "text/plain": [
       "  0%|          | 0/476 [00:00<?, ?it/s]"
      ]
     },
     "metadata": {},
     "output_type": "display_data"
    }
   ],
   "source": [
    "results_clean = []\n",
    "for gs in tqdm(padded_clean):\n",
    "    gs_p = (A @ ((A.T @ gs) @ B) @ B.T)\n",
    "    d = np.linalg.norm(gs - gs_p)\n",
    "    results_clean.append(d)"
   ]
  },
  {
   "cell_type": "code",
   "execution_count": 16,
   "id": "7f621010",
   "metadata": {},
   "outputs": [
    {
     "name": "stdout",
     "output_type": "stream",
     "text": [
      "151.99378506962825 5.922384155613057\n",
      "28.182793853936584 3.138077086574925\n"
     ]
    }
   ],
   "source": [
    "print(max(results_anom), min(results_anom))\n",
    "print(max(results_clean), min(results_clean))"
   ]
  },
  {
   "cell_type": "code",
   "execution_count": 17,
   "id": "be65a99d",
   "metadata": {},
   "outputs": [],
   "source": [
    "anom_y = np.zeros(len(results_anom))\n",
    "clean_y = np.zeros(len(results_clean))"
   ]
  },
  {
   "cell_type": "code",
   "execution_count": 18,
   "id": "ba693c63",
   "metadata": {
    "scrolled": true
   },
   "outputs": [
    {
     "data": {
      "text/plain": [
       "<matplotlib.legend.Legend at 0x7fa191138e80>"
      ]
     },
     "execution_count": 18,
     "metadata": {},
     "output_type": "execute_result"
    },
    {
     "data": {
      "image/png": "[encoded data removed]",
      "text/plain": [
       "<Figure size 432x288 with 1 Axes>"
      ]
     },
     "metadata": {
      "needs_background": "light"
     },
     "output_type": "display_data"
    }
   ],
   "source": [
    "sns.scatterplot(x=results_anom, y=anom_y, marker='x')\n",
    "sns.scatterplot(x=results_clean, y=clean_y, marker='o')\n",
    "\n",
    "plt.legend(['Anom', 'Clean'])"
   ]
  },
  {
   "cell_type": "code",
   "execution_count": 20,
   "id": "3de166cd",
   "metadata": {},
   "outputs": [
    {
     "data": {
      "text/plain": [
       "<matplotlib.legend.Legend at 0x7fa192643490>"
      ]
     },
     "execution_count": 20,
     "metadata": {},
     "output_type": "execute_result"
    },
    {
     "data": {
      "image/png": "[encoded data removed]",
      "text/plain": [
       "<Figure size 432x288 with 1 Axes>"
      ]
     },
     "metadata": {
      "needs_background": "light"
     },
     "output_type": "display_data"
    }
   ],
   "source": [
    "sns.scatterplot(x=results_anom, y=[0] * len(anom_y), marker='x')\n",
    "sns.scatterplot(x=results_clean, y=[1] * len(clean_y), marker='o')\n",
    "plt.scatter([np.median(results_anom)], 0, c='red')\n",
    "plt.scatter([np.median(results_clean)], 1, c='blue')\n",
    "\n",
    "plt.legend(['Anom', 'Clean'])"
   ]
  },
  {
   "cell_type": "code",
   "execution_count": null,
   "id": "d431fde0",
   "metadata": {
    "scrolled": false
   },
   "outputs": [],
   "source": [
    "sns.histplot(results_anom)\n",
    "sns.histplot(results_clean, ax=plt.gca())"
   ]
  },
  {
   "cell_type": "code",
   "execution_count": null,
   "id": "66d4bd6d",
   "metadata": {},
   "outputs": [],
   "source": [
    "comb = [results_clean, results_anom]"
   ]
  },
  {
   "cell_type": "code",
   "execution_count": null,
   "id": "7b55e740",
   "metadata": {
    "scrolled": true
   },
   "outputs": [],
   "source": [
    "plt.boxplot(comb)"
   ]
  },
  {
   "cell_type": "code",
   "execution_count": null,
   "id": "e622e607",
   "metadata": {},
   "outputs": [],
   "source": [
    "# using non-anomolous nodes from original data (no anomalies)\n",
    "\n",
    "with open('egonets.sav', 'rb') as f:\n",
    "    ego_gs = pickle.load(f)\n",
    "    f.close()\n",
    "\n",
    "print(f'Using {len(ego_gs)} egonets')"
   ]
  },
  {
   "cell_type": "code",
   "execution_count": null,
   "id": "6de67a95",
   "metadata": {},
   "outputs": [],
   "source": [
    "indices = np.random.randint(0, len(anom_gs), size=len(clean_gs))\n",
    "\n",
    "sampled_anoms = np.array(anom_gs, dtype=object)[indices]"
   ]
  },
  {
   "cell_type": "code",
   "execution_count": null,
   "id": "f13faa73",
   "metadata": {},
   "outputs": [],
   "source": [
    "padded_anom = []\n",
    "for gs in tqdm(sampled_anoms):\n",
    "    g = nx.to_numpy_array(gs)\n",
    "    padded = np.zeros((1000, 1000))\n",
    "    padded[:g.shape[0], :g.shape[1]] = g\n",
    "    padded_anom.append(padded)"
   ]
  },
  {
   "cell_type": "code",
   "execution_count": null,
   "id": "75618784",
   "metadata": {},
   "outputs": [],
   "source": [
    "results_anom = []\n",
    "indices = np.random.randint(0, len(padded_anom), size=len(padded_clean))\n",
    "for gs in tqdm(padded_anom):\n",
    "    gs_p = (A @ ((A.T @ gs) @ B) @ B.T)\n",
    "    d = np.linalg.norm(gs - gs_p)\n",
    "    results_anom.append(d)"
   ]
  },
  {
   "cell_type": "code",
   "execution_count": null,
   "id": "6536ed29",
   "metadata": {},
   "outputs": [],
   "source": [
    "anom_y = np.zeros(len(results_anom))"
   ]
  },
  {
   "cell_type": "code",
   "execution_count": null,
   "id": "a2851c97",
   "metadata": {
    "scrolled": true
   },
   "outputs": [],
   "source": [
    "sns.scatterplot(x=results_anom, y=anom_y, marker='x')\n",
    "sns.scatterplot(x=results_clean, y=clean_y, marker='o')\n",
    "\n",
    "plt.legend(['Anom', 'Clean'])"
   ]
  },
  {
   "cell_type": "markdown",
   "id": "96d34ae8",
   "metadata": {},
   "source": [
    "## Redefine Anomalies\n",
    "Redefining anomalies egonets as egonets with root node as anomalous"
   ]
  },
  {
   "cell_type": "code",
   "execution_count": null,
   "id": "4ad94f50",
   "metadata": {},
   "outputs": [],
   "source": [
    "bc_data = scipy.io.loadmat(\"datasets/blogcatalog.mat\")\n",
    "\n",
    "G = nx.from_scipy_sparse_array(bc_data[\"Network\"])\n",
    "# nx.set_node_attributes(G, bc_data[\"Attributes\"], 'Attributes')\n",
    "print(str(G))\n",
    "\n",
    "# convert list of lists to list\n",
    "labels = [j for i in bc_data[\"Label\"] for j in i]\n",
    "\n",
    "# Add labels to each node\n",
    "for i in range(len(G.nodes)):\n",
    "    G.nodes[i]['Anomaly'] = labels[i]"
   ]
  },
  {
   "cell_type": "code",
   "execution_count": null,
   "id": "c7fae5e4",
   "metadata": {},
   "outputs": [],
   "source": [
    "def load_bc_data(G):\n",
    "\n",
    "    G = max((G.subgraph(c) for c in nx.connected_components(G)), key=len)\n",
    "    G = nx.convert_node_labels_to_integers(G)\n",
    "    ego_gs, roots = [], []\n",
    "    max_graph = 0\n",
    "\n",
    "    for i in tqdm(range(G.number_of_nodes())):\n",
    "        roots.append(G.nodes[i]['Anomaly'])\n",
    "        G_ego = nx.ego_graph(G, i, radius=1)\n",
    "        if G_ego.number_of_nodes() >= 2:\n",
    "            ego_gs.append(G_ego)\n",
    "\n",
    "    return G, ego_gs, max_graph, roots"
   ]
  },
  {
   "cell_type": "code",
   "execution_count": null,
   "id": "5b2e9a62",
   "metadata": {
    "scrolled": false
   },
   "outputs": [],
   "source": [
    "G, ego_gs, _, roots = load_bc_data(G)"
   ]
  },
  {
   "cell_type": "code",
   "execution_count": null,
   "id": "acd9dd89",
   "metadata": {},
   "outputs": [],
   "source": [
    "roots = [int(r) for r in roots]"
   ]
  },
  {
   "cell_type": "code",
   "execution_count": null,
   "id": "f1541750",
   "metadata": {
    "scrolled": true
   },
   "outputs": [],
   "source": [
    "anom_gs, clean_gs = [], []\n",
    "for idx, root_attr in enumerate(tqdm(roots)):\n",
    "    if root_attr == 1:\n",
    "        anom_gs.append(ego_gs[idx])\n",
    "    else:\n",
    "        clean_gs.append(ego_gs[idx])\n",
    "        \n",
    "print(f'# of anomalous graphs: {len(anom_gs)}/{len(ego_gs)}')\n",
    "print(f'# of clean graphs: {len(clean_gs)}/{len(ego_gs)}')"
   ]
  },
  {
   "cell_type": "code",
   "execution_count": null,
   "id": "c2386943",
   "metadata": {},
   "outputs": [],
   "source": [
    "padded_anom = []\n",
    "for gs in tqdm(anom_gs):\n",
    "    g = nx.to_numpy_array(gs)\n",
    "    padded = np.zeros((1000, 1000))\n",
    "    padded[:g.shape[0], :g.shape[1]] = g\n",
    "    padded_anom.append(padded)"
   ]
  },
  {
   "cell_type": "code",
   "execution_count": null,
   "id": "8c88c507",
   "metadata": {},
   "outputs": [],
   "source": [
    "padded_clean = []\n",
    "for gs in tqdm(clean_gs):\n",
    "    g = nx.to_numpy_array(gs)\n",
    "    padded = np.zeros((1000, 1000))\n",
    "    padded[:g.shape[0], :g.shape[1]] = g\n",
    "    padded_clean.append(padded)"
   ]
  },
  {
   "cell_type": "code",
   "execution_count": null,
   "id": "89b1cb15",
   "metadata": {},
   "outputs": [],
   "source": [
    "results_anom = []\n",
    "for gs in tqdm(padded_anom):\n",
    "    gs_p = (A @ ((A.T @ gs) @ B) @ B.T)\n",
    "    d = np.linalg.norm(gs - gs_p)\n",
    "    results_anom.append(d)"
   ]
  },
  {
   "cell_type": "code",
   "execution_count": null,
   "id": "b5d2a9de",
   "metadata": {},
   "outputs": [],
   "source": [
    "results_clean = []\n",
    "for gs in tqdm(padded_clean):\n",
    "    gs_p = (A @ ((A.T @ gs) @ B) @ B.T)\n",
    "    d = np.linalg.norm(gs - gs_p)\n",
    "    results_clean.append(d)"
   ]
  },
  {
   "cell_type": "code",
   "execution_count": null,
   "id": "0296703c",
   "metadata": {},
   "outputs": [],
   "source": [
    "anom_y = np.zeros(len(results_anom))\n",
    "clean_y = np.zeros(len(results_clean))"
   ]
  },
  {
   "cell_type": "code",
   "execution_count": null,
   "id": "977512fd",
   "metadata": {},
   "outputs": [],
   "source": [
    "sns.scatterplot(x=results_clean, y=clean_y, marker='o')\n",
    "sns.scatterplot(x=results_anom, y=anom_y, marker='x')\n",
    "\n",
    "plt.legend(['Anom', 'Clean'])"
   ]
  },
  {
   "cell_type": "code",
   "execution_count": null,
   "id": "a5717669",
   "metadata": {},
   "outputs": [],
   "source": [
    "sns.histplot(results_anom)\n",
    "sns.histplot(results_clean, ax=plt.gca())"
   ]
  },
  {
   "cell_type": "code",
   "execution_count": null,
   "id": "e49751c4",
   "metadata": {
    "scrolled": true
   },
   "outputs": [],
   "source": [
    "comb = [results_clean, results_anom]\n",
    "plt.boxplot(comb)"
   ]
  },
  {
   "cell_type": "markdown",
   "id": "f2dac367",
   "metadata": {},
   "source": [
    "# Clean tensor with modified data\n",
    "Using \"clean\" tensor from redefined clean egonets. \n",
    "\n",
    "See BC_EgoNet_Tensor.ipynb for details. "
   ]
  },
  {
   "cell_type": "code",
   "execution_count": 5,
   "id": "8483423f",
   "metadata": {},
   "outputs": [],
   "source": [
    "with open('bc_decomp_r10.sav', 'rb') as f:\n",
    "    result = pickle.load(f)\n",
    "    f.close()\n",
    "    \n",
    "core, factors = result\n",
    "A, B, C = factors\n",
    "A, B, C, = np.array(A), np.array(B), np.array(C)"
   ]
  },
  {
   "cell_type": "markdown",
   "id": "9899f923",
   "metadata": {},
   "source": [
    "## Original Anomaly Definition"
   ]
  },
  {
   "cell_type": "code",
   "execution_count": 6,
   "id": "e16c1da6",
   "metadata": {
    "scrolled": false
   },
   "outputs": [
    {
     "name": "stdout",
     "output_type": "stream",
     "text": [
      "Graph with 5196 nodes and 172897 edges\n"
     ]
    }
   ],
   "source": [
    "bc_data = scipy.io.loadmat(\"datasets/blogcatalog.mat\")\n",
    "\n",
    "G = nx.from_scipy_sparse_array(bc_data[\"Network\"])\n",
    "# nx.set_node_attributes(G, bc_data[\"Attributes\"], 'Attributes')\n",
    "print(str(G))\n",
    "\n",
    "# convert list of lists to list\n",
    "labels = [j for i in bc_data[\"Label\"] for j in i]\n",
    "\n",
    "# Add labels to each node\n",
    "for i in range(len(G.nodes)):\n",
    "    G.nodes[i]['Anomaly'] = labels[i]"
   ]
  },
  {
   "cell_type": "code",
   "execution_count": 7,
   "id": "33310905",
   "metadata": {},
   "outputs": [],
   "source": [
    "def load_bc_data(G):\n",
    "\n",
    "    G = max((G.subgraph(c) for c in nx.connected_components(G)), key=len)\n",
    "    G = nx.convert_node_labels_to_integers(G)\n",
    "    ego_gs = []\n",
    "\n",
    "    max_graph = 0\n",
    "\n",
    "    for i in tqdm(range(G.number_of_nodes())):\n",
    "        G_ego = nx.ego_graph(G, i, radius=1)\n",
    "        if G_ego.number_of_nodes() >= 2:\n",
    "            ego_gs.append(G_ego)\n",
    "            if max_graph < G_ego.number_of_nodes():\n",
    "                max_graph = G_ego.number_of_nodes()\n",
    "\n",
    "    return G, ego_gs, max_graph"
   ]
  },
  {
   "cell_type": "code",
   "execution_count": 8,
   "id": "38133b12",
   "metadata": {
    "scrolled": false
   },
   "outputs": [
    {
     "data": {
      "application/vnd.jupyter.widget-view+json": {
       "model_id": "00f25d7cdf014b5a931ac4d5c917413d",
       "version_major": 2,
       "version_minor": 0
      },
      "text/plain": [
       "  0%|          | 0/5196 [00:00<?, ?it/s]"
      ]
     },
     "metadata": {},
     "output_type": "display_data"
    }
   ],
   "source": [
    "G, ego_gs, _ = load_bc_data(G)"
   ]
  },
  {
   "cell_type": "code",
   "execution_count": 9,
   "id": "b14e3c9b",
   "metadata": {},
   "outputs": [],
   "source": [
    "# get anomalous egonets\n",
    "def is_anomolous(G):\n",
    "    for node in G.nodes():\n",
    "        if G.nodes[node]['Anomaly'] == 1:\n",
    "            return True\n",
    "    return False"
   ]
  },
  {
   "cell_type": "code",
   "execution_count": 11,
   "id": "3e125dd3",
   "metadata": {
    "scrolled": true
   },
   "outputs": [
    {
     "data": {
      "application/vnd.jupyter.widget-view+json": {
       "model_id": "b50cf13ad7b14da389c75f99f0fcf745",
       "version_major": 2,
       "version_minor": 0
      },
      "text/plain": [
       "  0%|          | 0/5196 [00:00<?, ?it/s]"
      ]
     },
     "metadata": {},
     "output_type": "display_data"
    },
    {
     "name": "stdout",
     "output_type": "stream",
     "text": [
      "# of anomalous graphs: 4720/5196\n",
      "# of clean graphs: 476/5196\n"
     ]
    }
   ],
   "source": [
    "anom_gs, clean_gs = [], []\n",
    "for idx, g in enumerate(tqdm(ego_gs, total=len(ego_gs))):\n",
    "    # check if root is anomolous first\n",
    "    if is_anomolous(g):\n",
    "        anom_gs.append(g)\n",
    "    else:\n",
    "        clean_gs.append(g)\n",
    "\n",
    "print(f'# of anomalous graphs: {len(anom_gs)}/{len(ego_gs)}')\n",
    "print(f'# of clean graphs: {len(clean_gs)}/{len(ego_gs)}')"
   ]
  },
  {
   "cell_type": "code",
   "execution_count": 12,
   "id": "18a5f014",
   "metadata": {},
   "outputs": [
    {
     "data": {
      "application/vnd.jupyter.widget-view+json": {
       "model_id": "81390da3eee64edeae4c4ceac628e5db",
       "version_major": 2,
       "version_minor": 0
      },
      "text/plain": [
       "  0%|          | 0/4720 [00:00<?, ?it/s]"
      ]
     },
     "metadata": {},
     "output_type": "display_data"
    }
   ],
   "source": [
    "padded_anom = []\n",
    "for gs in tqdm(anom_gs):\n",
    "    g = nx.to_numpy_array(gs)\n",
    "    padded = np.zeros((1000, 1000))\n",
    "    padded[:g.shape[0], :g.shape[1]] = g\n",
    "    padded_anom.append(padded)"
   ]
  },
  {
   "cell_type": "code",
   "execution_count": 13,
   "id": "8a9545a7",
   "metadata": {},
   "outputs": [
    {
     "data": {
      "application/vnd.jupyter.widget-view+json": {
       "model_id": "3b2ce879ba4b4fe2ba53a821ecedd142",
       "version_major": 2,
       "version_minor": 0
      },
      "text/plain": [
       "  0%|          | 0/476 [00:00<?, ?it/s]"
      ]
     },
     "metadata": {},
     "output_type": "display_data"
    }
   ],
   "source": [
    "padded_clean = []\n",
    "for gs in tqdm(clean_gs):\n",
    "    g = nx.to_numpy_array(gs)\n",
    "    padded = np.zeros((1000, 1000))\n",
    "    padded[:g.shape[0], :g.shape[1]] = g\n",
    "    padded_clean.append(padded)"
   ]
  },
  {
   "cell_type": "code",
   "execution_count": 14,
   "id": "c514495d",
   "metadata": {},
   "outputs": [
    {
     "data": {
      "application/vnd.jupyter.widget-view+json": {
       "model_id": "b1bce69556e24118b3ccf44496fda47c",
       "version_major": 2,
       "version_minor": 0
      },
      "text/plain": [
       "  0%|          | 0/4720 [00:00<?, ?it/s]"
      ]
     },
     "metadata": {},
     "output_type": "display_data"
    }
   ],
   "source": [
    "results_anom = []\n",
    "for gs in tqdm(padded_anom):\n",
    "    gs_p = (A @ ((A.T @ gs) @ B) @ B.T)\n",
    "    d = np.linalg.norm(gs - gs_p)\n",
    "    results_anom.append(d)"
   ]
  },
  {
   "cell_type": "code",
   "execution_count": 15,
   "id": "72656a88",
   "metadata": {
    "scrolled": true
   },
   "outputs": [
    {
     "data": {
      "application/vnd.jupyter.widget-view+json": {
       "model_id": "16365cca42a6426ebdb0dd51e91c51e1",
       "version_major": 2,
       "version_minor": 0
      },
      "text/plain": [
       "  0%|          | 0/476 [00:00<?, ?it/s]"
      ]
     },
     "metadata": {},
     "output_type": "display_data"
    }
   ],
   "source": [
    "results_clean = []\n",
    "for gs in tqdm(padded_clean):\n",
    "    gs_p = (A @ ((A.T @ gs) @ B) @ B.T)\n",
    "    d = np.linalg.norm(gs - gs_p)\n",
    "    results_clean.append(d)"
   ]
  },
  {
   "cell_type": "code",
   "execution_count": 32,
   "id": "9093dbd5",
   "metadata": {},
   "outputs": [],
   "source": [
    "# storing results\n",
    "saved_model = open('rec_error_clean.sav', 'wb')\n",
    "pickle.dump(results_clean, saved_model)\n",
    "saved_model.close()\n",
    "\n",
    "saved_model = open('rec_error_anom.sav', 'wb')\n",
    "pickle.dump(results_anom, saved_model)\n",
    "saved_model.close()"
   ]
  },
  {
   "cell_type": "code",
   "execution_count": 33,
   "id": "cf0958db",
   "metadata": {},
   "outputs": [
    {
     "name": "stdout",
     "output_type": "stream",
     "text": [
      "150.97796461553804 4.725902221549903\n",
      "29.628322688595038 3.0777879545964697\n"
     ]
    }
   ],
   "source": [
    "print(max(results_anom), min(results_anom))\n",
    "print(max(results_clean), min(results_clean))"
   ]
  },
  {
   "cell_type": "code",
   "execution_count": 16,
   "id": "dd5f345e",
   "metadata": {},
   "outputs": [],
   "source": [
    "anom_y = np.zeros(len(results_anom))\n",
    "clean_y = np.zeros(len(results_clean))"
   ]
  },
  {
   "cell_type": "code",
   "execution_count": 17,
   "id": "e2530e6e",
   "metadata": {
    "scrolled": true
   },
   "outputs": [
    {
     "data": {
      "text/plain": [
       "<matplotlib.legend.Legend at 0x7fb5ce461b50>"
      ]
     },
     "execution_count": 17,
     "metadata": {},
     "output_type": "execute_result"
    },
    {
     "data": {
      "image/png": "[encoded data removed]",
      "text/plain": [
       "<Figure size 432x288 with 1 Axes>"
      ]
     },
     "metadata": {
      "needs_background": "light"
     },
     "output_type": "display_data"
    }
   ],
   "source": [
    "sns.scatterplot(x=results_anom, y=anom_y, marker='x')\n",
    "sns.scatterplot(x=results_clean, y=clean_y, marker='o')\n",
    "\n",
    "plt.legend(['Anom', 'Clean'])"
   ]
  },
  {
   "cell_type": "code",
   "execution_count": 18,
   "id": "7cc28e65",
   "metadata": {
    "scrolled": false
   },
   "outputs": [
    {
     "data": {
      "text/plain": [
       "<AxesSubplot:ylabel='Count'>"
      ]
     },
     "execution_count": 18,
     "metadata": {},
     "output_type": "execute_result"
    },
    {
     "data": {
      "image/png": "[encoded data removed]",
      "text/plain": [
       "<Figure size 432x288 with 1 Axes>"
      ]
     },
     "metadata": {
      "needs_background": "light"
     },
     "output_type": "display_data"
    }
   ],
   "source": [
    "sns.histplot(results_anom)\n",
    "sns.histplot(results_clean, ax=plt.gca())"
   ]
  },
  {
   "cell_type": "code",
   "execution_count": 19,
   "id": "0af511b1",
   "metadata": {
    "scrolled": true
   },
   "outputs": [
    {
     "data": {
      "text/plain": [
       "{'whiskers': [<matplotlib.lines.Line2D at 0x7fb59c532d00>,\n",
       "  <matplotlib.lines.Line2D at 0x7fb59c532fd0>,\n",
       "  <matplotlib.lines.Line2D at 0x7fb59c54b130>,\n",
       "  <matplotlib.lines.Line2D at 0x7fb59c54b400>],\n",
       " 'caps': [<matplotlib.lines.Line2D at 0x7fb59c52a3a0>,\n",
       "  <matplotlib.lines.Line2D at 0x7fb59c52a5b0>,\n",
       "  <matplotlib.lines.Line2D at 0x7fb59c54b6d0>,\n",
       "  <matplotlib.lines.Line2D at 0x7fb59c54b9a0>],\n",
       " 'boxes': [<matplotlib.lines.Line2D at 0x7fb59c540910>,\n",
       "  <matplotlib.lines.Line2D at 0x7fb59c52ae20>],\n",
       " 'medians': [<matplotlib.lines.Line2D at 0x7fb59c52a880>,\n",
       "  <matplotlib.lines.Line2D at 0x7fb59c54bc70>],\n",
       " 'fliers': [<matplotlib.lines.Line2D at 0x7fb59c52ab50>,\n",
       "  <matplotlib.lines.Line2D at 0x7fb59c54bf40>],\n",
       " 'means': []}"
      ]
     },
     "execution_count": 19,
     "metadata": {},
     "output_type": "execute_result"
    },
    {
     "data": {
      "image/png": "[encoded data removed]",
      "text/plain": [
       "<Figure size 432x288 with 1 Axes>"
      ]
     },
     "metadata": {
      "needs_background": "light"
     },
     "output_type": "display_data"
    }
   ],
   "source": [
    "comb = [results_clean, results_anom]\n",
    "plt.boxplot(comb)"
   ]
  },
  {
   "cell_type": "markdown",
   "id": "ea3593b4",
   "metadata": {},
   "source": [
    "# 2-means clustering"
   ]
  },
  {
   "cell_type": "code",
   "execution_count": 2,
   "id": "1b5ce9ff",
   "metadata": {},
   "outputs": [],
   "source": [
    "with open('rec_error_clean.sav', 'rb') as f:\n",
    "    results_clean = pickle.load(f)\n",
    "    f.close()\n",
    "    \n",
    "with open('rec_error_anom.sav', 'rb') as f:\n",
    "    results_anom = pickle.load(f)\n",
    "    f.close()"
   ]
  },
  {
   "cell_type": "code",
   "execution_count": 3,
   "id": "beb4953c",
   "metadata": {},
   "outputs": [],
   "source": [
    "results, true_labels = [], []\n",
    "results.extend(results_clean); results.extend(results_anom)\n",
    "true_labels.extend([0] * len(results_clean)); true_labels.extend([1] * len(results_anom))"
   ]
  },
  {
   "cell_type": "code",
   "execution_count": 4,
   "id": "191c8f62",
   "metadata": {},
   "outputs": [],
   "source": [
    "results = np.array(results).reshape(-1, 1)"
   ]
  },
  {
   "cell_type": "code",
   "execution_count": 5,
   "id": "443d76aa",
   "metadata": {},
   "outputs": [],
   "source": [
    "kmeans = KMeans(n_clusters=2, random_state=1).fit(results)"
   ]
  },
  {
   "cell_type": "code",
   "execution_count": 6,
   "id": "4188c988",
   "metadata": {},
   "outputs": [
    {
     "data": {
      "text/plain": [
       "<AxesSubplot:>"
      ]
     },
     "execution_count": 6,
     "metadata": {},
     "output_type": "execute_result"
    },
    {
     "data": {
      "image/png": "[encoded data removed]",
      "text/plain": [
       "<Figure size 432x288 with 1 Axes>"
      ]
     },
     "metadata": {
      "needs_background": "light"
     },
     "output_type": "display_data"
    }
   ],
   "source": [
    "sns.scatterplot(x=results_anom, y=np.zeros(len(results_anom)))\n",
    "sns.scatterplot(x=results_clean, y=np.zeros(len(results_clean)))"
   ]
  },
  {
   "cell_type": "code",
   "execution_count": 7,
   "id": "e400baca",
   "metadata": {
    "scrolled": true
   },
   "outputs": [
    {
     "data": {
      "text/plain": [
       "<AxesSubplot:>"
      ]
     },
     "execution_count": 7,
     "metadata": {},
     "output_type": "execute_result"
    },
    {
     "data": {
      "image/png": "[encoded data removed]",
      "text/plain": [
       "<Figure size 432x288 with 1 Axes>"
      ]
     },
     "metadata": {
      "needs_background": "light"
     },
     "output_type": "display_data"
    }
   ],
   "source": [
    "sns.scatterplot(x=results.flatten(), y=np.zeros(len(results)), hue=kmeans.labels_)"
   ]
  },
  {
   "cell_type": "code",
   "execution_count": 8,
   "id": "bb3efc8c",
   "metadata": {},
   "outputs": [
    {
     "name": "stdout",
     "output_type": "stream",
     "text": [
      "(array([0, 1]), array([ 476, 4720]))\n",
      "(array([0, 1], dtype=int32), array([3729, 1467]))\n",
      "0.47389688055600454\n"
     ]
    }
   ],
   "source": [
    "# F1 score\n",
    "\n",
    "print(np.unique(true_labels, return_counts=True))\n",
    "print(np.unique(kmeans.labels_, return_counts=True))\n",
    "\n",
    "print(f1_score(true_labels, kmeans.labels_))"
   ]
  },
  {
   "cell_type": "markdown",
   "id": "dda7b70f",
   "metadata": {},
   "source": [
    "## GMM"
   ]
  },
  {
   "cell_type": "code",
   "execution_count": 9,
   "id": "9ec0bb4f",
   "metadata": {},
   "outputs": [
    {
     "data": {
      "text/html": [
       "<style>#sk-container-id-1 {color: black;background-color: white;}#sk-container-id-1 pre{padding: 0;}#sk-container-id-1 div.sk-toggleable {background-color: white;}#sk-container-id-1 label.sk-toggleable__label {cursor: pointer;display: block;width: 100%;margin-bottom: 0;padding: 0.3em;box-sizing: border-box;text-align: center;}#sk-container-id-1 label.sk-toggleable__label-arrow:before {content: \"▸\";float: left;margin-right: 0.25em;color: #696969;}#sk-container-id-1 label.sk-toggleable__label-arrow:hover:before {color: black;}#sk-container-id-1 div.sk-estimator:hover label.sk-toggleable__label-arrow:before {color: black;}#sk-container-id-1 div.sk-toggleable__content {max-height: 0;max-width: 0;overflow: hidden;text-align: left;background-color: #f0f8ff;}#sk-container-id-1 div.sk-toggleable__content pre {margin: 0.2em;color: black;border-radius: 0.25em;background-color: #f0f8ff;}#sk-container-id-1 input.sk-toggleable__control:checked~div.sk-toggleable__content {max-height: 200px;max-width: 100%;overflow: auto;}#sk-container-id-1 input.sk-toggleable__control:checked~label.sk-toggleable__label-arrow:before {content: \"▾\";}#sk-container-id-1 div.sk-estimator input.sk-toggleable__control:checked~label.sk-toggleable__label {background-color: #d4ebff;}#sk-container-id-1 div.sk-label input.sk-toggleable__control:checked~label.sk-toggleable__label {background-color: #d4ebff;}#sk-container-id-1 input.sk-hidden--visually {border: 0;clip: rect(1px 1px 1px 1px);clip: rect(1px, 1px, 1px, 1px);height: 1px;margin: -1px;overflow: hidden;padding: 0;position: absolute;width: 1px;}#sk-container-id-1 div.sk-estimator {font-family: monospace;background-color: #f0f8ff;border: 1px dotted black;border-radius: 0.25em;box-sizing: border-box;margin-bottom: 0.5em;}#sk-container-id-1 div.sk-estimator:hover {background-color: #d4ebff;}#sk-container-id-1 div.sk-parallel-item::after {content: \"\";width: 100%;border-bottom: 1px solid gray;flex-grow: 1;}#sk-container-id-1 div.sk-label:hover label.sk-toggleable__label {background-color: #d4ebff;}#sk-container-id-1 div.sk-serial::before {content: \"\";position: absolute;border-left: 1px solid gray;box-sizing: border-box;top: 0;bottom: 0;left: 50%;z-index: 0;}#sk-container-id-1 div.sk-serial {display: flex;flex-direction: column;align-items: center;background-color: white;padding-right: 0.2em;padding-left: 0.2em;position: relative;}#sk-container-id-1 div.sk-item {position: relative;z-index: 1;}#sk-container-id-1 div.sk-parallel {display: flex;align-items: stretch;justify-content: center;background-color: white;position: relative;}#sk-container-id-1 div.sk-item::before, #sk-container-id-1 div.sk-parallel-item::before {content: \"\";position: absolute;border-left: 1px solid gray;box-sizing: border-box;top: 0;bottom: 0;left: 50%;z-index: -1;}#sk-container-id-1 div.sk-parallel-item {display: flex;flex-direction: column;z-index: 1;position: relative;background-color: white;}#sk-container-id-1 div.sk-parallel-item:first-child::after {align-self: flex-end;width: 50%;}#sk-container-id-1 div.sk-parallel-item:last-child::after {align-self: flex-start;width: 50%;}#sk-container-id-1 div.sk-parallel-item:only-child::after {width: 0;}#sk-container-id-1 div.sk-dashed-wrapped {border: 1px dashed gray;margin: 0 0.4em 0.5em 0.4em;box-sizing: border-box;padding-bottom: 0.4em;background-color: white;}#sk-container-id-1 div.sk-label label {font-family: monospace;font-weight: bold;display: inline-block;line-height: 1.2em;}#sk-container-id-1 div.sk-label-container {text-align: center;}#sk-container-id-1 div.sk-container {/* jupyter's `normalize.less` sets `[hidden] { display: none; }` but bootstrap.min.css set `[hidden] { display: none !important; }` so we also need the `!important` here to be able to override the default hidden behavior on the sphinx rendered scikit-learn.org. See: https://github.com/scikit-learn/scikit-learn/issues/21755 */display: inline-block !important;position: relative;}#sk-container-id-1 div.sk-text-repr-fallback {display: none;}</style><div id=\"sk-container-id-1\" class=\"sk-top-container\"><div class=\"sk-text-repr-fallback\"><pre>GaussianMixture(n_components=2)</pre><b>In a Jupyter environment, please rerun this cell to show the HTML representation or trust the notebook. <br />On GitHub, the HTML representation is unable to render, please try loading this page with nbviewer.org.</b></div><div class=\"sk-container\" hidden><div class=\"sk-item\"><div class=\"sk-estimator sk-toggleable\"><input class=\"sk-toggleable__control sk-hidden--visually\" id=\"sk-estimator-id-1\" type=\"checkbox\" checked><label for=\"sk-estimator-id-1\" class=\"sk-toggleable__label sk-toggleable__label-arrow\">GaussianMixture</label><div class=\"sk-toggleable__content\"><pre>GaussianMixture(n_components=2)</pre></div></div></div></div></div>"
      ],
      "text/plain": [
       "GaussianMixture(n_components=2)"
      ]
     },
     "execution_count": 9,
     "metadata": {},
     "output_type": "execute_result"
    }
   ],
   "source": [
    "from sklearn.mixture import GaussianMixture\n",
    "\n",
    "gmm = GaussianMixture(n_components=2)\n",
    "\n",
    "gmm.fit(results)"
   ]
  },
  {
   "cell_type": "code",
   "execution_count": 10,
   "id": "7b1e30e7",
   "metadata": {},
   "outputs": [],
   "source": [
    "labels = gmm.predict(results)"
   ]
  },
  {
   "cell_type": "code",
   "execution_count": 11,
   "id": "3ec37ce5",
   "metadata": {
    "scrolled": true
   },
   "outputs": [
    {
     "data": {
      "text/plain": [
       "<matplotlib.collections.PathCollection at 0x7f961a3706a0>"
      ]
     },
     "execution_count": 11,
     "metadata": {},
     "output_type": "execute_result"
    },
    {
     "data": {
      "image/png": "[encoded data removed]",
      "text/plain": [
       "<Figure size 432x288 with 1 Axes>"
      ]
     },
     "metadata": {
      "needs_background": "light"
     },
     "output_type": "display_data"
    }
   ],
   "source": [
    "plt.title('GMM Clustering')\n",
    "sns.scatterplot(x=results.flatten(), y=np.zeros(len(results)), hue=labels)\n",
    "plt.scatter([np.median(results_anom)], 0, c='red')\n",
    "plt.scatter([np.median(results_clean)], 0, c='blue')"
   ]
  },
  {
   "cell_type": "code",
   "execution_count": 12,
   "id": "a73f354e",
   "metadata": {},
   "outputs": [
    {
     "name": "stdout",
     "output_type": "stream",
     "text": [
      "(array([0, 1]), array([ 476, 4720]))\n",
      "(array([0, 1]), array([3637, 1559]))\n",
      "0.4959388437649307\n"
     ]
    }
   ],
   "source": [
    "# F1 score\n",
    "\n",
    "print(np.unique(true_labels, return_counts=True))\n",
    "print(np.unique(labels, return_counts=True))\n",
    "\n",
    "print(f1_score(true_labels, labels))"
   ]
  },
  {
   "cell_type": "markdown",
   "id": "0cb5a490",
   "metadata": {},
   "source": [
    "## Redefined Anomalies"
   ]
  },
  {
   "cell_type": "code",
   "execution_count": 13,
   "id": "d808512d",
   "metadata": {},
   "outputs": [
    {
     "name": "stdout",
     "output_type": "stream",
     "text": [
      "Graph with 5196 nodes and 172897 edges\n"
     ]
    }
   ],
   "source": [
    "bc_data = scipy.io.loadmat(\"datasets/blogcatalog.mat\")\n",
    "\n",
    "G = nx.from_scipy_sparse_array(bc_data[\"Network\"])\n",
    "# nx.set_node_attributes(G, bc_data[\"Attributes\"], 'Attributes')\n",
    "print(str(G))\n",
    "\n",
    "# convert list of lists to list\n",
    "labels = [j for i in bc_data[\"Label\"] for j in i]\n",
    "\n",
    "# Add labels to each node\n",
    "for i in range(len(G.nodes)):\n",
    "    G.nodes[i]['Anomaly'] = labels[i]"
   ]
  },
  {
   "cell_type": "code",
   "execution_count": 14,
   "id": "2c15e9f2",
   "metadata": {},
   "outputs": [],
   "source": [
    "def load_bc_data(G):\n",
    "\n",
    "    G = max((G.subgraph(c) for c in nx.connected_components(G)), key=len)\n",
    "    G = nx.convert_node_labels_to_integers(G)\n",
    "    ego_gs, roots = [], []\n",
    "\n",
    "    for i in tqdm(range(G.number_of_nodes())):\n",
    "        roots.append(G.nodes[i]['Anomaly'])\n",
    "        G_ego = nx.ego_graph(G, i, radius=1)\n",
    "        if G_ego.number_of_nodes() >= 2:\n",
    "            ego_gs.append(G_ego)\n",
    "\n",
    "    return G, ego_gs, roots"
   ]
  },
  {
   "cell_type": "code",
   "execution_count": 15,
   "id": "117f38ec",
   "metadata": {},
   "outputs": [
    {
     "data": {
      "application/vnd.jupyter.widget-view+json": {
       "model_id": "d003baff503e481eba76c3babb5c87ad",
       "version_major": 2,
       "version_minor": 0
      },
      "text/plain": [
       "  0%|          | 0/5196 [00:00<?, ?it/s]"
      ]
     },
     "metadata": {},
     "output_type": "display_data"
    }
   ],
   "source": [
    "G, ego_gs, roots = load_bc_data(G)"
   ]
  },
  {
   "cell_type": "code",
   "execution_count": 16,
   "id": "eae16280",
   "metadata": {},
   "outputs": [],
   "source": [
    "roots = [int(r) for r in roots]"
   ]
  },
  {
   "cell_type": "code",
   "execution_count": 17,
   "id": "58c08ded",
   "metadata": {
    "scrolled": true
   },
   "outputs": [
    {
     "data": {
      "application/vnd.jupyter.widget-view+json": {
       "model_id": "1a51ff7210684490944735ace0608385",
       "version_major": 2,
       "version_minor": 0
      },
      "text/plain": [
       "  0%|          | 0/5196 [00:00<?, ?it/s]"
      ]
     },
     "metadata": {},
     "output_type": "display_data"
    },
    {
     "name": "stdout",
     "output_type": "stream",
     "text": [
      "# of anomalous graphs: 298/5196\n",
      "# of clean graphs: 4898/5196\n"
     ]
    }
   ],
   "source": [
    "anom_gs, clean_gs = [], []\n",
    "for idx, root_attr in enumerate(tqdm(roots)):\n",
    "    if root_attr == 1:\n",
    "        anom_gs.append(ego_gs[idx])\n",
    "    else:\n",
    "        clean_gs.append(ego_gs[idx])\n",
    "        \n",
    "print(f'# of anomalous graphs: {len(anom_gs)}/{len(ego_gs)}')\n",
    "print(f'# of clean graphs: {len(clean_gs)}/{len(ego_gs)}')"
   ]
  },
  {
   "cell_type": "code",
   "execution_count": 18,
   "id": "ee3802c7",
   "metadata": {},
   "outputs": [
    {
     "data": {
      "application/vnd.jupyter.widget-view+json": {
       "model_id": "daf33cc3d7f3466084ece1c69505391d",
       "version_major": 2,
       "version_minor": 0
      },
      "text/plain": [
       "  0%|          | 0/298 [00:00<?, ?it/s]"
      ]
     },
     "metadata": {},
     "output_type": "display_data"
    }
   ],
   "source": [
    "padded_anom = []\n",
    "for gs in tqdm(anom_gs):\n",
    "    g = nx.to_numpy_array(gs)\n",
    "    padded = np.zeros((1000, 1000))\n",
    "    padded[:g.shape[0], :g.shape[1]] = g\n",
    "    padded_anom.append(padded)"
   ]
  },
  {
   "cell_type": "code",
   "execution_count": 19,
   "id": "69994ec4",
   "metadata": {},
   "outputs": [
    {
     "data": {
      "application/vnd.jupyter.widget-view+json": {
       "model_id": "df0b87fabf474b4fab11d3a70afbea2b",
       "version_major": 2,
       "version_minor": 0
      },
      "text/plain": [
       "  0%|          | 0/4898 [00:00<?, ?it/s]"
      ]
     },
     "metadata": {},
     "output_type": "display_data"
    },
    {
     "ename": "KeyboardInterrupt",
     "evalue": "",
     "output_type": "error",
     "traceback": [
      "\u001b[0;31m---------------------------------------------------------------------------\u001b[0m",
      "\u001b[0;31mKeyboardInterrupt\u001b[0m                         Traceback (most recent call last)",
      "Input \u001b[0;32mIn [19]\u001b[0m, in \u001b[0;36m<cell line: 2>\u001b[0;34m()\u001b[0m\n\u001b[1;32m      2\u001b[0m \u001b[38;5;28;01mfor\u001b[39;00m gs \u001b[38;5;129;01min\u001b[39;00m tqdm(clean_gs):\n\u001b[1;32m      3\u001b[0m     g \u001b[38;5;241m=\u001b[39m nx\u001b[38;5;241m.\u001b[39mto_numpy_array(gs)\n\u001b[0;32m----> 4\u001b[0m     padded \u001b[38;5;241m=\u001b[39m \u001b[43mnp\u001b[49m\u001b[38;5;241;43m.\u001b[39;49m\u001b[43mzeros\u001b[49m\u001b[43m(\u001b[49m\u001b[43m(\u001b[49m\u001b[38;5;241;43m1000\u001b[39;49m\u001b[43m,\u001b[49m\u001b[43m \u001b[49m\u001b[38;5;241;43m1000\u001b[39;49m\u001b[43m)\u001b[49m\u001b[43m)\u001b[49m\n\u001b[1;32m      5\u001b[0m     padded[:g\u001b[38;5;241m.\u001b[39mshape[\u001b[38;5;241m0\u001b[39m], :g\u001b[38;5;241m.\u001b[39mshape[\u001b[38;5;241m1\u001b[39m]] \u001b[38;5;241m=\u001b[39m g\n\u001b[1;32m      6\u001b[0m     padded_clean\u001b[38;5;241m.\u001b[39mappend(padded)\n",
      "\u001b[0;31mKeyboardInterrupt\u001b[0m: "
     ]
    }
   ],
   "source": [
    "padded_clean = []\n",
    "for gs in tqdm(clean_gs):\n",
    "    g = nx.to_numpy_array(gs)\n",
    "    padded = np.zeros((1000, 1000))\n",
    "    padded[:g.shape[0], :g.shape[1]] = g\n",
    "    padded_clean.append(padded)"
   ]
  },
  {
   "cell_type": "code",
   "execution_count": null,
   "id": "0a1a0d12",
   "metadata": {},
   "outputs": [],
   "source": [
    "results_anom = []\n",
    "for gs in tqdm(padded_anom):\n",
    "    gs_p = (A @ ((A.T @ gs) @ B) @ B.T)\n",
    "    d = np.linalg.norm(gs - gs_p)\n",
    "    results_anom.append(d)"
   ]
  },
  {
   "cell_type": "code",
   "execution_count": null,
   "id": "860b32d7",
   "metadata": {},
   "outputs": [],
   "source": [
    "results_clean = []\n",
    "for gs in tqdm(padded_clean):\n",
    "    gs_p = (A @ ((A.T @ gs) @ B) @ B.T)\n",
    "    d = np.linalg.norm(gs - gs_p)\n",
    "    results_clean.append(d)"
   ]
  },
  {
   "cell_type": "code",
   "execution_count": 58,
   "id": "f5baa1aa",
   "metadata": {},
   "outputs": [],
   "source": [
    "# storing results\n",
    "saved_model = open('rec_error_clean_mod.sav', 'wb')\n",
    "pickle.dump(results_clean, saved_model)\n",
    "saved_model.close()\n",
    "\n",
    "saved_model = open('rec_error_anom_mod.sav', 'wb')\n",
    "pickle.dump(results_anom, saved_model)\n",
    "saved_model.close()"
   ]
  },
  {
   "cell_type": "code",
   "execution_count": 59,
   "id": "02c29b3e",
   "metadata": {},
   "outputs": [],
   "source": [
    "anom_y = np.zeros(len(results_anom))\n",
    "clean_y = np.zeros(len(results_clean))"
   ]
  },
  {
   "cell_type": "code",
   "execution_count": 60,
   "id": "a5eda66f",
   "metadata": {},
   "outputs": [
    {
     "data": {
      "text/plain": [
       "<matplotlib.legend.Legend at 0x7fa1c3ed99a0>"
      ]
     },
     "execution_count": 60,
     "metadata": {},
     "output_type": "execute_result"
    },
    {
     "data": {
      "image/png": "[encoded data removed]",
      "text/plain": [
       "<Figure size 432x288 with 1 Axes>"
      ]
     },
     "metadata": {
      "needs_background": "light"
     },
     "output_type": "display_data"
    }
   ],
   "source": [
    "sns.scatterplot(x=results_clean, y=clean_y, marker='o')\n",
    "sns.scatterplot(x=results_anom, y=anom_y, marker='x')\n",
    "plt.scatter([np.median(results_anom)], 0, c='red')\n",
    "plt.scatter([np.median(results_clean)], 0, c='blue')\n",
    "\n",
    "plt.legend(['Anom', 'Clean'])"
   ]
  },
  {
   "cell_type": "code",
   "execution_count": 61,
   "id": "891a6f9e",
   "metadata": {},
   "outputs": [
    {
     "data": {
      "text/plain": [
       "<AxesSubplot:ylabel='Count'>"
      ]
     },
     "execution_count": 61,
     "metadata": {},
     "output_type": "execute_result"
    },
    {
     "data": {
      "image/png": "[encoded data removed]",
      "text/plain": [
       "<Figure size 432x288 with 1 Axes>"
      ]
     },
     "metadata": {
      "needs_background": "light"
     },
     "output_type": "display_data"
    }
   ],
   "source": [
    "sns.histplot(results_anom)\n",
    "sns.histplot(results_clean, ax=plt.gca())"
   ]
  },
  {
   "cell_type": "code",
   "execution_count": 62,
   "id": "4215ac2c",
   "metadata": {
    "scrolled": true
   },
   "outputs": [
    {
     "data": {
      "text/plain": [
       "{'whiskers': [<matplotlib.lines.Line2D at 0x7f9d47ef0130>,\n",
       "  <matplotlib.lines.Line2D at 0x7f9d47ef0490>,\n",
       "  <matplotlib.lines.Line2D at 0x7fa16b81e8e0>,\n",
       "  <matplotlib.lines.Line2D at 0x7fa16b81ec10>],\n",
       " 'caps': [<matplotlib.lines.Line2D at 0x7f9d47ef0760>,\n",
       "  <matplotlib.lines.Line2D at 0x7f9d47ef09d0>,\n",
       "  <matplotlib.lines.Line2D at 0x7fa16b81ef10>,\n",
       "  <matplotlib.lines.Line2D at 0x7fa16c2cd0d0>],\n",
       " 'boxes': [<matplotlib.lines.Line2D at 0x7f9d47ef0c40>,\n",
       "  <matplotlib.lines.Line2D at 0x7fa16b81e550>],\n",
       " 'medians': [<matplotlib.lines.Line2D at 0x7f9d47ef0d90>,\n",
       "  <matplotlib.lines.Line2D at 0x7fa16c2cd490>],\n",
       " 'fliers': [<matplotlib.lines.Line2D at 0x7fa16b81e3a0>,\n",
       "  <matplotlib.lines.Line2D at 0x7fa16c2cdb20>],\n",
       " 'means': []}"
      ]
     },
     "execution_count": 62,
     "metadata": {},
     "output_type": "execute_result"
    },
    {
     "data": {
      "image/png": "[encoded data removed]",
      "text/plain": [
       "<Figure size 432x288 with 1 Axes>"
      ]
     },
     "metadata": {
      "needs_background": "light"
     },
     "output_type": "display_data"
    }
   ],
   "source": [
    "comb = [results_clean, results_anom]\n",
    "plt.boxplot(comb)"
   ]
  },
  {
   "cell_type": "markdown",
   "id": "a5734e61",
   "metadata": {},
   "source": [
    "# 2-means clustering"
   ]
  },
  {
   "cell_type": "code",
   "execution_count": 20,
   "id": "be56027a",
   "metadata": {},
   "outputs": [],
   "source": [
    "with open('rec_error_clean_mod.sav', 'rb') as f:\n",
    "    results_clean = pickle.load(f)\n",
    "    f.close()\n",
    "    \n",
    "with open('rec_error_anom_mod.sav', 'rb') as f:\n",
    "    results_anom = pickle.load(f)\n",
    "    f.close()"
   ]
  },
  {
   "cell_type": "code",
   "execution_count": 22,
   "id": "fb60851b",
   "metadata": {},
   "outputs": [],
   "source": [
    "results, true_labels = [], []\n",
    "results.extend(results_clean); results.extend(results_anom)\n",
    "true_labels.extend([0] * len(results_clean)); true_labels.extend([1] * len(results_anom))"
   ]
  },
  {
   "cell_type": "code",
   "execution_count": 23,
   "id": "c7f7fbd8",
   "metadata": {},
   "outputs": [],
   "source": [
    "results = np.array(results).reshape(-1, 1)"
   ]
  },
  {
   "cell_type": "code",
   "execution_count": 24,
   "id": "71c4e32e",
   "metadata": {},
   "outputs": [],
   "source": [
    "kmeans = KMeans(n_clusters=2, random_state=1).fit(results)"
   ]
  },
  {
   "cell_type": "code",
   "execution_count": 25,
   "id": "7428d110",
   "metadata": {
    "scrolled": true
   },
   "outputs": [
    {
     "data": {
      "text/plain": [
       "<matplotlib.collections.PathCollection at 0x7f961c359b20>"
      ]
     },
     "execution_count": 25,
     "metadata": {},
     "output_type": "execute_result"
    },
    {
     "data": {
      "image/png": "[encoded data removed]",
      "text/plain": [
       "<Figure size 432x288 with 1 Axes>"
      ]
     },
     "metadata": {
      "needs_background": "light"
     },
     "output_type": "display_data"
    }
   ],
   "source": [
    "sns.scatterplot(x=results.flatten(), y=np.zeros(len(results)), hue=kmeans.labels_)\n",
    "plt.scatter([np.median(results_anom)], 0, c='red')\n",
    "plt.scatter([np.median(results_clean)], 0, c='blue')"
   ]
  },
  {
   "cell_type": "code",
   "execution_count": 26,
   "id": "cfc3a05c",
   "metadata": {},
   "outputs": [
    {
     "name": "stdout",
     "output_type": "stream",
     "text": [
      "(array([0, 1]), array([4898,  298]))\n",
      "(array([0, 1], dtype=int32), array([3719, 1477]))\n",
      "0.13183098591549294\n"
     ]
    }
   ],
   "source": [
    "# F1 score\n",
    "\n",
    "print(np.unique(true_labels, return_counts=True))\n",
    "print(np.unique(kmeans.labels_, return_counts=True))\n",
    "\n",
    "print(f1_score(true_labels, kmeans.labels_))"
   ]
  },
  {
   "cell_type": "markdown",
   "id": "394f14ab",
   "metadata": {},
   "source": [
    "## GMM"
   ]
  },
  {
   "cell_type": "code",
   "execution_count": 27,
   "id": "2058716d",
   "metadata": {},
   "outputs": [
    {
     "data": {
      "text/html": [
       "<style>#sk-container-id-2 {color: black;background-color: white;}#sk-container-id-2 pre{padding: 0;}#sk-container-id-2 div.sk-toggleable {background-color: white;}#sk-container-id-2 label.sk-toggleable__label {cursor: pointer;display: block;width: 100%;margin-bottom: 0;padding: 0.3em;box-sizing: border-box;text-align: center;}#sk-container-id-2 label.sk-toggleable__label-arrow:before {content: \"▸\";float: left;margin-right: 0.25em;color: #696969;}#sk-container-id-2 label.sk-toggleable__label-arrow:hover:before {color: black;}#sk-container-id-2 div.sk-estimator:hover label.sk-toggleable__label-arrow:before {color: black;}#sk-container-id-2 div.sk-toggleable__content {max-height: 0;max-width: 0;overflow: hidden;text-align: left;background-color: #f0f8ff;}#sk-container-id-2 div.sk-toggleable__content pre {margin: 0.2em;color: black;border-radius: 0.25em;background-color: #f0f8ff;}#sk-container-id-2 input.sk-toggleable__control:checked~div.sk-toggleable__content {max-height: 200px;max-width: 100%;overflow: auto;}#sk-container-id-2 input.sk-toggleable__control:checked~label.sk-toggleable__label-arrow:before {content: \"▾\";}#sk-container-id-2 div.sk-estimator input.sk-toggleable__control:checked~label.sk-toggleable__label {background-color: #d4ebff;}#sk-container-id-2 div.sk-label input.sk-toggleable__control:checked~label.sk-toggleable__label {background-color: #d4ebff;}#sk-container-id-2 input.sk-hidden--visually {border: 0;clip: rect(1px 1px 1px 1px);clip: rect(1px, 1px, 1px, 1px);height: 1px;margin: -1px;overflow: hidden;padding: 0;position: absolute;width: 1px;}#sk-container-id-2 div.sk-estimator {font-family: monospace;background-color: #f0f8ff;border: 1px dotted black;border-radius: 0.25em;box-sizing: border-box;margin-bottom: 0.5em;}#sk-container-id-2 div.sk-estimator:hover {background-color: #d4ebff;}#sk-container-id-2 div.sk-parallel-item::after {content: \"\";width: 100%;border-bottom: 1px solid gray;flex-grow: 1;}#sk-container-id-2 div.sk-label:hover label.sk-toggleable__label {background-color: #d4ebff;}#sk-container-id-2 div.sk-serial::before {content: \"\";position: absolute;border-left: 1px solid gray;box-sizing: border-box;top: 0;bottom: 0;left: 50%;z-index: 0;}#sk-container-id-2 div.sk-serial {display: flex;flex-direction: column;align-items: center;background-color: white;padding-right: 0.2em;padding-left: 0.2em;position: relative;}#sk-container-id-2 div.sk-item {position: relative;z-index: 1;}#sk-container-id-2 div.sk-parallel {display: flex;align-items: stretch;justify-content: center;background-color: white;position: relative;}#sk-container-id-2 div.sk-item::before, #sk-container-id-2 div.sk-parallel-item::before {content: \"\";position: absolute;border-left: 1px solid gray;box-sizing: border-box;top: 0;bottom: 0;left: 50%;z-index: -1;}#sk-container-id-2 div.sk-parallel-item {display: flex;flex-direction: column;z-index: 1;position: relative;background-color: white;}#sk-container-id-2 div.sk-parallel-item:first-child::after {align-self: flex-end;width: 50%;}#sk-container-id-2 div.sk-parallel-item:last-child::after {align-self: flex-start;width: 50%;}#sk-container-id-2 div.sk-parallel-item:only-child::after {width: 0;}#sk-container-id-2 div.sk-dashed-wrapped {border: 1px dashed gray;margin: 0 0.4em 0.5em 0.4em;box-sizing: border-box;padding-bottom: 0.4em;background-color: white;}#sk-container-id-2 div.sk-label label {font-family: monospace;font-weight: bold;display: inline-block;line-height: 1.2em;}#sk-container-id-2 div.sk-label-container {text-align: center;}#sk-container-id-2 div.sk-container {/* jupyter's `normalize.less` sets `[hidden] { display: none; }` but bootstrap.min.css set `[hidden] { display: none !important; }` so we also need the `!important` here to be able to override the default hidden behavior on the sphinx rendered scikit-learn.org. See: https://github.com/scikit-learn/scikit-learn/issues/21755 */display: inline-block !important;position: relative;}#sk-container-id-2 div.sk-text-repr-fallback {display: none;}</style><div id=\"sk-container-id-2\" class=\"sk-top-container\"><div class=\"sk-text-repr-fallback\"><pre>GaussianMixture(n_components=2)</pre><b>In a Jupyter environment, please rerun this cell to show the HTML representation or trust the notebook. <br />On GitHub, the HTML representation is unable to render, please try loading this page with nbviewer.org.</b></div><div class=\"sk-container\" hidden><div class=\"sk-item\"><div class=\"sk-estimator sk-toggleable\"><input class=\"sk-toggleable__control sk-hidden--visually\" id=\"sk-estimator-id-2\" type=\"checkbox\" checked><label for=\"sk-estimator-id-2\" class=\"sk-toggleable__label sk-toggleable__label-arrow\">GaussianMixture</label><div class=\"sk-toggleable__content\"><pre>GaussianMixture(n_components=2)</pre></div></div></div></div></div>"
      ],
      "text/plain": [
       "GaussianMixture(n_components=2)"
      ]
     },
     "execution_count": 27,
     "metadata": {},
     "output_type": "execute_result"
    }
   ],
   "source": [
    "from sklearn.mixture import GaussianMixture\n",
    "\n",
    "gmm = GaussianMixture(n_components=2)\n",
    "\n",
    "gmm.fit(results)"
   ]
  },
  {
   "cell_type": "code",
   "execution_count": 28,
   "id": "da772678",
   "metadata": {},
   "outputs": [],
   "source": [
    "labels = gmm.predict(results)"
   ]
  },
  {
   "cell_type": "code",
   "execution_count": 29,
   "id": "96341bda",
   "metadata": {
    "scrolled": false
   },
   "outputs": [
    {
     "data": {
      "text/plain": [
       "<matplotlib.collections.PathCollection at 0x7f95ec6337c0>"
      ]
     },
     "execution_count": 29,
     "metadata": {},
     "output_type": "execute_result"
    },
    {
     "data": {
      "image/png": "[encoded data removed]",
      "text/plain": [
       "<Figure size 432x288 with 1 Axes>"
      ]
     },
     "metadata": {
      "needs_background": "light"
     },
     "output_type": "display_data"
    }
   ],
   "source": [
    "plt.title('GMM Clustering')\n",
    "sns.scatterplot(x=results.flatten(), y=np.zeros(len(results)), hue=labels)\n",
    "plt.scatter([np.median(results_anom)], 0, c='red')\n",
    "plt.scatter([np.median(results_clean)], 0, c='blue')"
   ]
  },
  {
   "cell_type": "code",
   "execution_count": 30,
   "id": "5732b8e4",
   "metadata": {},
   "outputs": [
    {
     "name": "stdout",
     "output_type": "stream",
     "text": [
      "(array([0, 1]), array([4898,  298]))\n",
      "(array([0, 1]), array([3663, 1533]))\n",
      "0.1354451119606772\n"
     ]
    }
   ],
   "source": [
    "# F1 score\n",
    "\n",
    "print(np.unique(true_labels, return_counts=True))\n",
    "print(np.unique(labels, return_counts=True))\n",
    "\n",
    "print(f1_score(true_labels, labels))"
   ]
  },
  {
   "cell_type": "markdown",
   "id": "7e8ec6aa",
   "metadata": {},
   "source": [
    "# Comparing rank"
   ]
  },
  {
   "cell_type": "code",
   "execution_count": 6,
   "id": "9c1f8b5b",
   "metadata": {},
   "outputs": [
    {
     "name": "stdout",
     "output_type": "stream",
     "text": [
      "Graph with 5196 nodes and 172897 edges\n"
     ]
    }
   ],
   "source": [
    "bc_data = scipy.io.loadmat(\"datasets/blogcatalog.mat\")\n",
    "\n",
    "G = nx.from_scipy_sparse_array(bc_data[\"Network\"])\n",
    "# nx.set_node_attributes(G, bc_data[\"Attributes\"], 'Attributes')\n",
    "print(str(G))\n",
    "\n",
    "# convert list of lists to list\n",
    "labels = [j for i in bc_data[\"Label\"] for j in i]\n",
    "\n",
    "# Add labels to each node\n",
    "for i in range(len(G.nodes)):\n",
    "    G.nodes[i]['Anomaly'] = labels[i]"
   ]
  },
  {
   "cell_type": "code",
   "execution_count": 10,
   "id": "5db2759d",
   "metadata": {},
   "outputs": [],
   "source": [
    "def load_bc_data(G):\n",
    "\n",
    "    G = max((G.subgraph(c) for c in nx.connected_components(G)), key=len)\n",
    "    G = nx.convert_node_labels_to_integers(G)\n",
    "    ego_gs, roots = [], []\n",
    "    max_graph = 0\n",
    "\n",
    "    for i in tqdm(range(G.number_of_nodes())):\n",
    "        roots.append(G.nodes[i]['Anomaly'])\n",
    "        G_ego = nx.ego_graph(G, i, radius=1)\n",
    "        if G_ego.number_of_nodes() >= 2:\n",
    "            ego_gs.append(G_ego)\n",
    "\n",
    "    return G, ego_gs, max_graph, roots\n",
    "\n",
    "# get anomalous egonets\n",
    "def is_anomolous(G):\n",
    "    for node in G.nodes():\n",
    "        if G.nodes[node]['Anomaly'] == 1:\n",
    "            return True\n",
    "    return False"
   ]
  },
  {
   "cell_type": "code",
   "execution_count": 8,
   "id": "5d6bebe1",
   "metadata": {
    "scrolled": false
   },
   "outputs": [
    {
     "data": {
      "application/vnd.jupyter.widget-view+json": {
       "model_id": "5fff5603cba24f0bbea1317e4f405e17",
       "version_major": 2,
       "version_minor": 0
      },
      "text/plain": [
       "  0%|          | 0/5196 [00:00<?, ?it/s]"
      ]
     },
     "metadata": {},
     "output_type": "display_data"
    }
   ],
   "source": [
    "G, ego_gs, _, roots = load_bc_data(G)\n",
    "\n",
    "roots = [int(r) for r in roots]"
   ]
  },
  {
   "cell_type": "code",
   "execution_count": 11,
   "id": "a2092982",
   "metadata": {
    "scrolled": true
   },
   "outputs": [
    {
     "data": {
      "application/vnd.jupyter.widget-view+json": {
       "model_id": "c8baedc6d4cd4241b7726a93426f745b",
       "version_major": 2,
       "version_minor": 0
      },
      "text/plain": [
       "  0%|          | 0/5196 [00:00<?, ?it/s]"
      ]
     },
     "metadata": {},
     "output_type": "display_data"
    },
    {
     "name": "stdout",
     "output_type": "stream",
     "text": [
      "# of anomalous graphs: 4720/5196\n",
      "# of clean graphs: 476/5196\n"
     ]
    }
   ],
   "source": [
    "anom_gs, clean_gs = [], []\n",
    "for idx, g in enumerate(tqdm(ego_gs, total=len(ego_gs))):\n",
    "    if is_anomolous(g):\n",
    "        anom_gs.append(g)\n",
    "    else:\n",
    "        clean_gs.append(g)\n",
    "\n",
    "print(f'# of anomalous graphs: {len(anom_gs)}/{len(ego_gs)}')\n",
    "print(f'# of clean graphs: {len(clean_gs)}/{len(ego_gs)}')"
   ]
  },
  {
   "cell_type": "code",
   "execution_count": 12,
   "id": "505e30ce",
   "metadata": {},
   "outputs": [
    {
     "data": {
      "application/vnd.jupyter.widget-view+json": {
       "model_id": "cdf8ec3779264fd696d579e0fde3e5bc",
       "version_major": 2,
       "version_minor": 0
      },
      "text/plain": [
       "  0%|          | 0/4720 [00:00<?, ?it/s]"
      ]
     },
     "metadata": {},
     "output_type": "display_data"
    },
    {
     "data": {
      "application/vnd.jupyter.widget-view+json": {
       "model_id": "2c5557d0e7ca4aeea85e3850acea305a",
       "version_major": 2,
       "version_minor": 0
      },
      "text/plain": [
       "  0%|          | 0/476 [00:00<?, ?it/s]"
      ]
     },
     "metadata": {},
     "output_type": "display_data"
    }
   ],
   "source": [
    "padded_anom = []\n",
    "for gs in tqdm(anom_gs):\n",
    "    g = nx.to_numpy_array(gs)\n",
    "    padded = np.zeros((1000, 1000))\n",
    "    padded[:g.shape[0], :g.shape[1]] = g\n",
    "    padded_anom.append(padded)\n",
    "\n",
    "padded_clean = []\n",
    "for gs in tqdm(clean_gs):\n",
    "    g = nx.to_numpy_array(gs)\n",
    "    padded = np.zeros((1000, 1000))\n",
    "    padded[:g.shape[0], :g.shape[1]] = g\n",
    "    padded_clean.append(padded)"
   ]
  },
  {
   "cell_type": "code",
   "execution_count": 29,
   "id": "18bed91c",
   "metadata": {},
   "outputs": [],
   "source": [
    "with open('decomp_rank_10.sav', 'rb') as f:\n",
    "    result = pickle.load(f)\n",
    "    f.close()\n",
    "    \n",
    "core, factors = result\n",
    "A, B, C = factors\n",
    "A, B, C, = np.array(A), np.array(B), np.array(C)"
   ]
  },
  {
   "cell_type": "code",
   "execution_count": 30,
   "id": "857e2dab",
   "metadata": {},
   "outputs": [
    {
     "data": {
      "application/vnd.jupyter.widget-view+json": {
       "model_id": "12aa795b5bfe41c39a4bd3485830b09e",
       "version_major": 2,
       "version_minor": 0
      },
      "text/plain": [
       "  0%|          | 0/4720 [00:00<?, ?it/s]"
      ]
     },
     "metadata": {},
     "output_type": "display_data"
    },
    {
     "data": {
      "application/vnd.jupyter.widget-view+json": {
       "model_id": "42a5a0a661744540af3e14b94b2bcb4f",
       "version_major": 2,
       "version_minor": 0
      },
      "text/plain": [
       "  0%|          | 0/476 [00:00<?, ?it/s]"
      ]
     },
     "metadata": {},
     "output_type": "display_data"
    }
   ],
   "source": [
    "results_anom_rank10 = []\n",
    "for gs in tqdm(padded_anom):\n",
    "    gs_p = (A @ ((A.T @ gs) @ B) @ B.T)\n",
    "    d = np.linalg.norm(gs - gs_p)\n",
    "    results_anom_rank10.append(d)\n",
    "    \n",
    "results_clean_rank10 = []\n",
    "for gs in tqdm(padded_clean):\n",
    "    gs_p = (A @ ((A.T @ gs) @ B) @ B.T)\n",
    "    d = np.linalg.norm(gs - gs_p)\n",
    "    results_clean_rank10.append(d)"
   ]
  },
  {
   "cell_type": "code",
   "execution_count": 31,
   "id": "482448f4",
   "metadata": {},
   "outputs": [],
   "source": [
    "with open('decomp_rank_20.sav', 'rb') as f:\n",
    "    result = pickle.load(f)\n",
    "    f.close()\n",
    "    \n",
    "core, factors = result\n",
    "A, B, C = factors\n",
    "A, B, C, = np.array(A), np.array(B), np.array(C)"
   ]
  },
  {
   "cell_type": "code",
   "execution_count": 32,
   "id": "94d4319b",
   "metadata": {},
   "outputs": [
    {
     "data": {
      "application/vnd.jupyter.widget-view+json": {
       "model_id": "29c562326a2b42e2944932d943ca2a81",
       "version_major": 2,
       "version_minor": 0
      },
      "text/plain": [
       "  0%|          | 0/4720 [00:00<?, ?it/s]"
      ]
     },
     "metadata": {},
     "output_type": "display_data"
    },
    {
     "data": {
      "application/vnd.jupyter.widget-view+json": {
       "model_id": "395ef49048494433ab56870a0025be9b",
       "version_major": 2,
       "version_minor": 0
      },
      "text/plain": [
       "  0%|          | 0/476 [00:00<?, ?it/s]"
      ]
     },
     "metadata": {},
     "output_type": "display_data"
    }
   ],
   "source": [
    "results_anom_rank20 = []\n",
    "for gs in tqdm(padded_anom):\n",
    "    gs_p = (A @ ((A.T @ gs) @ B) @ B.T)\n",
    "    d = np.linalg.norm(gs - gs_p)\n",
    "    results_anom_rank20.append(d)\n",
    "    \n",
    "results_clean_rank20 = []\n",
    "for gs in tqdm(padded_clean):\n",
    "    gs_p = (A @ ((A.T @ gs) @ B) @ B.T)\n",
    "    d = np.linalg.norm(gs - gs_p)\n",
    "    results_clean_rank20.append(d)"
   ]
  },
  {
   "cell_type": "code",
   "execution_count": 33,
   "id": "8f3738ac",
   "metadata": {},
   "outputs": [],
   "source": [
    "with open('decomp_rank_30.sav', 'rb') as f:\n",
    "    result = pickle.load(f)\n",
    "    f.close()\n",
    "    \n",
    "core, factors = result\n",
    "A, B, C = factors\n",
    "A, B, C, = np.array(A), np.array(B), np.array(C)"
   ]
  },
  {
   "cell_type": "code",
   "execution_count": 34,
   "id": "f3da36c0",
   "metadata": {
    "scrolled": true
   },
   "outputs": [
    {
     "data": {
      "application/vnd.jupyter.widget-view+json": {
       "model_id": "578587205aa4433da23620d2eb09a15e",
       "version_major": 2,
       "version_minor": 0
      },
      "text/plain": [
       "  0%|          | 0/4720 [00:00<?, ?it/s]"
      ]
     },
     "metadata": {},
     "output_type": "display_data"
    },
    {
     "data": {
      "application/vnd.jupyter.widget-view+json": {
       "model_id": "2fb85c04964742eaad6ebf8cf4528548",
       "version_major": 2,
       "version_minor": 0
      },
      "text/plain": [
       "  0%|          | 0/476 [00:00<?, ?it/s]"
      ]
     },
     "metadata": {},
     "output_type": "display_data"
    }
   ],
   "source": [
    "results_anom_rank30 = []\n",
    "for gs in tqdm(padded_anom):\n",
    "    gs_p = (A @ ((A.T @ gs) @ B) @ B.T)\n",
    "    d = np.linalg.norm(gs - gs_p)\n",
    "    results_anom_rank30.append(d)\n",
    "    \n",
    "results_clean_rank30 = []\n",
    "for gs in tqdm(padded_clean):\n",
    "    gs_p = (A @ ((A.T @ gs) @ B) @ B.T)\n",
    "    d = np.linalg.norm(gs - gs_p)\n",
    "    results_clean_rank30.append(d)"
   ]
  },
  {
   "cell_type": "code",
   "execution_count": 73,
   "id": "79fa8023",
   "metadata": {},
   "outputs": [
    {
     "data": {
      "text/plain": [
       "19.77976919352111"
      ]
     },
     "execution_count": 73,
     "metadata": {},
     "output_type": "execute_result"
    }
   ],
   "source": [
    "np.median(results_anom_rank10)"
   ]
  },
  {
   "cell_type": "code",
   "execution_count": 107,
   "id": "dd1a33d7",
   "metadata": {},
   "outputs": [
    {
     "name": "stdout",
     "output_type": "stream",
     "text": [
      "Medians (Anom): \n",
      "\tRank 10: 19.77976919352111 \n",
      "\tRank 20: 19.29826500033036 \n",
      "\tRank 30: 18.804974818125746\n",
      "Medians (Clean): \n",
      "\tRank 10: 10.158757345814799 \n",
      "\tRank 20: 9.839839314037569 \n",
      "\tRank 30: 9.434414607191169\n"
     ]
    },
    {
     "data": {
      "image/png": "[encoded data removed]",
      "text/plain": [
       "<Figure size 1080x360 with 1 Axes>"
      ]
     },
     "metadata": {
      "needs_background": "light"
     },
     "output_type": "display_data"
    }
   ],
   "source": [
    "fig, ax = plt.subplots(1,1,figsize=(15,5))\n",
    "y_len = len(ego_gs)\n",
    "\n",
    "plt.scatter(x=np.concatenate((results_anom_rank10, results_clean_rank10)), y=np.ones(y_len)*10, c='orange')\n",
    "plt.scatter([np.median(results_anom_rank10)], 10, c='red')\n",
    "plt.scatter([np.median(results_clean_rank10)], 10, c='blue')\n",
    "\n",
    "plt.scatter(x=np.concatenate((results_anom_rank20, results_clean_rank20)), y=np.ones(y_len)*20, c='orange')\n",
    "plt.scatter([np.median(results_anom_rank20)], 20, c='red')\n",
    "plt.scatter([np.median(results_clean_rank20)], 20, c='blue')\n",
    "\n",
    "plt.scatter(x=np.concatenate((results_anom_rank30, results_clean_rank30)), y=np.ones(y_len)*30, c='orange')\n",
    "plt.scatter([np.median(results_anom_rank30)], 30, c='red')\n",
    "plt.scatter([np.median(results_clean_rank30)], 30, c='blue')\n",
    "\n",
    "# plt.legend(['Anom', 'Clean'])\n",
    "\n",
    "plt.ylabel('Rank')\n",
    "plt.xlabel('Reconstruction Error')\n",
    "\n",
    "print(\"Medians (Anom):\", '\\n\\tRank 10:', np.median(results_anom_rank10), '\\n\\tRank 20:', np.median(results_anom_rank20), '\\n\\tRank 30:', np.median(results_anom_rank30))\n",
    "print(\"Medians (Clean):\", '\\n\\tRank 10:', np.median(results_clean_rank10), '\\n\\tRank 20:', np.median(results_clean_rank20), '\\n\\tRank 30:', np.median(results_clean_rank30))"
   ]
  },
  {
   "cell_type": "code",
   "execution_count": 108,
   "id": "587d76da",
   "metadata": {},
   "outputs": [
    {
     "name": "stdout",
     "output_type": "stream",
     "text": [
      "Means (Anom): \n",
      "\tRank 10: 22.8006186111722 \n",
      "\tRank 20: 22.256011199588613 \n",
      "\tRank 30: 21.708269331215998\n",
      "Means (Clean): \n",
      "\tRank 10: 11.016616284701675 \n",
      "\tRank 20: 10.612503572572765 \n",
      "\tRank 30: 10.251006571134413\n"
     ]
    },
    {
     "data": {
      "image/png": "[encoded data removed]",
      "text/plain": [
       "<Figure size 1080x360 with 1 Axes>"
      ]
     },
     "metadata": {
      "needs_background": "light"
     },
     "output_type": "display_data"
    }
   ],
   "source": [
    "fig, ax = plt.subplots(1,1,figsize=(15,5))\n",
    "y_len = len(ego_gs)\n",
    "\n",
    "plt.scatter(x=np.concatenate((results_anom_rank10, results_clean_rank10)), y=np.ones(y_len)*10, c='orange')\n",
    "plt.scatter([np.mean(results_anom_rank10)], 10, c='red')\n",
    "plt.scatter([np.mean(results_clean_rank10)], 10, c='blue')\n",
    "\n",
    "plt.scatter(x=np.concatenate((results_anom_rank20, results_clean_rank20)), y=np.ones(y_len)*20, c='orange')\n",
    "plt.scatter([np.mean(results_anom_rank20)], 20, c='red')\n",
    "plt.scatter([np.mean(results_clean_rank20)], 20, c='blue')\n",
    "\n",
    "plt.scatter(x=np.concatenate((results_anom_rank30, results_clean_rank30)), y=np.ones(y_len)*30, c='orange')\n",
    "plt.scatter([np.mean(results_anom_rank30)], 30, c='red')\n",
    "plt.scatter([np.mean(results_clean_rank30)], 30, c='blue')\n",
    "\n",
    "# plt.legend(['Anom', 'Clean'])\n",
    "\n",
    "plt.ylabel('Rank')\n",
    "plt.xlabel('Reconstruction Error')\n",
    "\n",
    "print(\"Means (Anom):\", '\\n\\tRank 10:', np.mean(results_anom_rank10), '\\n\\tRank 20:', np.mean(results_anom_rank20), '\\n\\tRank 30:', np.mean(results_anom_rank30))\n",
    "print(\"Means (Clean):\", '\\n\\tRank 10:', np.mean(results_clean_rank10), '\\n\\tRank 20:', np.mean(results_clean_rank20), '\\n\\tRank 30:', np.mean(results_clean_rank30))"
   ]
  },
  {
   "cell_type": "markdown",
   "id": "de28067d",
   "metadata": {},
   "source": [
    "# Testing on different data"
   ]
  },
  {
   "cell_type": "code",
   "execution_count": 7,
   "id": "bc525853",
   "metadata": {},
   "outputs": [],
   "source": [
    "def load_network(path):\n",
    "    \n",
    "    try:\n",
    "        data = scipy.io.loadmat(path)\n",
    "    except:\n",
    "        print('Invalid data path')\n",
    "\n",
    "    G = nx.from_scipy_sparse_array(data[\"Network\"])\n",
    "    # nx.set_node_attributes(G, bc_data[\"Attributes\"], 'Attributes')\n",
    "    print(str(G))\n",
    "\n",
    "    # convert list of lists to list\n",
    "    labels = [j for i in data[\"Label\"] for j in i]\n",
    "\n",
    "    # Add labels to each node\n",
    "    for i in range(len(G.nodes)):\n",
    "        G.nodes[i]['Anomaly'] = labels[i]\n",
    "\n",
    "    G = max((G.subgraph(c) for c in nx.connected_components(G)), key=len)\n",
    "    G = nx.convert_node_labels_to_integers(G)\n",
    "    ego_gs, roots = [], []\n",
    "\n",
    "    for i in tqdm(range(G.number_of_nodes())):\n",
    "        roots.append(G.nodes[i]['Anomaly'])\n",
    "        G_ego = nx.ego_graph(G, i, radius=1)\n",
    "        if G_ego.number_of_nodes() >= 2:\n",
    "            ego_gs.append(G_ego)\n",
    "\n",
    "    return G, ego_gs, roots"
   ]
  },
  {
   "cell_type": "code",
   "execution_count": null,
   "id": "b5b669cb",
   "metadata": {},
   "outputs": [],
   "source": [
    "G, ego_gs, roots = load_network('datasets/Flickr.mat')\n",
    "\n",
    "roots = [int(r) for r in roots]"
   ]
  },
  {
   "cell_type": "code",
   "execution_count": 4,
   "id": "01eca6cc",
   "metadata": {},
   "outputs": [
    {
     "name": "stdout",
     "output_type": "stream",
     "text": [
      "Using 16445 egonets\n"
     ]
    }
   ],
   "source": [
    "print(f'Using {len(ego_gs)} egonets')"
   ]
  },
  {
   "cell_type": "code",
   "execution_count": 5,
   "id": "86ebf033",
   "metadata": {},
   "outputs": [],
   "source": [
    "# get anomalous egonets for definition 2\n",
    "def is_anomolous(G):\n",
    "    for node in G.nodes():\n",
    "        if G.nodes[node]['Anomaly'] == 1:\n",
    "            return True\n",
    "    return False"
   ]
  },
  {
   "cell_type": "code",
   "execution_count": 6,
   "id": "1ed9b9c4",
   "metadata": {},
   "outputs": [
    {
     "data": {
      "application/vnd.jupyter.widget-view+json": {
       "model_id": "04a72d6c65f64699b942167d1df08b79",
       "version_major": 2,
       "version_minor": 0
      },
      "text/plain": [
       "  0%|          | 0/16445 [00:00<?, ?it/s]"
      ]
     },
     "metadata": {},
     "output_type": "display_data"
    },
    {
     "name": "stdout",
     "output_type": "stream",
     "text": [
      "# of anomalous graphs: 4633/16445\n",
      "# of clean graphs: 11812/16445\n"
     ]
    }
   ],
   "source": [
    "anom_gs, clean_gs = [], []\n",
    "for idx, g in enumerate(tqdm(ego_gs)):\n",
    "    # check if root is anomolous first\n",
    "    if is_anomolous(g):\n",
    "        anom_gs.append(g)\n",
    "    else:\n",
    "        clean_gs.append(g)\n",
    "        \n",
    "print(f'# of anomalous graphs: {len(anom_gs)}/{len(ego_gs)}')\n",
    "print(f'# of clean graphs: {len(clean_gs)}/{len(ego_gs)}')"
   ]
  },
  {
   "cell_type": "code",
   "execution_count": 8,
   "id": "8a7a9b80",
   "metadata": {},
   "outputs": [
    {
     "name": "stdout",
     "output_type": "stream",
     "text": [
      "Input a slice size for tensor: 1000\n"
     ]
    },
    {
     "data": {
      "application/vnd.jupyter.widget-view+json": {
       "model_id": "a60c82345f654055a373772df37a1a74",
       "version_major": 2,
       "version_minor": 0
      },
      "text/plain": [
       "  0%|          | 0/1000 [00:00<?, ?it/s]"
      ]
     },
     "metadata": {},
     "output_type": "display_data"
    }
   ],
   "source": [
    "slice_size = int(input(\"Input a slice size for tensor: \"))\n",
    "\n",
    "cube = torch.empty((1, slice_size, slice_size, slice_size))\n",
    "\n",
    "for i in tqdm(range(len(clean_gs[:slice_size]))):\n",
    "    slice_gs = nx.to_numpy_array(clean_gs[i])[:slice_size, :slice_size]\n",
    "    result = np.zeros((slice_size, slice_size))\n",
    "    result[:slice_gs.shape[0],:slice_gs.shape[1]] = slice_gs\n",
    "    \n",
    "    ten = torch.as_tensor(result)\n",
    "    dim = ten.shape[0]\n",
    "    cube[0, :dim, :dim, i] = ten"
   ]
  },
  {
   "cell_type": "code",
   "execution_count": 9,
   "id": "794955f8",
   "metadata": {},
   "outputs": [],
   "source": [
    "saved_model = open('acm_tens.sav', 'wb')\n",
    "pickle.dump(cube, saved_model)\n",
    "saved_model.close()"
   ]
  },
  {
   "cell_type": "code",
   "execution_count": 10,
   "id": "e2669652",
   "metadata": {},
   "outputs": [],
   "source": [
    "with open('acm_tens.sav', 'rb') as f:\n",
    "    cube = pickle.load(f)\n",
    "    f.close()"
   ]
  },
  {
   "cell_type": "code",
   "execution_count": null,
   "id": "797bcc14",
   "metadata": {},
   "outputs": [
    {
     "data": {
      "application/vnd.jupyter.widget-view+json": {
       "model_id": "c3f6dac147be47b6ad93a65c60ea37a1",
       "version_major": 2,
       "version_minor": 0
      },
      "text/plain": [
       "  0%|          | 0/4633 [00:00<?, ?it/s]"
      ]
     },
     "metadata": {},
     "output_type": "display_data"
    },
    {
     "data": {
      "application/vnd.jupyter.widget-view+json": {
       "model_id": "4c6ffa88ac9d4242b47347bd98e7f3cb",
       "version_major": 2,
       "version_minor": 0
      },
      "text/plain": [
       "  0%|          | 0/11812 [00:00<?, ?it/s]"
      ]
     },
     "metadata": {},
     "output_type": "display_data"
    }
   ],
   "source": [
    "# padding adjacency matrices\n",
    "padded_anom = []\n",
    "for gs in tqdm(anom_gs):\n",
    "    g = nx.to_numpy_array(gs)\n",
    "    padded = np.zeros((1000, 1000))\n",
    "    padded[:g.shape[0], :g.shape[1]] = g\n",
    "    padded_anom.append(padded)\n",
    "    \n",
    "padded_clean = []\n",
    "for gs in tqdm(clean_gs):\n",
    "    g = nx.to_numpy_array(gs)\n",
    "    padded = np.zeros((1000, 1000))\n",
    "    padded[:g.shape[0], :g.shape[1]] = g\n",
    "    padded_clean.append(padded)"
   ]
  },
  {
   "cell_type": "markdown",
   "id": "e2c489cc",
   "metadata": {},
   "source": [
    "# CP Decomposition"
   ]
  },
  {
   "cell_type": "code",
   "execution_count": 3,
   "id": "639f6141",
   "metadata": {},
   "outputs": [],
   "source": [
    "with open('cp_decomp_mod.sav', 'rb') as f:\n",
    "    result = pickle.load(f)\n",
    "    f.close()\n",
    "    \n",
    "core, factors = result\n",
    "A, B, C = factors\n",
    "A, B, C, = np.array(A), np.array(B), np.array(C)"
   ]
  },
  {
   "cell_type": "code",
   "execution_count": 4,
   "id": "643dccde",
   "metadata": {},
   "outputs": [],
   "source": [
    "# get anomalous egonets for definition 2\n",
    "def is_anomolous(G):\n",
    "    for node in G.nodes():\n",
    "        if G.nodes[node]['Anomaly'] == 1:\n",
    "            return True\n",
    "    return False"
   ]
  },
  {
   "cell_type": "code",
   "execution_count": 8,
   "id": "07421f14",
   "metadata": {},
   "outputs": [
    {
     "name": "stdout",
     "output_type": "stream",
     "text": [
      "Graph with 5196 nodes and 172897 edges\n"
     ]
    },
    {
     "data": {
      "application/vnd.jupyter.widget-view+json": {
       "model_id": "c30172b3c569470c9c4b8ca412db131e",
       "version_major": 2,
       "version_minor": 0
      },
      "text/plain": [
       "  0%|          | 0/5196 [00:00<?, ?it/s]"
      ]
     },
     "metadata": {},
     "output_type": "display_data"
    },
    {
     "data": {
      "text/plain": [
       "[0,\n",
       " 0,\n",
       " 0,\n",
       " 0,\n",
       " 0,\n",
       " 0,\n",
       " 0,\n",
       " 0,\n",
       " 0,\n",
       " 0,\n",
       " 0,\n",
       " 0,\n",
       " 0,\n",
       " 0,\n",
       " 0,\n",
       " 0,\n",
       " 0,\n",
       " 0,\n",
       " 0,\n",
       " 0,\n",
       " 0,\n",
       " 0,\n",
       " 0,\n",
       " 0,\n",
       " 1,\n",
       " 0,\n",
       " 0,\n",
       " 0,\n",
       " 0,\n",
       " 0,\n",
       " 0,\n",
       " 0,\n",
       " 0,\n",
       " 0,\n",
       " 0,\n",
       " 1,\n",
       " 0,\n",
       " 0,\n",
       " 0,\n",
       " 0,\n",
       " 0,\n",
       " 0,\n",
       " 1,\n",
       " 0,\n",
       " 0,\n",
       " 0,\n",
       " 1,\n",
       " 0,\n",
       " 0,\n",
       " 0,\n",
       " 0,\n",
       " 0,\n",
       " 0,\n",
       " 0,\n",
       " 0,\n",
       " 0,\n",
       " 0,\n",
       " 0,\n",
       " 0,\n",
       " 0,\n",
       " 0,\n",
       " 0,\n",
       " 0,\n",
       " 0,\n",
       " 0,\n",
       " 0,\n",
       " 0,\n",
       " 0,\n",
       " 1,\n",
       " 0,\n",
       " 0,\n",
       " 0,\n",
       " 0,\n",
       " 0,\n",
       " 0,\n",
       " 0,\n",
       " 0,\n",
       " 0,\n",
       " 0,\n",
       " 0,\n",
       " 0,\n",
       " 0,\n",
       " 0,\n",
       " 0,\n",
       " 0,\n",
       " 0,\n",
       " 0,\n",
       " 0,\n",
       " 0,\n",
       " 0,\n",
       " 0,\n",
       " 0,\n",
       " 0,\n",
       " 0,\n",
       " 0,\n",
       " 0,\n",
       " 0,\n",
       " 0,\n",
       " 0,\n",
       " 0,\n",
       " 0,\n",
       " 0,\n",
       " 1,\n",
       " 0,\n",
       " 0,\n",
       " 0,\n",
       " 0,\n",
       " 0,\n",
       " 0,\n",
       " 0,\n",
       " 0,\n",
       " 0,\n",
       " 0,\n",
       " 0,\n",
       " 0,\n",
       " 0,\n",
       " 1,\n",
       " 0,\n",
       " 0,\n",
       " 0,\n",
       " 0,\n",
       " 0,\n",
       " 0,\n",
       " 0,\n",
       " 0,\n",
       " 0,\n",
       " 0,\n",
       " 0,\n",
       " 0,\n",
       " 0,\n",
       " 0,\n",
       " 0,\n",
       " 0,\n",
       " 0,\n",
       " 0,\n",
       " 0,\n",
       " 0,\n",
       " 0,\n",
       " 0,\n",
       " 0,\n",
       " 0,\n",
       " 0,\n",
       " 0,\n",
       " 0,\n",
       " 0,\n",
       " 0,\n",
       " 0,\n",
       " 0,\n",
       " 1,\n",
       " 0,\n",
       " 1,\n",
       " 0,\n",
       " 0,\n",
       " 0,\n",
       " 0,\n",
       " 0,\n",
       " 0,\n",
       " 0,\n",
       " 0,\n",
       " 0,\n",
       " 0,\n",
       " 0,\n",
       " 0,\n",
       " 0,\n",
       " 0,\n",
       " 0,\n",
       " 0,\n",
       " 0,\n",
       " 0,\n",
       " 0,\n",
       " 0,\n",
       " 0,\n",
       " 0,\n",
       " 0,\n",
       " 1,\n",
       " 0,\n",
       " 0,\n",
       " 0,\n",
       " 0,\n",
       " 0,\n",
       " 0,\n",
       " 0,\n",
       " 0,\n",
       " 1,\n",
       " 0,\n",
       " 0,\n",
       " 0,\n",
       " 1,\n",
       " 0,\n",
       " 0,\n",
       " 0,\n",
       " 0,\n",
       " 0,\n",
       " 0,\n",
       " 0,\n",
       " 0,\n",
       " 0,\n",
       " 0,\n",
       " 0,\n",
       " 0,\n",
       " 0,\n",
       " 0,\n",
       " 0,\n",
       " 0,\n",
       " 1,\n",
       " 0,\n",
       " 0,\n",
       " 0,\n",
       " 0,\n",
       " 0,\n",
       " 0,\n",
       " 0,\n",
       " 0,\n",
       " 0,\n",
       " 0,\n",
       " 0,\n",
       " 0,\n",
       " 0,\n",
       " 0,\n",
       " 0,\n",
       " 0,\n",
       " 0,\n",
       " 0,\n",
       " 0,\n",
       " 0,\n",
       " 1,\n",
       " 0,\n",
       " 0,\n",
       " 0,\n",
       " 0,\n",
       " 0,\n",
       " 0,\n",
       " 0,\n",
       " 0,\n",
       " 0,\n",
       " 0,\n",
       " 0,\n",
       " 0,\n",
       " 0,\n",
       " 0,\n",
       " 0,\n",
       " 0,\n",
       " 0,\n",
       " 0,\n",
       " 0,\n",
       " 0,\n",
       " 0,\n",
       " 0,\n",
       " 0,\n",
       " 0,\n",
       " 0,\n",
       " 0,\n",
       " 0,\n",
       " 0,\n",
       " 0,\n",
       " 0,\n",
       " 0,\n",
       " 0,\n",
       " 0,\n",
       " 0,\n",
       " 0,\n",
       " 0,\n",
       " 0,\n",
       " 0,\n",
       " 0,\n",
       " 0,\n",
       " 0,\n",
       " 0,\n",
       " 0,\n",
       " 0,\n",
       " 0,\n",
       " 0,\n",
       " 0,\n",
       " 0,\n",
       " 0,\n",
       " 0,\n",
       " 0,\n",
       " 0,\n",
       " 0,\n",
       " 0,\n",
       " 0,\n",
       " 0,\n",
       " 0,\n",
       " 0,\n",
       " 0,\n",
       " 0,\n",
       " 1,\n",
       " 0,\n",
       " 0,\n",
       " 0,\n",
       " 0,\n",
       " 0,\n",
       " 1,\n",
       " 0,\n",
       " 0,\n",
       " 0,\n",
       " 0,\n",
       " 0,\n",
       " 0,\n",
       " 0,\n",
       " 0,\n",
       " 0,\n",
       " 0,\n",
       " 0,\n",
       " 0,\n",
       " 0,\n",
       " 0,\n",
       " 0,\n",
       " 0,\n",
       " 0,\n",
       " 0,\n",
       " 0,\n",
       " 0,\n",
       " 0,\n",
       " 0,\n",
       " 1,\n",
       " 0,\n",
       " 0,\n",
       " 0,\n",
       " 1,\n",
       " 0,\n",
       " 0,\n",
       " 0,\n",
       " 0,\n",
       " 0,\n",
       " 0,\n",
       " 0,\n",
       " 0,\n",
       " 0,\n",
       " 1,\n",
       " 1,\n",
       " 0,\n",
       " 0,\n",
       " 0,\n",
       " 0,\n",
       " 0,\n",
       " 0,\n",
       " 0,\n",
       " 0,\n",
       " 0,\n",
       " 0,\n",
       " 0,\n",
       " 0,\n",
       " 0,\n",
       " 0,\n",
       " 0,\n",
       " 0,\n",
       " 0,\n",
       " 0,\n",
       " 0,\n",
       " 0,\n",
       " 0,\n",
       " 0,\n",
       " 0,\n",
       " 0,\n",
       " 1,\n",
       " 0,\n",
       " 0,\n",
       " 0,\n",
       " 0,\n",
       " 1,\n",
       " 0,\n",
       " 1,\n",
       " 1,\n",
       " 0,\n",
       " 0,\n",
       " 0,\n",
       " 0,\n",
       " 0,\n",
       " 0,\n",
       " 0,\n",
       " 0,\n",
       " 0,\n",
       " 1,\n",
       " 0,\n",
       " 0,\n",
       " 0,\n",
       " 0,\n",
       " 0,\n",
       " 0,\n",
       " 0,\n",
       " 0,\n",
       " 0,\n",
       " 0,\n",
       " 0,\n",
       " 0,\n",
       " 0,\n",
       " 0,\n",
       " 0,\n",
       " 0,\n",
       " 0,\n",
       " 0,\n",
       " 0,\n",
       " 0,\n",
       " 0,\n",
       " 1,\n",
       " 0,\n",
       " 0,\n",
       " 1,\n",
       " 0,\n",
       " 0,\n",
       " 0,\n",
       " 0,\n",
       " 0,\n",
       " 0,\n",
       " 0,\n",
       " 0,\n",
       " 0,\n",
       " 0,\n",
       " 0,\n",
       " 0,\n",
       " 0,\n",
       " 0,\n",
       " 0,\n",
       " 0,\n",
       " 0,\n",
       " 1,\n",
       " 0,\n",
       " 0,\n",
       " 0,\n",
       " 0,\n",
       " 0,\n",
       " 0,\n",
       " 0,\n",
       " 0,\n",
       " 0,\n",
       " 0,\n",
       " 0,\n",
       " 0,\n",
       " 0,\n",
       " 0,\n",
       " 0,\n",
       " 0,\n",
       " 0,\n",
       " 0,\n",
       " 1,\n",
       " 0,\n",
       " 0,\n",
       " 0,\n",
       " 0,\n",
       " 0,\n",
       " 0,\n",
       " 0,\n",
       " 0,\n",
       " 1,\n",
       " 0,\n",
       " 0,\n",
       " 0,\n",
       " 1,\n",
       " 0,\n",
       " 0,\n",
       " 0,\n",
       " 0,\n",
       " 0,\n",
       " 0,\n",
       " 0,\n",
       " 0,\n",
       " 0,\n",
       " 0,\n",
       " 0,\n",
       " 0,\n",
       " 0,\n",
       " 0,\n",
       " 0,\n",
       " 0,\n",
       " 0,\n",
       " 0,\n",
       " 0,\n",
       " 0,\n",
       " 0,\n",
       " 0,\n",
       " 0,\n",
       " 0,\n",
       " 0,\n",
       " 0,\n",
       " 0,\n",
       " 0,\n",
       " 0,\n",
       " 1,\n",
       " 0,\n",
       " 0,\n",
       " 0,\n",
       " 0,\n",
       " 0,\n",
       " 0,\n",
       " 0,\n",
       " 0,\n",
       " 0,\n",
       " 0,\n",
       " 0,\n",
       " 0,\n",
       " 0,\n",
       " 0,\n",
       " 0,\n",
       " 0,\n",
       " 0,\n",
       " 0,\n",
       " 0,\n",
       " 0,\n",
       " 0,\n",
       " 0,\n",
       " 0,\n",
       " 0,\n",
       " 0,\n",
       " 0,\n",
       " 0,\n",
       " 0,\n",
       " 0,\n",
       " 0,\n",
       " 0,\n",
       " 0,\n",
       " 0,\n",
       " 0,\n",
       " 0,\n",
       " 0,\n",
       " 0,\n",
       " 0,\n",
       " 0,\n",
       " 0,\n",
       " 0,\n",
       " 0,\n",
       " 0,\n",
       " 0,\n",
       " 0,\n",
       " 0,\n",
       " 0,\n",
       " 1,\n",
       " 0,\n",
       " 0,\n",
       " 0,\n",
       " 0,\n",
       " 0,\n",
       " 1,\n",
       " 0,\n",
       " 0,\n",
       " 0,\n",
       " 0,\n",
       " 0,\n",
       " 0,\n",
       " 0,\n",
       " 1,\n",
       " 0,\n",
       " 0,\n",
       " 0,\n",
       " 0,\n",
       " 0,\n",
       " 0,\n",
       " 0,\n",
       " 0,\n",
       " 0,\n",
       " 0,\n",
       " 0,\n",
       " 0,\n",
       " 0,\n",
       " 0,\n",
       " 0,\n",
       " 1,\n",
       " 0,\n",
       " 0,\n",
       " 0,\n",
       " 0,\n",
       " 0,\n",
       " 0,\n",
       " 0,\n",
       " 0,\n",
       " 0,\n",
       " 0,\n",
       " 0,\n",
       " 1,\n",
       " 0,\n",
       " 0,\n",
       " 0,\n",
       " 0,\n",
       " 0,\n",
       " 0,\n",
       " 0,\n",
       " 0,\n",
       " 0,\n",
       " 1,\n",
       " 1,\n",
       " 0,\n",
       " 0,\n",
       " 0,\n",
       " 0,\n",
       " 0,\n",
       " 0,\n",
       " 0,\n",
       " 0,\n",
       " 0,\n",
       " 0,\n",
       " 0,\n",
       " 0,\n",
       " 0,\n",
       " 0,\n",
       " 0,\n",
       " 0,\n",
       " 0,\n",
       " 0,\n",
       " 0,\n",
       " 0,\n",
       " 0,\n",
       " 1,\n",
       " 0,\n",
       " 0,\n",
       " 0,\n",
       " 1,\n",
       " 0,\n",
       " 0,\n",
       " 0,\n",
       " 0,\n",
       " 0,\n",
       " 0,\n",
       " 0,\n",
       " 0,\n",
       " 0,\n",
       " 0,\n",
       " 0,\n",
       " 0,\n",
       " 0,\n",
       " 0,\n",
       " 0,\n",
       " 0,\n",
       " 0,\n",
       " 0,\n",
       " 0,\n",
       " 0,\n",
       " 0,\n",
       " 0,\n",
       " 0,\n",
       " 0,\n",
       " 0,\n",
       " 0,\n",
       " 0,\n",
       " 0,\n",
       " 0,\n",
       " 0,\n",
       " 0,\n",
       " 0,\n",
       " 0,\n",
       " 0,\n",
       " 0,\n",
       " 0,\n",
       " 0,\n",
       " 0,\n",
       " 0,\n",
       " 0,\n",
       " 0,\n",
       " 0,\n",
       " 0,\n",
       " 0,\n",
       " 0,\n",
       " 0,\n",
       " 0,\n",
       " 0,\n",
       " 0,\n",
       " 0,\n",
       " 0,\n",
       " 0,\n",
       " 0,\n",
       " 0,\n",
       " 0,\n",
       " 0,\n",
       " 0,\n",
       " 1,\n",
       " 0,\n",
       " 0,\n",
       " 0,\n",
       " 0,\n",
       " 0,\n",
       " 0,\n",
       " 0,\n",
       " 0,\n",
       " 0,\n",
       " 0,\n",
       " 0,\n",
       " 0,\n",
       " 0,\n",
       " 0,\n",
       " 0,\n",
       " 0,\n",
       " 0,\n",
       " 0,\n",
       " 0,\n",
       " 0,\n",
       " 0,\n",
       " 0,\n",
       " 0,\n",
       " 0,\n",
       " 0,\n",
       " 0,\n",
       " 0,\n",
       " 1,\n",
       " 0,\n",
       " 1,\n",
       " 0,\n",
       " 0,\n",
       " 0,\n",
       " 0,\n",
       " 0,\n",
       " 0,\n",
       " 0,\n",
       " 0,\n",
       " 1,\n",
       " 0,\n",
       " 0,\n",
       " 0,\n",
       " 0,\n",
       " 0,\n",
       " 0,\n",
       " 0,\n",
       " 0,\n",
       " 0,\n",
       " 0,\n",
       " 0,\n",
       " 0,\n",
       " 0,\n",
       " 0,\n",
       " 0,\n",
       " 0,\n",
       " 0,\n",
       " 0,\n",
       " 0,\n",
       " 0,\n",
       " 0,\n",
       " 0,\n",
       " 0,\n",
       " 0,\n",
       " 0,\n",
       " 0,\n",
       " 0,\n",
       " 0,\n",
       " 0,\n",
       " 0,\n",
       " 0,\n",
       " 0,\n",
       " 0,\n",
       " 1,\n",
       " 0,\n",
       " 0,\n",
       " 0,\n",
       " 0,\n",
       " 0,\n",
       " 0,\n",
       " 0,\n",
       " 0,\n",
       " 0,\n",
       " 0,\n",
       " 0,\n",
       " 0,\n",
       " 0,\n",
       " 0,\n",
       " 0,\n",
       " 0,\n",
       " 1,\n",
       " 0,\n",
       " 0,\n",
       " 0,\n",
       " 0,\n",
       " 1,\n",
       " 0,\n",
       " 0,\n",
       " 0,\n",
       " 1,\n",
       " 0,\n",
       " 0,\n",
       " 0,\n",
       " 0,\n",
       " 0,\n",
       " 0,\n",
       " 0,\n",
       " 0,\n",
       " 0,\n",
       " 0,\n",
       " 0,\n",
       " 0,\n",
       " 0,\n",
       " 0,\n",
       " 0,\n",
       " 0,\n",
       " 1,\n",
       " 0,\n",
       " 0,\n",
       " 0,\n",
       " 0,\n",
       " 0,\n",
       " 0,\n",
       " 0,\n",
       " 0,\n",
       " 0,\n",
       " 0,\n",
       " 0,\n",
       " 0,\n",
       " 0,\n",
       " 0,\n",
       " 0,\n",
       " 0,\n",
       " 0,\n",
       " 0,\n",
       " 0,\n",
       " 0,\n",
       " 0,\n",
       " 0,\n",
       " 0,\n",
       " 0,\n",
       " 0,\n",
       " 0,\n",
       " 1,\n",
       " 0,\n",
       " 0,\n",
       " 0,\n",
       " 0,\n",
       " 0,\n",
       " 1,\n",
       " 0,\n",
       " 0,\n",
       " 1,\n",
       " 0,\n",
       " 0,\n",
       " 0,\n",
       " 0,\n",
       " 0,\n",
       " 0,\n",
       " 0,\n",
       " 0,\n",
       " 0,\n",
       " 0,\n",
       " 0,\n",
       " 0,\n",
       " 0,\n",
       " 0,\n",
       " 0,\n",
       " 0,\n",
       " 0,\n",
       " 0,\n",
       " 0,\n",
       " 0,\n",
       " 0,\n",
       " 0,\n",
       " 0,\n",
       " 0,\n",
       " 0,\n",
       " 0,\n",
       " 0,\n",
       " 0,\n",
       " 0,\n",
       " 0,\n",
       " 0,\n",
       " 0,\n",
       " 0,\n",
       " 0,\n",
       " 1,\n",
       " 0,\n",
       " 0,\n",
       " 0,\n",
       " 0,\n",
       " 0,\n",
       " 0,\n",
       " 0,\n",
       " 0,\n",
       " 0,\n",
       " 0,\n",
       " 0,\n",
       " 1,\n",
       " 0,\n",
       " 0,\n",
       " 0,\n",
       " 1,\n",
       " 0,\n",
       " 0,\n",
       " 0,\n",
       " 0,\n",
       " 0,\n",
       " 0,\n",
       " 0,\n",
       " 0,\n",
       " 0,\n",
       " 0,\n",
       " 0,\n",
       " 0,\n",
       " 0,\n",
       " 0,\n",
       " 0,\n",
       " 0,\n",
       " 0,\n",
       " 0,\n",
       " 0,\n",
       " 0,\n",
       " 0,\n",
       " 1,\n",
       " 0,\n",
       " 0,\n",
       " 0,\n",
       " 0,\n",
       " 0,\n",
       " 0,\n",
       " 0,\n",
       " 0,\n",
       " 0,\n",
       " 0,\n",
       " 0,\n",
       " 0,\n",
       " 1,\n",
       " 0,\n",
       " 0,\n",
       " 0,\n",
       " 1,\n",
       " 0,\n",
       " 0,\n",
       " 0,\n",
       " 0,\n",
       " 0,\n",
       " 0,\n",
       " 0,\n",
       " 0,\n",
       " 0,\n",
       " 0,\n",
       " 0,\n",
       " 0,\n",
       " 0,\n",
       " 0,\n",
       " 0,\n",
       " 1,\n",
       " 0,\n",
       " 0,\n",
       " 0,\n",
       " 0,\n",
       " 0,\n",
       " 0,\n",
       " 0,\n",
       " 0,\n",
       " 0,\n",
       " 0,\n",
       " 0,\n",
       " 0,\n",
       " 0,\n",
       " 0,\n",
       " 0,\n",
       " 0,\n",
       " 0,\n",
       " 0,\n",
       " 0,\n",
       " 0,\n",
       " 0,\n",
       " 1,\n",
       " 0,\n",
       " 0,\n",
       " 0,\n",
       " 0,\n",
       " 0,\n",
       " 1,\n",
       " 0,\n",
       " 0,\n",
       " 0,\n",
       " 0,\n",
       " 0,\n",
       " 0,\n",
       " 0,\n",
       " 0,\n",
       " 0,\n",
       " 0,\n",
       " 0,\n",
       " 0,\n",
       " 0,\n",
       " 0,\n",
       " 0,\n",
       " 0,\n",
       " 0,\n",
       " 0,\n",
       " 0,\n",
       " 0,\n",
       " 0,\n",
       " 0,\n",
       " 0,\n",
       " 0,\n",
       " 0,\n",
       " 0,\n",
       " 0,\n",
       " 1,\n",
       " 0,\n",
       " 0,\n",
       " 0,\n",
       " 0,\n",
       " 1,\n",
       " 0,\n",
       " 0,\n",
       " 0,\n",
       " 0,\n",
       " 0,\n",
       " 0,\n",
       " 0,\n",
       " 0,\n",
       " 0,\n",
       " 0,\n",
       " 0,\n",
       " 0,\n",
       " 0,\n",
       " 0,\n",
       " 1,\n",
       " 0,\n",
       " 0,\n",
       " ...]"
      ]
     },
     "execution_count": 8,
     "metadata": {},
     "output_type": "execute_result"
    }
   ],
   "source": [
    "G, ego_gs, roots = load_network('datasets/Blogcatalog.mat')\n",
    "\n",
    "roots = [int(r) for r in roots]"
   ]
  },
  {
   "cell_type": "code",
   "execution_count": 10,
   "id": "f46834ac",
   "metadata": {},
   "outputs": [
    {
     "data": {
      "application/vnd.jupyter.widget-view+json": {
       "model_id": "07ae9e00737d417abc1dcb1f8430af59",
       "version_major": 2,
       "version_minor": 0
      },
      "text/plain": [
       "  0%|          | 0/5196 [00:00<?, ?it/s]"
      ]
     },
     "metadata": {},
     "output_type": "display_data"
    },
    {
     "name": "stdout",
     "output_type": "stream",
     "text": [
      "# of anomalous graphs: 4720/5196\n",
      "# of clean graphs: 476/5196\n"
     ]
    }
   ],
   "source": [
    "anom_gs, clean_gs = [], []\n",
    "for idx, g in enumerate(tqdm(ego_gs)):\n",
    "    # check if root is anomolous first\n",
    "    if is_anomolous(g):\n",
    "        anom_gs.append(g)\n",
    "    else:\n",
    "        clean_gs.append(g)\n",
    "        \n",
    "print(f'# of anomalous graphs: {len(anom_gs)}/{len(ego_gs)}')\n",
    "print(f'# of clean graphs: {len(clean_gs)}/{len(ego_gs)}')"
   ]
  },
  {
   "cell_type": "code",
   "execution_count": 12,
   "id": "09d3f618",
   "metadata": {},
   "outputs": [
    {
     "data": {
      "application/vnd.jupyter.widget-view+json": {
       "model_id": "5e3b5b908f7b41d7b9855d4ba4e756d6",
       "version_major": 2,
       "version_minor": 0
      },
      "text/plain": [
       "  0%|          | 0/4720 [00:00<?, ?it/s]"
      ]
     },
     "metadata": {},
     "output_type": "display_data"
    },
    {
     "data": {
      "application/vnd.jupyter.widget-view+json": {
       "model_id": "52502f3e77644ab5a6e92918af8d6255",
       "version_major": 2,
       "version_minor": 0
      },
      "text/plain": [
       "  0%|          | 0/476 [00:00<?, ?it/s]"
      ]
     },
     "metadata": {},
     "output_type": "display_data"
    }
   ],
   "source": [
    "# padding adjacency matrices\n",
    "padded_anom = []\n",
    "for gs in tqdm(anom_gs):\n",
    "    g = nx.to_numpy_array(gs)\n",
    "    padded = np.zeros((1000, 1000))\n",
    "    padded[:g.shape[0], :g.shape[1]] = g\n",
    "    padded_anom.append(padded)\n",
    "    \n",
    "padded_clean = []\n",
    "for gs in tqdm(clean_gs):\n",
    "    g = nx.to_numpy_array(gs)\n",
    "    padded = np.zeros((1000, 1000))\n",
    "    padded[:g.shape[0], :g.shape[1]] = g\n",
    "    padded_clean.append(padded)"
   ]
  },
  {
   "cell_type": "code",
   "execution_count": 15,
   "id": "d7ed871c",
   "metadata": {},
   "outputs": [
    {
     "data": {
      "application/vnd.jupyter.widget-view+json": {
       "model_id": "46265a4d1d554924972c30f7f8290b7c",
       "version_major": 2,
       "version_minor": 0
      },
      "text/plain": [
       "  0%|          | 0/4720 [00:00<?, ?it/s]"
      ]
     },
     "metadata": {},
     "output_type": "display_data"
    },
    {
     "data": {
      "application/vnd.jupyter.widget-view+json": {
       "model_id": "c4578108a58f4b90a9934cc31063015f",
       "version_major": 2,
       "version_minor": 0
      },
      "text/plain": [
       "  0%|          | 0/476 [00:00<?, ?it/s]"
      ]
     },
     "metadata": {},
     "output_type": "display_data"
    }
   ],
   "source": [
    "results_anom = []\n",
    "for gs in tqdm(padded_anom):\n",
    "    gs_p = (A @ ((pinv(A) @ gs) @ B) @ pinv(B))\n",
    "    d = np.linalg.norm(gs - gs_p)\n",
    "    results_anom.append(d)\n",
    "    \n",
    "results_clean = []\n",
    "for gs in tqdm(padded_clean):\n",
    "    gs_p = (A @ ((pinv(A) @ gs) @ B) @ pinv(B))\n",
    "    d = np.linalg.norm(gs - gs_p)\n",
    "    results_clean.append(d)"
   ]
  },
  {
   "cell_type": "code",
   "execution_count": 24,
   "id": "a81e9485",
   "metadata": {},
   "outputs": [],
   "source": [
    "anom_y = np.zeros(len(results_anom))\n",
    "clean_y = np.zeros(len(results_clean))"
   ]
  },
  {
   "cell_type": "code",
   "execution_count": 26,
   "id": "530d97b2",
   "metadata": {},
   "outputs": [
    {
     "data": {
      "text/plain": [
       "<matplotlib.legend.Legend at 0x7ff3a1a8df10>"
      ]
     },
     "execution_count": 26,
     "metadata": {},
     "output_type": "execute_result"
    },
    {
     "data": {
      "image/png": "[encoded data removed]",
      "text/plain": [
       "<Figure size 432x288 with 1 Axes>"
      ]
     },
     "metadata": {
      "needs_background": "light"
     },
     "output_type": "display_data"
    }
   ],
   "source": [
    "sns.scatterplot(x=results_anom, y=anom_y, marker='x')\n",
    "sns.scatterplot(x=results_clean, y=clean_y, marker='o')\n",
    "plt.scatter([np.median(results_anom)], 0, c='red')\n",
    "plt.scatter([np.median(results_clean)], 0, c='blue')\n",
    "\n",
    "plt.legend(['Anom', 'Clean'])"
   ]
  }
 ],
 "metadata": {
  "kernelspec": {
   "display_name": "Python 3 (ipykernel)",
   "language": "python",
   "name": "python3"
  },
  "language_info": {
   "codemirror_mode": {
    "name": "ipython",
    "version": 3
   },
   "file_extension": ".py",
   "mimetype": "text/x-python",
   "name": "python",
   "nbconvert_exporter": "python",
   "pygments_lexer": "ipython3",
   "version": "3.9.12"
  }
 },
 "nbformat": 4,
 "nbformat_minor": 5
}
