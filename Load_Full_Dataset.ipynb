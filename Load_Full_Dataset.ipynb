{
 "cells": [
  {
   "cell_type": "code",
   "execution_count": 1,
   "metadata": {},
   "outputs": [],
   "source": [
    "import numpy as np\n",
    "import pandas as pd\n",
    "\n",
    "from utils.text_tensor import load_text_dataset_from_json\n",
    "\n",
    "import zstandard as zstd\n",
    "import json\n",
    "\n",
    "import io\n",
    "import re"
   ]
  },
  {
   "attachments": {},
   "cell_type": "markdown",
   "metadata": {},
   "source": [
    "## Load All Datasets"
   ]
  },
  {
   "cell_type": "code",
   "execution_count": 4,
   "metadata": {},
   "outputs": [],
   "source": [
    "dataset_paths = input('Enter dataset paths, space separated: ').split()"
   ]
  },
  {
   "cell_type": "code",
   "execution_count": 5,
   "metadata": {},
   "outputs": [
    {
     "data": {
      "text/plain": [
       "['datasets/reddit_datasets/askhistorians_2022-10-31_top-5-comments_json.zst',\n",
       " 'datasets/reddit_datasets/askscience_2022-10-31_top-5-comments_json.zst',\n",
       " 'datasets/reddit_datasets/explainlikeimfive_2022-10-31_top-5-comments_json.zst']"
      ]
     },
     "execution_count": 5,
     "metadata": {},
     "output_type": "execute_result"
    }
   ],
   "source": [
    "dataset_paths"
   ]
  },
  {
   "cell_type": "code",
   "execution_count": 6,
   "metadata": {},
   "outputs": [],
   "source": [
    "results = []\n",
    "for dataset_path in dataset_paths:\n",
    "    results.append(load_text_dataset_from_json(dataset_path))"
   ]
  },
  {
   "cell_type": "code",
   "execution_count": 7,
   "metadata": {},
   "outputs": [],
   "source": [
    "data = []\n",
    "labels = []\n",
    "\n",
    "for result in results:\n",
    "    data.extend(result[0])\n",
    "    labels.extend(result[1])"
   ]
  },
  {
   "cell_type": "code",
   "execution_count": 8,
   "metadata": {},
   "outputs": [],
   "source": [
    "data = np.array(data)\n",
    "labels = np.array(labels)"
   ]
  },
  {
   "cell_type": "code",
   "execution_count": 9,
   "metadata": {},
   "outputs": [
    {
     "name": "stdout",
     "output_type": "stream",
     "text": [
      "(8933,) (8933,)\n"
     ]
    }
   ],
   "source": [
    "print(data.shape, labels.shape)"
   ]
  },
  {
   "cell_type": "code",
   "execution_count": 10,
   "metadata": {},
   "outputs": [],
   "source": [
    "dataset = pd.DataFrame(data, columns=['Data'])"
   ]
  },
  {
   "cell_type": "code",
   "execution_count": 11,
   "metadata": {},
   "outputs": [],
   "source": [
    "dataset['Labels'] = labels"
   ]
  },
  {
   "cell_type": "code",
   "execution_count": 12,
   "metadata": {},
   "outputs": [
    {
     "data": {
      "text/plain": [
       "(array([0, 1]), array([7433, 1500]))"
      ]
     },
     "execution_count": 12,
     "metadata": {},
     "output_type": "execute_result"
    }
   ],
   "source": [
    "np.unique(dataset['Labels'], return_counts=True)"
   ]
  },
  {
   "attachments": {},
   "cell_type": "markdown",
   "metadata": {},
   "source": [
    "## Remove Unnecessary characters and symbols\n",
    "\n",
    "Removing '>' characters, which symbolize replies in reddit comments. GPT would not generate this symbol."
   ]
  },
  {
   "cell_type": "code",
   "execution_count": 13,
   "metadata": {},
   "outputs": [],
   "source": [
    "dataset['Data'] = dataset['Data'].str.replace('^>', '', regex=True)"
   ]
  },
  {
   "attachments": {},
   "cell_type": "markdown",
   "metadata": {},
   "source": [
    "Removing bot comments"
   ]
  },
  {
   "cell_type": "code",
   "execution_count": 14,
   "metadata": {},
   "outputs": [],
   "source": [
    "dataset = dataset[~dataset['Data'].str.contains(\"I am a bot\")]"
   ]
  },
  {
   "attachments": {},
   "cell_type": "markdown",
   "metadata": {},
   "source": [
    "Removing profanity"
   ]
  },
  {
   "cell_type": "code",
   "execution_count": 21,
   "metadata": {},
   "outputs": [],
   "source": [
    "from better_profanity import profanity\n",
    "\n",
    "def contains_explicit(text):\n",
    "    return profanity.contains_profanity(text)\n",
    "\n",
    "# Filter out rows containing explicit content\n",
    "filtered_data = dataset[dataset['Data'].apply(contains_explicit)]\n",
    "\n",
    "# Save the rows with explicit content to a separate CSV file\n",
    "filtered_data.to_csv('explicit_content.csv', index=False)\n",
    "\n",
    "# Remove the rows with explicit content from the original DataFrame\n",
    "clean_df = dataset.drop(filtered_data.index)\n",
    "\n",
    "# Save the cleaned DataFrame to another CSV file\n",
    "clean_df.to_csv('cleaned_content.csv', index=False)"
   ]
  },
  {
   "cell_type": "code",
   "execution_count": 23,
   "metadata": {},
   "outputs": [
    {
     "name": "stdout",
     "output_type": "stream",
     "text": [
      "(7519, 2) (8901, 2)\n"
     ]
    }
   ],
   "source": [
    "print(clean_df.shape, dataset.shape)"
   ]
  },
  {
   "cell_type": "code",
   "execution_count": 1,
   "metadata": {},
   "outputs": [
    {
     "ename": "NameError",
     "evalue": "name 'filtered_data' is not defined",
     "output_type": "error",
     "traceback": [
      "\u001b[0;31m---------------------------------------------------------------------------\u001b[0m",
      "\u001b[0;31mNameError\u001b[0m                                 Traceback (most recent call last)",
      "\u001b[1;32m/home/zqazi004/Anomaly_Detection/Load_Full_Dataset.ipynb Cell 19\u001b[0m in \u001b[0;36m<cell line: 1>\u001b[0;34m()\u001b[0m\n\u001b[0;32m----> <a href='vscode-notebook-cell://ssh-remote%2Bcoldbrew/home/zqazi004/Anomaly_Detection/Load_Full_Dataset.ipynb#X25sdnNjb2RlLXJlbW90ZQ%3D%3D?line=0'>1</a>\u001b[0m \u001b[39mprint\u001b[39m(filtered_data\u001b[39m.\u001b[39mshape, dataset\u001b[39m.\u001b[39mshape)\n",
      "\u001b[0;31mNameError\u001b[0m: name 'filtered_data' is not defined"
     ]
    }
   ],
   "source": [
    "print(filtered_data.shape, dataset.shape)"
   ]
  },
  {
   "attachments": {},
   "cell_type": "markdown",
   "metadata": {},
   "source": [
    "## Store Dataset"
   ]
  },
  {
   "cell_type": "code",
   "execution_count": 34,
   "metadata": {},
   "outputs": [],
   "source": [
    "# Store dataframe as csv\n",
    "dataset.to_csv('datasets/reddit_datasets/gpt_reddit_dataset.csv', index=False)"
   ]
  },
  {
   "cell_type": "code",
   "execution_count": 19,
   "metadata": {},
   "outputs": [],
   "source": [
    "# Convert DataFrame to a byte stream\n",
    "df_bytes = io.BytesIO()\n",
    "dataset.to_csv(df_bytes, index=False)\n",
    "\n",
    "# Compress the byte stream using Zstandard\n",
    "cmpr = zstd.ZstdCompressor()\n",
    "compressed_bytes = cmpr.compress(df_bytes.getvalue())"
   ]
  },
  {
   "cell_type": "code",
   "execution_count": 20,
   "metadata": {},
   "outputs": [],
   "source": [
    "with open(f'datasets/reddit_datasets/gpt_reddit_dataset.zst', 'wb') as f:\n",
    "    f.write(compressed_bytes)"
   ]
  },
  {
   "attachments": {},
   "cell_type": "markdown",
   "metadata": {},
   "source": [
    "## Read the data"
   ]
  },
  {
   "cell_type": "code",
   "execution_count": null,
   "metadata": {},
   "outputs": [],
   "source": [
    "# Decompress the byte stream using Zstandard\n",
    "dctx = zstd.ZstdDecompressor()\n",
    "decompressed_bytes = dctx.decompress(compressed_bytes)\n",
    "\n",
    "# Convert the decompressed byte stream back to a DataFrame\n",
    "dataset = pd.read_csv(io.BytesIO(decompressed_bytes))\n",
    "\n",
    "# Print the decompressed DataFrame (optional, just to check the result)\n",
    "print(dataset)\n"
   ]
  },
  {
   "attachments": {},
   "cell_type": "markdown",
   "metadata": {},
   "source": [
    "## Store dataset without special characters"
   ]
  },
  {
   "cell_type": "code",
   "execution_count": 35,
   "metadata": {},
   "outputs": [],
   "source": [
    "# Function to remove non-alphanumeric characters and links\n",
    "def clean_text(text):\n",
    "    # Replace any URL-like patterns with an empty string\n",
    "    text = re.sub(r'\\b(?:https?://|www\\.)\\S+\\b', '', text)\n",
    "    # Replace non-alphanumeric characters\n",
    "    text = re.sub(r'[^\\w\\s$.,!?\"\\']', '', text)\n",
    "    # Remove extra spaces (optional)\n",
    "    text = re.sub(r'\\s+', ' ', text).strip()\n",
    "    return text\n",
    "\n",
    "# Apply the clean_text function to the 'text_column'\n",
    "# Create a new DataFrame with the cleaned 'text_column' and include 'other_column'\n",
    "cleaned_dataset = pd.DataFrame({\n",
    "    'Data': dataset['Data'].apply(clean_text),\n",
    "    'Labels': dataset['Labels']\n",
    "})"
   ]
  },
  {
   "cell_type": "code",
   "execution_count": 21,
   "metadata": {},
   "outputs": [],
   "source": [
    "# Convert DataFrame to a byte stream\n",
    "df_bytes = io.BytesIO()\n",
    "cleaned_dataset.to_csv(df_bytes, index=False)\n",
    "\n",
    "# Compress the byte stream using Zstandard\n",
    "cmpr = zstd.ZstdCompressor()\n",
    "compressed_bytes = cmpr.compress(df_bytes.getvalue())"
   ]
  },
  {
   "cell_type": "code",
   "execution_count": 36,
   "metadata": {},
   "outputs": [],
   "source": [
    "cleaned_dataset.to_csv('datasets/reddit_datasets/gpt_reddit_dataset_cleaned.csv', index=False)"
   ]
  },
  {
   "cell_type": "code",
   "execution_count": 19,
   "metadata": {},
   "outputs": [],
   "source": [
    "with open(f'dataset_output.txt', 'w') as f:\n",
    "    f.write(cleaned_dataset.to_markdown())"
   ]
  }
 ],
 "metadata": {
  "kernelspec": {
   "display_name": "anom_detect",
   "language": "python",
   "name": "python3"
  },
  "language_info": {
   "codemirror_mode": {
    "name": "ipython",
    "version": 3
   },
   "file_extension": ".py",
   "mimetype": "text/x-python",
   "name": "python",
   "nbconvert_exporter": "python",
   "pygments_lexer": "ipython3",
   "version": "3.10.5"
  },
  "orig_nbformat": 4
 },
 "nbformat": 4,
 "nbformat_minor": 2
}
