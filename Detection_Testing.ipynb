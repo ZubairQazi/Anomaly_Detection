{
 "cells": [
  {
   "cell_type": "code",
   "execution_count": 1,
   "id": "a3d0d274",
   "metadata": {},
   "outputs": [],
   "source": [
    "import torch\n",
    "\n",
    "import networkx as nx\n",
    "\n",
    "import numpy as np\n",
    "    \n",
    "import pandas as pd\n",
    "\n",
    "import scipy.io\n",
    "\n",
    "from itertools import combinations as comb\n",
    "\n",
    "from tqdm.notebook import tqdm\n",
    "\n",
    "import pickle\n",
    "\n",
    "import matplotlib.pyplot as plt\n",
    "\n",
    "import seaborn as sns\n",
    "\n",
    "from sklearn.cluster import KMeans, MiniBatchKMeans\n",
    "from sklearn.metrics import f1_score, classification_report\n",
    "from sklearn.model_selection import GridSearchCV\n",
    "from sklearn.svm import OneClassSVM\n",
    "from sklearn.neighbors import LocalOutlierFactor\n",
    "\n",
    "from numpy.linalg import pinv"
   ]
  },
  {
   "cell_type": "code",
   "execution_count": 2,
   "id": "02fc874b",
   "metadata": {},
   "outputs": [],
   "source": [
    "def load_network(path):\n",
    "    \n",
    "    try:\n",
    "        data = scipy.io.loadmat(path)\n",
    "    except:\n",
    "        print('Invalid data path')\n",
    "\n",
    "    G = nx.from_scipy_sparse_array(data[\"Network\"])\n",
    "    # nx.set_node_attributes(G, bc_data[\"Attributes\"], 'Attributes')\n",
    "    print(str(G))\n",
    "\n",
    "    # convert list of lists to list\n",
    "    labels = [j for i in data[\"Label\"] for j in i]\n",
    "\n",
    "    # Add labels to each node\n",
    "    for i in range(len(G.nodes)):\n",
    "        G.nodes[i]['Anomaly'] = labels[i]\n",
    "\n",
    "    G = max((G.subgraph(c) for c in nx.connected_components(G)), key=len)\n",
    "    G = nx.convert_node_labels_to_integers(G)\n",
    "    ego_gs, roots = [], []\n",
    "\n",
    "    for i in tqdm(range(G.number_of_nodes())):\n",
    "        roots.append(G.nodes[i]['Anomaly'])\n",
    "        G_ego = nx.ego_graph(G, i, radius=1)\n",
    "        if G_ego.number_of_nodes() >= 2:\n",
    "            ego_gs.append(G_ego)\n",
    "\n",
    "    return G, ego_gs, roots\n",
    "\n",
    "# get anomalous egonets for definition 2\n",
    "def is_anomolous(G):\n",
    "    for node in G.nodes():\n",
    "        if G.nodes[node]['Anomaly'] == 1:\n",
    "            return True\n",
    "    return False"
   ]
  },
  {
   "cell_type": "code",
   "execution_count": 3,
   "id": "3f4da746",
   "metadata": {},
   "outputs": [
    {
     "name": "stdout",
     "output_type": "stream",
     "text": [
      "Graph with 5196 nodes and 172897 edges\n"
     ]
    },
    {
     "data": {
      "application/vnd.jupyter.widget-view+json": {
       "model_id": "daeee1f2212944d9b94e21b9d3b486d3",
       "version_major": 2,
       "version_minor": 0
      },
      "text/plain": [
       "  0%|          | 0/5196 [00:00<?, ?it/s]"
      ]
     },
     "metadata": {},
     "output_type": "display_data"
    },
    {
     "name": "stdout",
     "output_type": "stream",
     "text": [
      "Using 5196 egonets\n"
     ]
    }
   ],
   "source": [
    "G, ego_gs, roots = load_network('datasets/blogcatalog.mat')\n",
    "\n",
    "roots = [int(r) for r in roots]\n",
    "\n",
    "print(f'Using {len(ego_gs)} egonets')"
   ]
  },
  {
   "cell_type": "code",
   "execution_count": 4,
   "id": "b7b91b71",
   "metadata": {},
   "outputs": [
    {
     "name": "stdout",
     "output_type": "stream",
     "text": [
      "1: anomalous egonet ==> anomalous root\n",
      "2: anomalous egonet ==> any anomalous node\n",
      "Anomalous definition: 2\n"
     ]
    },
    {
     "data": {
      "application/vnd.jupyter.widget-view+json": {
       "model_id": "4a254c0db4bf434ba79812f243fb38b4",
       "version_major": 2,
       "version_minor": 0
      },
      "text/plain": [
       "  0%|          | 0/5196 [00:00<?, ?it/s]"
      ]
     },
     "metadata": {},
     "output_type": "display_data"
    },
    {
     "name": "stdout",
     "output_type": "stream",
     "text": [
      "# of anomalous graphs: 4720/5196\n",
      "# of clean graphs: 476/5196\n"
     ]
    }
   ],
   "source": [
    "# 1: anomalous egonet ==> anomalous root\n",
    "# 2: anomalous egonet ==> any anomalous node\n",
    "\n",
    "print('1: anomalous egonet ==> anomalous root')\n",
    "print('2: anomalous egonet ==> any anomalous node')\n",
    "\n",
    "anom_def = int(input('Anomalous definition: '))\n",
    "\n",
    "anom_gs, clean_gs = [], []\n",
    "if anom_def == 1:\n",
    "    for idx, root_attr in enumerate(tqdm(roots)):\n",
    "        if root_attr == 1:\n",
    "            anom_gs.append(ego_gs[idx])\n",
    "        else:\n",
    "            clean_gs.append(ego_gs[idx])\n",
    "elif anom_def == 2:\n",
    "    for idx, g in enumerate(tqdm(ego_gs)):\n",
    "        # check if root is anomolous first\n",
    "        if is_anomolous(g):\n",
    "            anom_gs.append(g)\n",
    "        else:\n",
    "            clean_gs.append(g)\n",
    "        \n",
    "print(f'# of anomalous graphs: {len(anom_gs)}/{len(ego_gs)}')\n",
    "print(f'# of clean graphs: {len(clean_gs)}/{len(ego_gs)}')"
   ]
  },
  {
   "cell_type": "code",
   "execution_count": 5,
   "id": "30ce2cde",
   "metadata": {},
   "outputs": [
    {
     "name": "stdout",
     "output_type": "stream",
     "text": [
      "Input a slice size for tensor: 1000\n"
     ]
    }
   ],
   "source": [
    "slice_size = int(input(\"Input a slice size for tensor: \"))"
   ]
  },
  {
   "cell_type": "code",
   "execution_count": 6,
   "id": "2a3bd8f9",
   "metadata": {},
   "outputs": [],
   "source": [
    "# cube = torch.empty((1, slice_size, slice_size, slice_size))\n",
    "\n",
    "# for i in tqdm(range(len(clean_gs[:slice_size]))):\n",
    "#     slice_gs = nx.to_numpy_array(clean_gs[i])[:slice_size, :slice_size]\n",
    "#     result = np.zeros((slice_size, slice_size))\n",
    "#     result[:slice_gs.shape[0],:slice_gs.shape[1]] = slice_gs\n",
    "    \n",
    "#     ten = torch.as_tensor(result)\n",
    "#     dim = ten.shape[0]\n",
    "#     cube[0, :dim, :dim, i] = ten"
   ]
  },
  {
   "cell_type": "code",
   "execution_count": 7,
   "id": "e0c1c878",
   "metadata": {},
   "outputs": [
    {
     "data": {
      "application/vnd.jupyter.widget-view+json": {
       "model_id": "87af81d7c9fb496d8a13d8fc7107ea5b",
       "version_major": 2,
       "version_minor": 0
      },
      "text/plain": [
       "  0%|          | 0/4720 [00:00<?, ?it/s]"
      ]
     },
     "metadata": {},
     "output_type": "display_data"
    },
    {
     "data": {
      "application/vnd.jupyter.widget-view+json": {
       "model_id": "ba554e85b8054e1b992ca18d43c66fe1",
       "version_major": 2,
       "version_minor": 0
      },
      "text/plain": [
       "  0%|          | 0/476 [00:00<?, ?it/s]"
      ]
     },
     "metadata": {},
     "output_type": "display_data"
    }
   ],
   "source": [
    "# padding adjacency matrices\n",
    "padded_anom = []\n",
    "for gs in tqdm(anom_gs):\n",
    "    g = nx.to_numpy_array(gs)\n",
    "    padded = np.zeros((slice_size, slice_size))\n",
    "    # add 1s to diagonal\n",
    "    for idx, row in enumerate(padded):\n",
    "        row[idx] = 1\n",
    "    if len(padded) >= len(g):\n",
    "        padded[:g.shape[0], :g.shape[1]] = g\n",
    "    else:\n",
    "        padded = g[:slice_size, :slice_size]\n",
    "    padded_anom.append(padded)\n",
    "    \n",
    "padded_clean = []\n",
    "for gs in tqdm(clean_gs):\n",
    "    g = nx.to_numpy_array(gs)\n",
    "    padded = np.zeros((slice_size, slice_size))\n",
    "    # add 1s to diagonal\n",
    "    for idx, row in enumerate(padded):\n",
    "        row[idx] = 1\n",
    "    if len(padded) >= len(g):\n",
    "        padded[:g.shape[0], :g.shape[1]] = g\n",
    "    else:\n",
    "        padded = g[:slice_size, :slice_size]\n",
    "    padded_clean.append(padded)"
   ]
  },
  {
   "cell_type": "code",
   "execution_count": 8,
   "id": "a3292279",
   "metadata": {},
   "outputs": [
    {
     "data": {
      "application/vnd.jupyter.widget-view+json": {
       "model_id": "7f2fe7ebefea4cd29e30136142042884",
       "version_major": 2,
       "version_minor": 0
      },
      "text/plain": [
       "  0%|          | 0/4720 [00:00<?, ?it/s]"
      ]
     },
     "metadata": {},
     "output_type": "display_data"
    },
    {
     "data": {
      "application/vnd.jupyter.widget-view+json": {
       "model_id": "8ff6bca910a3496f8b126bc20c75c324",
       "version_major": 2,
       "version_minor": 0
      },
      "text/plain": [
       "  0%|          | 0/476 [00:00<?, ?it/s]"
      ]
     },
     "metadata": {},
     "output_type": "display_data"
    }
   ],
   "source": [
    "with open('bc_decomp_r10.sav', 'rb') as f:\n",
    "    _, factors = pickle.load(f)\n",
    "    f.close()\n",
    "\n",
    "A, B, C = factors\n",
    "A, B, C, = np.array(A), np.array(B), np.array(C)\n",
    "\n",
    "results_anom = []\n",
    "for gs in tqdm(padded_anom):\n",
    "    gs_p = (A @ ((A.T @ gs) @ B) @ B.T)\n",
    "    d = np.linalg.norm(gs - gs_p)\n",
    "    results_anom.append(d)\n",
    "\n",
    "results_clean = []\n",
    "for gs in tqdm(padded_clean):\n",
    "    gs_p = (A @ ((A.T @ gs) @ B) @ B.T)\n",
    "    d = np.linalg.norm(gs - gs_p)\n",
    "    results_clean.append(d)"
   ]
  },
  {
   "cell_type": "code",
   "execution_count": 9,
   "id": "90b22ba7",
   "metadata": {},
   "outputs": [
    {
     "data": {
      "text/plain": [
       "<matplotlib.collections.PathCollection at 0x7f91dfdef640>"
      ]
     },
     "execution_count": 9,
     "metadata": {},
     "output_type": "execute_result"
    },
    {
     "data": {
      "image/png": "[encoded data removed]",
      "text/plain": [
       "<Figure size 432x288 with 1 Axes>"
      ]
     },
     "metadata": {
      "needs_background": "light"
     },
     "output_type": "display_data"
    }
   ],
   "source": [
    "anom_y = np.zeros(len(anom_gs))\n",
    "clean_y = np.zeros(len(clean_gs))\n",
    "\n",
    "sns.scatterplot(x=results_anom, y=[0] * len(anom_y), marker='x')\n",
    "sns.scatterplot(x=results_clean, y=[1] * len(clean_y), marker='o')\n",
    "plt.scatter([np.median(results_anom)], 0, c='red')\n",
    "plt.scatter([np.median(results_clean)], 1, c='blue')"
   ]
  },
  {
   "cell_type": "code",
   "execution_count": 10,
   "id": "5b6abed0",
   "metadata": {},
   "outputs": [],
   "source": [
    "results = np.column_stack((np.array(results_clean + results_anom), np.zeros(len(ego_gs))))"
   ]
  },
  {
   "cell_type": "code",
   "execution_count": 11,
   "id": "8f1708c3",
   "metadata": {},
   "outputs": [],
   "source": [
    "labels = []\n",
    "labels +=  [0] * len(results_clean) + [1] * len(results_anom)"
   ]
  },
  {
   "cell_type": "markdown",
   "id": "64c09031",
   "metadata": {},
   "source": [
    "# Kitchen Sink\n",
    "https://pyod.readthedocs.io/en/latest/index.html"
   ]
  },
  {
   "cell_type": "code",
   "execution_count": 12,
   "id": "33d2f3dc",
   "metadata": {},
   "outputs": [],
   "source": [
    "from pyod.models.suod import SUOD\n",
    "from pyod.models.auto_encoder import AutoEncoder\n",
    "from pyod.models.anogan import AnoGAN\n",
    "from pyod.models.cblof import CBLOF\n",
    "from pyod.models.deep_svdd import DeepSVDD\n",
    "from pyod.models.iforest import IForest\n",
    "from pyod.models.lof import LOF\n",
    "from pyod.models.cof import COF\n",
    "from pyod.models.gmm import GMM\n",
    "from pyod.models.hbos import HBOS\n",
    "from pyod.models.inne import INNE\n",
    "from pyod.models.copod import COPOD\n",
    "from pyod.models.knn import KNN\n",
    "from pyod.models.lmdd import LMDD\n",
    "from pyod.models.ocsvm import OCSVM\n",
    "from pyod.models.mad import MAD\n",
    "from pyod.models.pca import PCA\n",
    "from pyod.models.so_gaal import SO_GAAL\n",
    "\n",
    "from pyod.utils.data import evaluate_print\n",
    "from pyod.utils.example import visualize\n",
    "\n",
    "import torch\n",
    "from torch.nn import MSELoss"
   ]
  },
  {
   "cell_type": "code",
   "execution_count": 13,
   "id": "d261f35e",
   "metadata": {},
   "outputs": [],
   "source": [
    "from sklearn.model_selection import train_test_split\n",
    "\n",
    "X_train, X_test, y_train, y_test = train_test_split(results, labels, test_size=0.33, random_state=42)"
   ]
  },
  {
   "cell_type": "code",
   "execution_count": 14,
   "id": "f775405a",
   "metadata": {},
   "outputs": [],
   "source": [
    "# DeepSVDD(), DeepSVDD(use_ae=True), AnoGAN(), AutoEncoder()\n",
    "detector_list = [\n",
    "    LOF(n_neighbors=20), \n",
    "    IForest(n_estimators=100), \n",
    "    GMM(), \n",
    "    KNN(), \n",
    "    HBOS(), \n",
    "    INNE(), \n",
    "    COPOD(), \n",
    "    LOF(),\n",
    "]\n",
    "\n",
    "# decide the number of parallel process, and the combination method\n",
    "# then clf can be used as any outlier detection model\n",
    "clf = SUOD(base_estimators=detector_list, n_jobs=2, combination='average',\n",
    "           verbose=False)"
   ]
  },
  {
   "cell_type": "code",
   "execution_count": 15,
   "id": "a4e158b5",
   "metadata": {
    "scrolled": false
   },
   "outputs": [
    {
     "name": "stdout",
     "output_type": "stream",
     "text": [
      "\n"
     ]
    },
    {
     "name": "stderr",
     "output_type": "stream",
     "text": [
      "[Parallel(n_jobs=2)]: Using backend LokyBackend with 2 concurrent workers.\n",
      "[Parallel(n_jobs=2)]: Done   2 out of   2 | elapsed:    3.0s remaining:    0.0s\n",
      "[Parallel(n_jobs=2)]: Done   2 out of   2 | elapsed:    3.0s finished\n",
      "[Parallel(n_jobs=2)]: Using backend LokyBackend with 2 concurrent workers.\n",
      "[Parallel(n_jobs=2)]: Done   2 out of   2 | elapsed:    2.4s remaining:    0.0s\n",
      "[Parallel(n_jobs=2)]: Done   2 out of   2 | elapsed:    2.4s finished\n"
     ]
    },
    {
     "data": {
      "text/plain": [
       "SUOD(approx_clf=None, approx_clf_list=None, approx_flag_global=True,\n",
       "   approx_ng_clf_list=None,\n",
       "   base_estimators=[LOF(algorithm='auto', contamination=0.1, leaf_size=30, metric='minkowski',\n",
       "  metric_params=None, n_jobs=1, n_neighbors=20, novelty=True, p=2), IForest(behaviour='old', bootstrap=False, contamination=0.1, max_features=1.0,\n",
       "    max_samples='auto', n_estimators=100, n_jobs=1, random_st...eaf_size=30, metric='minkowski',\n",
       "  metric_params=None, n_jobs=1, n_neighbors=20, novelty=True, p=2)],\n",
       "   bps_flag=True, combination='average', contamination=0.1,\n",
       "   cost_forecast_loc_fit=None, cost_forecast_loc_pred=None,\n",
       "   jl_method='basic', n_jobs=2, rp_clf_list=None, rp_flag_global=True,\n",
       "   rp_ng_clf_list=None, target_dim_frac=0.5, verbose=False)"
      ]
     },
     "execution_count": 15,
     "metadata": {},
     "output_type": "execute_result"
    }
   ],
   "source": [
    "clf.fit(X_train, y_train)"
   ]
  },
  {
   "cell_type": "code",
   "execution_count": 16,
   "id": "bb0a33af",
   "metadata": {},
   "outputs": [
    {
     "name": "stdout",
     "output_type": "stream",
     "text": [
      "\n"
     ]
    },
    {
     "name": "stderr",
     "output_type": "stream",
     "text": [
      "[Parallel(n_jobs=2)]: Using backend LokyBackend with 2 concurrent workers.\n",
      "[Parallel(n_jobs=2)]: Done   2 out of   2 | elapsed:    3.6s remaining:    0.0s\n",
      "[Parallel(n_jobs=2)]: Done   2 out of   2 | elapsed:    3.6s finished\n",
      "[Parallel(n_jobs=2)]: Using backend LokyBackend with 2 concurrent workers.\n"
     ]
    },
    {
     "name": "stdout",
     "output_type": "stream",
     "text": [
      "\n",
      "\n",
      "On Training Data:\n",
      "SUOD ROC:0.6018, precision @ rank n:0.9157\n",
      "\n",
      "On Test Data:\n",
      "SUOD ROC:0.6382, precision @ rank n:0.9097\n"
     ]
    },
    {
     "name": "stderr",
     "output_type": "stream",
     "text": [
      "[Parallel(n_jobs=2)]: Done   2 out of   2 | elapsed:    0.2s remaining:    0.0s\n",
      "[Parallel(n_jobs=2)]: Done   2 out of   2 | elapsed:    0.2s finished\n"
     ]
    },
    {
     "data": {
      "image/png": "[encoded data removed]",
      "text/plain": [
       "<Figure size 864x720 with 4 Axes>"
      ]
     },
     "metadata": {},
     "output_type": "display_data"
    }
   ],
   "source": [
    "# get the prediction labels and outlier scores of the training data\n",
    "y_train_pred = clf.labels_  # binary labels (0: inliers, 1: outliers)\n",
    "y_train_scores = clf.decision_scores_  # raw outlier scores\n",
    "\n",
    "# get the prediction on the test data\n",
    "y_test_pred = clf.predict(X_test)  # outlier labels (0 or 1)\n",
    "y_test_scores = clf.decision_function(X_test)  # outlier scores\n",
    "\n",
    "# evaluate and print the results\n",
    "print(\"\\nOn Training Data:\")\n",
    "evaluate_print('SUOD', y_train, y_train_scores)\n",
    "print(\"\\nOn Test Data:\")\n",
    "evaluate_print('SUOD', y_test, y_test_scores)\n",
    "\n",
    "# visualize the results\n",
    "visualize('SUOD', X_train, y_train, X_test, y_test, y_train_pred,\n",
    "          y_test_pred, show_figure=True, save_figure=False)"
   ]
  },
  {
   "cell_type": "code",
   "execution_count": 17,
   "id": "84324191",
   "metadata": {},
   "outputs": [],
   "source": [
    "saved_model = open('suod.sav', 'wb')\n",
    "pickle.dump(clf, saved_model)\n",
    "saved_model.close()"
   ]
  }
 ],
 "metadata": {
  "kernelspec": {
   "display_name": "Python 3 (ipykernel)",
   "language": "python",
   "name": "python3"
  },
  "language_info": {
   "codemirror_mode": {
    "name": "ipython",
    "version": 3
   },
   "file_extension": ".py",
   "mimetype": "text/x-python",
   "name": "python",
   "nbconvert_exporter": "python",
   "pygments_lexer": "ipython3",
   "version": "3.9.12"
  }
 },
 "nbformat": 4,
 "nbformat_minor": 5
}
