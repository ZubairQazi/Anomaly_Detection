{
 "cells": [
  {
   "cell_type": "code",
   "execution_count": 41,
   "id": "a3d0d274",
   "metadata": {},
   "outputs": [],
   "source": [
    "import torch\n",
    "\n",
    "import networkx as nx\n",
    "\n",
    "import numpy as np\n",
    "    \n",
    "import pandas as pd\n",
    "\n",
    "import scipy.io\n",
    "\n",
    "from itertools import combinations as comb\n",
    "\n",
    "from tqdm.notebook import tqdm\n",
    "\n",
    "import pickle\n",
    "\n",
    "import matplotlib.pyplot as plt\n",
    "\n",
    "from imblearn.over_sampling import RandomOverSampler\n",
    "\n",
    "import seaborn as sns\n",
    "\n",
    "from sklearn.cluster import KMeans, MiniBatchKMeans\n",
    "from sklearn.metrics import f1_score, classification_report, roc_auc_score, roc_curve\n",
    "from sklearn.model_selection import GridSearchCV\n",
    "from sklearn.svm import OneClassSVM\n",
    "from sklearn.neighbors import LocalOutlierFactor\n",
    "\n",
    "from numpy.linalg import pinv\n",
    "\n",
    "from tensorly.decomposition import tucker, constrained_parafac"
   ]
  },
  {
   "cell_type": "code",
   "execution_count": 2,
   "id": "02fc874b",
   "metadata": {},
   "outputs": [],
   "source": [
    "def load_network(path):\n",
    "    \n",
    "    try:\n",
    "        data = scipy.io.loadmat(path)\n",
    "    except:\n",
    "        print('Invalid data path')\n",
    "\n",
    "    G = nx.from_scipy_sparse_array(data[\"Network\"])\n",
    "    # nx.set_node_attributes(G, bc_data[\"Attributes\"], 'Attributes')\n",
    "    print(str(G))\n",
    "\n",
    "    # convert list of lists to list\n",
    "    labels = [j for i in data[\"Label\"] for j in i]\n",
    "\n",
    "    # Add labels to each node\n",
    "    for i in range(len(G.nodes)):\n",
    "        G.nodes[i]['Anomaly'] = labels[i]\n",
    "\n",
    "    G = max((G.subgraph(c) for c in nx.connected_components(G)), key=len)\n",
    "    G = nx.convert_node_labels_to_integers(G)\n",
    "    ego_gs, roots = [], []\n",
    "\n",
    "    for i in tqdm(range(G.number_of_nodes())):\n",
    "        roots.append(G.nodes[i]['Anomaly'])\n",
    "        G_ego = nx.ego_graph(G, i, radius=1)\n",
    "        if G_ego.number_of_nodes() >= 2:\n",
    "            ego_gs.append(G_ego)\n",
    "\n",
    "    return G, ego_gs, roots\n",
    "\n",
    "# get anomalous egonets for definition 2\n",
    "def is_anomolous(G):\n",
    "    for node in G.nodes():\n",
    "        if G.nodes[node]['Anomaly'] == 1:\n",
    "            return True\n",
    "    return False"
   ]
  },
  {
   "cell_type": "code",
   "execution_count": 3,
   "id": "3f4da746",
   "metadata": {},
   "outputs": [
    {
     "name": "stdout",
     "output_type": "stream",
     "text": [
      "Graph with 5196 nodes and 172897 edges\n"
     ]
    },
    {
     "data": {
      "application/vnd.jupyter.widget-view+json": {
       "model_id": "05ab3cd059224693910d8e331c0fbe29",
       "version_major": 2,
       "version_minor": 0
      },
      "text/plain": [
       "  0%|          | 0/5196 [00:00<?, ?it/s]"
      ]
     },
     "metadata": {},
     "output_type": "display_data"
    },
    {
     "name": "stdout",
     "output_type": "stream",
     "text": [
      "Using 5196 egonets\n"
     ]
    }
   ],
   "source": [
    "G, ego_gs, roots = load_network('datasets/blogcatalog.mat')\n",
    "\n",
    "roots = [int(r) for r in roots]\n",
    "\n",
    "print(f'Using {len(ego_gs)} egonets')"
   ]
  },
  {
   "cell_type": "code",
   "execution_count": 10,
   "id": "b7b91b71",
   "metadata": {},
   "outputs": [
    {
     "name": "stdout",
     "output_type": "stream",
     "text": [
      "1: anomalous egonet ==> anomalous root\n",
      "2: anomalous egonet ==> any anomalous node\n"
     ]
    },
    {
     "data": {
      "application/vnd.jupyter.widget-view+json": {
       "model_id": "10413cf2a9ac45da8b69c7f11b7145ab",
       "version_major": 2,
       "version_minor": 0
      },
      "text/plain": [
       "  0%|          | 0/5196 [00:00<?, ?it/s]"
      ]
     },
     "metadata": {},
     "output_type": "display_data"
    },
    {
     "name": "stdout",
     "output_type": "stream",
     "text": [
      "# of anomalous graphs: 4720/5196\n",
      "# of clean graphs: 476/5196\n"
     ]
    }
   ],
   "source": [
    "# 1: anomalous egonet ==> anomalous root\n",
    "# 2: anomalous egonet ==> any anomalous node\n",
    "\n",
    "print('1: anomalous egonet ==> anomalous root')\n",
    "print('2: anomalous egonet ==> any anomalous node')\n",
    "\n",
    "anom_def = int(input('Anomalous definition: '))\n",
    "\n",
    "anom_gs, clean_gs = [], []\n",
    "labels = []\n",
    "if anom_def == 1:\n",
    "    for idx, root_attr in enumerate(tqdm(roots)):\n",
    "        if root_attr == 1:\n",
    "            anom_gs.append(ego_gs[idx])\n",
    "            labels.append(1)\n",
    "        else:\n",
    "            clean_gs.append(ego_gs[idx])\n",
    "            labels.append(0)\n",
    "elif anom_def == 2:\n",
    "    for idx, g in enumerate(tqdm(ego_gs)):\n",
    "        # check if root is anomolous first\n",
    "        if is_anomolous(g):\n",
    "            anom_gs.append(g)\n",
    "            labels.append(1)\n",
    "        else:\n",
    "            clean_gs.append(g)\n",
    "            labels.append(0)\n",
    "        \n",
    "print(f'# of anomalous graphs: {len(anom_gs)}/{len(ego_gs)}')\n",
    "print(f'# of clean graphs: {len(clean_gs)}/{len(ego_gs)}')"
   ]
  },
  {
   "cell_type": "code",
   "execution_count": 6,
   "id": "30ce2cde",
   "metadata": {},
   "outputs": [],
   "source": [
    "slice_size = int(input(\"Input a slice size for tensor: \"))"
   ]
  },
  {
   "cell_type": "code",
   "execution_count": 20,
   "id": "2a3bd8f9",
   "metadata": {},
   "outputs": [
    {
     "name": "stderr",
     "output_type": "stream",
     "text": [
      "/tmp/ipykernel_4146409/821887668.py:4: VisibleDeprecationWarning: Creating an ndarray from ragged nested sequences (which is a list-or-tuple of lists-or-tuples-or ndarrays with different lengths or shapes) is deprecated. If you meant to do this, you must specify 'dtype=object' when creating the ndarray.\n",
      "  sampled_gs = np.random.choice(ego_gs, size=slice_size, replace=True)\n"
     ]
    },
    {
     "data": {
      "application/vnd.jupyter.widget-view+json": {
       "model_id": "92928a127e7640fdb067c73fc1af44c1",
       "version_major": 2,
       "version_minor": 0
      },
      "text/plain": [
       "  0%|          | 0/1000 [00:00<?, ?it/s]"
      ]
     },
     "metadata": {},
     "output_type": "display_data"
    }
   ],
   "source": [
    "cube = torch.empty((1, slice_size, slice_size, slice_size))\n",
    "\n",
    "# select n random egonets\n",
    "sampled_gs = np.random.choice(ego_gs, size=slice_size, replace=True)\n",
    "\n",
    "for i in tqdm(range(len(sampled_gs))):\n",
    "    slice_gs = nx.to_numpy_array(sampled_gs[i])[:slice_size, :slice_size]\n",
    "    result = np.zeros((slice_size, slice_size))\n",
    "    result[:slice_gs.shape[0],:slice_gs.shape[1]] = slice_gs\n",
    "    \n",
    "    ten = torch.as_tensor(result)\n",
    "    dim = ten.shape[0]\n",
    "    cube[0, :dim, :dim, i] = ten\n",
    "\n",
    "# for i in tqdm(range(len(clean_gs[:slice_size]))):\n",
    "#     slice_gs = nx.to_numpy_array(clean_gs[i])[:slice_size, :slice_size]\n",
    "#     result = np.zeros((slice_size, slice_size))\n",
    "#     result[:slice_gs.shape[0],:slice_gs.shape[1]] = slice_gs\n",
    "    \n",
    "#     ten = torch.as_tensor(result)\n",
    "#     dim = ten.shape[0]\n",
    "#     cube[0, :dim, :dim, i] = ten"
   ]
  },
  {
   "cell_type": "code",
   "execution_count": 21,
   "id": "e0c1c878",
   "metadata": {},
   "outputs": [
    {
     "data": {
      "application/vnd.jupyter.widget-view+json": {
       "model_id": "605a50b6f16342ffa5750113e7478fdf",
       "version_major": 2,
       "version_minor": 0
      },
      "text/plain": [
       "  0%|          | 0/4720 [00:00<?, ?it/s]"
      ]
     },
     "metadata": {},
     "output_type": "display_data"
    },
    {
     "data": {
      "application/vnd.jupyter.widget-view+json": {
       "model_id": "bf4ccf04102b47269b66d6f5ead4be8c",
       "version_major": 2,
       "version_minor": 0
      },
      "text/plain": [
       "  0%|          | 0/476 [00:00<?, ?it/s]"
      ]
     },
     "metadata": {},
     "output_type": "display_data"
    }
   ],
   "source": [
    "# padding adjacency matrices\n",
    "padded_anom = []\n",
    "for gs in tqdm(anom_gs):\n",
    "    g = nx.to_numpy_array(gs)\n",
    "    padded = np.zeros((slice_size, slice_size))\n",
    "    # add 1s to diagonal\n",
    "    for idx, row in enumerate(padded):\n",
    "        row[idx] = 1\n",
    "    if len(padded) >= len(g):\n",
    "        padded[:g.shape[0], :g.shape[1]] = g\n",
    "    else:\n",
    "        padded = g[:slice_size, :slice_size]\n",
    "    padded_anom.append(padded)\n",
    "    \n",
    "padded_clean = []\n",
    "for gs in tqdm(clean_gs):\n",
    "    g = nx.to_numpy_array(gs)\n",
    "    padded = np.zeros((slice_size, slice_size))\n",
    "    # add 1s to diagonal\n",
    "    for idx, row in enumerate(padded):\n",
    "        row[idx] = 1\n",
    "    if len(padded) >= len(g):\n",
    "        padded[:g.shape[0], :g.shape[1]] = g\n",
    "    else:\n",
    "        padded = g[:slice_size, :slice_size]\n",
    "    padded_clean.append(padded)"
   ]
  },
  {
   "cell_type": "code",
   "execution_count": 23,
   "id": "e6e62f9c",
   "metadata": {},
   "outputs": [],
   "source": [
    "_, factors = tucker(cube[0].numpy(), rank=10)"
   ]
  },
  {
   "cell_type": "code",
   "execution_count": 24,
   "id": "a3292279",
   "metadata": {},
   "outputs": [
    {
     "data": {
      "application/vnd.jupyter.widget-view+json": {
       "model_id": "31d31791297e42caa07b1ee2224f8088",
       "version_major": 2,
       "version_minor": 0
      },
      "text/plain": [
       "  0%|          | 0/4720 [00:00<?, ?it/s]"
      ]
     },
     "metadata": {},
     "output_type": "display_data"
    },
    {
     "data": {
      "application/vnd.jupyter.widget-view+json": {
       "model_id": "3e0d15c8d51c44c3bbbe9de1466e0ef1",
       "version_major": 2,
       "version_minor": 0
      },
      "text/plain": [
       "  0%|          | 0/476 [00:00<?, ?it/s]"
      ]
     },
     "metadata": {},
     "output_type": "display_data"
    }
   ],
   "source": [
    "# with open('bc_tkd_r10.sav', 'rb') as f:\n",
    "#     _, factors = pickle.load(f)\n",
    "#     f.close()\n",
    "\n",
    "A, B, C = factors\n",
    "A, B, C, = np.array(A), np.array(B), np.array(C)\n",
    "\n",
    "results_anom = []\n",
    "for gs in tqdm(padded_anom):\n",
    "    gs_p = (A @ ((A.T @ gs) @ B) @ B.T)\n",
    "    d = np.linalg.norm(gs - gs_p)\n",
    "    results_anom.append(d)\n",
    "\n",
    "results_clean = []\n",
    "for gs in tqdm(padded_clean):\n",
    "    gs_p = (A @ ((A.T @ gs) @ B) @ B.T)\n",
    "    d = np.linalg.norm(gs - gs_p)\n",
    "    results_clean.append(d)"
   ]
  },
  {
   "cell_type": "code",
   "execution_count": 25,
   "id": "90b22ba7",
   "metadata": {},
   "outputs": [
    {
     "data": {
      "text/plain": [
       "<matplotlib.collections.PathCollection at 0x7fbb10558fd0>"
      ]
     },
     "execution_count": 25,
     "metadata": {},
     "output_type": "execute_result"
    },
    {
     "data": {
      "image/png": "[encoded data removed]",
      "text/plain": [
       "<Figure size 432x288 with 1 Axes>"
      ]
     },
     "metadata": {
      "needs_background": "light"
     },
     "output_type": "display_data"
    }
   ],
   "source": [
    "anom_y = np.zeros(len(anom_gs))\n",
    "clean_y = np.zeros(len(clean_gs))\n",
    "\n",
    "sns.scatterplot(x=results_anom, y=[0] * len(anom_y), marker='x')\n",
    "sns.scatterplot(x=results_clean, y=[1] * len(clean_y), marker='o')\n",
    "plt.scatter([np.median(results_anom)], 0, c='red')\n",
    "plt.scatter([np.median(results_clean)], 1, c='blue')"
   ]
  },
  {
   "cell_type": "code",
   "execution_count": 26,
   "id": "5b6abed0",
   "metadata": {},
   "outputs": [],
   "source": [
    "results = np.column_stack((np.array(results_clean + results_anom), np.zeros(len(ego_gs))))"
   ]
  },
  {
   "cell_type": "code",
   "execution_count": 27,
   "id": "8f1708c3",
   "metadata": {},
   "outputs": [],
   "source": [
    "labels = []\n",
    "labels +=  [0] * len(results_clean) + [1] * len(results_anom)"
   ]
  },
  {
   "cell_type": "markdown",
   "id": "64c09031",
   "metadata": {},
   "source": [
    "# Kitchen Sink\n",
    "https://pyod.readthedocs.io/en/latest/index.html"
   ]
  },
  {
   "cell_type": "code",
   "execution_count": 28,
   "id": "33d2f3dc",
   "metadata": {},
   "outputs": [],
   "source": [
    "from pyod.models.suod import SUOD\n",
    "from pyod.models.auto_encoder import AutoEncoder\n",
    "from pyod.models.anogan import AnoGAN\n",
    "from pyod.models.cblof import CBLOF\n",
    "from pyod.models.deep_svdd import DeepSVDD\n",
    "from pyod.models.iforest import IForest\n",
    "from pyod.models.lof import LOF\n",
    "from pyod.models.cof import COF\n",
    "from pyod.models.gmm import GMM\n",
    "from pyod.models.hbos import HBOS\n",
    "from pyod.models.inne import INNE\n",
    "from pyod.models.copod import COPOD\n",
    "from pyod.models.knn import KNN\n",
    "from pyod.models.lmdd import LMDD\n",
    "from pyod.models.ocsvm import OCSVM\n",
    "from pyod.models.mad import MAD\n",
    "from pyod.models.pca import PCA\n",
    "from pyod.models.so_gaal import SO_GAAL\n",
    "from pyod.models.xgbod import XGBOD\n",
    "\n",
    "from pyod.utils.data import evaluate_print\n",
    "from pyod.utils.example import visualize\n",
    "\n",
    "import torch\n",
    "from torch.nn import MSELoss"
   ]
  },
  {
   "cell_type": "code",
   "execution_count": 33,
   "id": "d261f35e",
   "metadata": {},
   "outputs": [],
   "source": [
    "from sklearn.model_selection import train_test_split\n",
    "\n",
    "X_train, X_test, y_train, y_test = train_test_split(results, labels, test_size=0.33, random_state=42)"
   ]
  },
  {
   "cell_type": "code",
   "execution_count": 98,
   "id": "f775405a",
   "metadata": {},
   "outputs": [],
   "source": [
    "# # DeepSVDD(), DeepSVDD(use_ae=True), AnoGAN(), AutoEncoder()\n",
    "# detector_list = [\n",
    "#     LOF(n_neighbors=20), \n",
    "#     IForest(n_estimators=100), \n",
    "#     # GMM(), \n",
    "#     # KNN(), \n",
    "#     # HBOS(), \n",
    "#     # INNE(), \n",
    "#     # COPOD(), \n",
    "#     # LOF(),\n",
    "# ]\n",
    "\n",
    "# # decide the number of parallel process, and the combination method\n",
    "# # then clf can be used as any outlier detection model\n",
    "# clf = SUOD(base_estimators=detector_list, n_jobs=2, combination='average',\n",
    "#            verbose=False)\n",
    "\n",
    "# clf.fit(X_train, y_train)"
   ]
  },
  {
   "cell_type": "code",
   "execution_count": 99,
   "id": "bb0a33af",
   "metadata": {},
   "outputs": [],
   "source": [
    "# # get the prediction labels and outlier scores of the training data\n",
    "# y_train_pred = clf.labels_  # binary labels (0: inliers, 1: outliers)\n",
    "# y_train_scores = clf.decision_scores_  # raw outlier scores\n",
    "\n",
    "# # get the prediction on the test data\n",
    "# y_test_pred = clf.predict(X_test)  # outlier labels (0 or 1)\n",
    "# y_test_scores = clf.decision_function(X_test)  # outlier scores\n",
    "\n",
    "# # evaluate and print the results\n",
    "# print(\"\\nOn Training Data:\")\n",
    "# evaluate_print('SUOD', y_train, y_train_scores)\n",
    "# print(\"\\nOn Test Data:\")\n",
    "# evaluate_print('SUOD', y_test, y_test_scores)\n",
    "\n",
    "# # visualize the results\n",
    "# visualize('SUOD', X_train, y_train, X_test, y_test, y_train_pred,\n",
    "#           y_test_pred, show_figure=True, save_figure=False)"
   ]
  },
  {
   "cell_type": "markdown",
   "id": "f75de6e0",
   "metadata": {},
   "source": [
    "# XGBOD"
   ]
  },
  {
   "cell_type": "code",
   "execution_count": 34,
   "id": "3e9e8d73",
   "metadata": {},
   "outputs": [
    {
     "name": "stdout",
     "output_type": "stream",
     "text": [
      "[14:27:11] WARNING: ../src/learner.cc:576: \n",
      "Parameters: { \"silent\" } might not be used.\n",
      "\n",
      "  This could be a false alarm, with some parameters getting used by language bindings but\n",
      "  then being mistakenly passed down to XGBoost core, or some parameter actually being used\n",
      "  but getting flagged wrongly here. Please open an issue if you find any such cases.\n",
      "\n",
      "\n",
      "[14:27:11] WARNING: ../src/learner.cc:1115: Starting in XGBoost 1.3.0, the default evaluation metric used with the objective 'binary:logistic' was changed from 'error' to 'logloss'. Explicitly set eval_metric if you'd like to restore the old behavior.\n",
      "\n",
      "On Training Data:\n",
      "SUOD ROC:0.872, precision @ rank n:0.9436\n",
      "\n",
      "On Test Data:\n",
      "SUOD ROC:0.8272, precision @ rank n:0.9186\n"
     ]
    },
    {
     "data": {
      "image/png": "[encoded data removed]",
      "text/plain": [
       "<Figure size 864x720 with 4 Axes>"
      ]
     },
     "metadata": {},
     "output_type": "display_data"
    }
   ],
   "source": [
    "clf = XGBOD(estimator_list=[IForest()])\n",
    "clf.fit(X_train, y_train)\n",
    "\n",
    "# get the prediction labels and outlier scores of the training data\n",
    "y_train_pred = clf.labels_  # binary labels (0: inliers, 1: outliers)\n",
    "y_train_scores = clf.decision_scores_  # raw outlier scores\n",
    "\n",
    "# get the prediction on the test data\n",
    "y_test_pred = clf.predict(X_test)  # outlier labels (0 or 1)\n",
    "y_test_scores = clf.decision_function(X_test)  # outlier scores\n",
    "\n",
    "# evaluate and print the results\n",
    "print(\"\\nOn Training Data:\")\n",
    "evaluate_print('SUOD', y_train, y_train_scores)\n",
    "print(\"\\nOn Test Data:\")\n",
    "evaluate_print('SUOD', y_test, y_test_scores)\n",
    "\n",
    "# visualize the results\n",
    "visualize('SUOD', X_train, y_train, X_test, y_test, y_train_pred,\n",
    "          y_test_pred, show_figure=True, save_figure=False)"
   ]
  },
  {
   "cell_type": "code",
   "execution_count": 35,
   "id": "c6716610",
   "metadata": {},
   "outputs": [
    {
     "name": "stdout",
     "output_type": "stream",
     "text": [
      "              precision    recall  f1-score   support\n",
      "\n",
      "           0       0.50      0.01      0.01       175\n",
      "           1       0.90      1.00      0.95      1540\n",
      "\n",
      "    accuracy                           0.90      1715\n",
      "   macro avg       0.70      0.50      0.48      1715\n",
      "weighted avg       0.86      0.90      0.85      1715\n",
      "\n"
     ]
    }
   ],
   "source": [
    "print(classification_report(y_test, y_test_pred))"
   ]
  },
  {
   "cell_type": "code",
   "execution_count": 38,
   "id": "20697e77",
   "metadata": {},
   "outputs": [
    {
     "name": "stdout",
     "output_type": "stream",
     "text": [
      "F1: 0.9462035044574238\n",
      "ROC-AUC: 0.8271558441558443\n"
     ]
    }
   ],
   "source": [
    "# Only report results for the class specified by pos_label (1)\n",
    "\n",
    "print('F1:', f1_score(y_test, y_test_pred))\n",
    "print('ROC-AUC:', roc_auc_score(y_test, y_test_scores))"
   ]
  },
  {
   "cell_type": "code",
   "execution_count": 47,
   "id": "2f650248",
   "metadata": {},
   "outputs": [
    {
     "data": {
      "text/plain": [
       "Text(0, 0.5, 'True Positive Rate')"
      ]
     },
     "execution_count": 47,
     "metadata": {},
     "output_type": "execute_result"
    },
    {
     "data": {
      "image/png": "[encoded data removed]",
      "text/plain": [
       "<Figure size 432x288 with 1 Axes>"
      ]
     },
     "metadata": {
      "needs_background": "light"
     },
     "output_type": "display_data"
    }
   ],
   "source": [
    "fpr, tpr, _ = roc_curve(y_test, y_test_scores)\n",
    "\n",
    "sns.scatterplot(x = fpr, y = tpr)\n",
    "sns.lineplot(x = fpr, y = tpr)\n",
    "sns.lineplot(x = [0, 1], y = [0, 1], color = 'green')\n",
    "plt.xlim(-0.05, 1.05)\n",
    "plt.ylim(-0.05, 1.05)\n",
    "plt.xlabel(\"False Positive Rate\")\n",
    "plt.ylabel(\"True Positive Rate\")"
   ]
  },
  {
   "cell_type": "code",
   "execution_count": null,
   "id": "ef60d083",
   "metadata": {},
   "outputs": [],
   "source": []
  }
 ],
 "metadata": {
  "kernelspec": {
   "display_name": "Python 3.10.4 ('anom_detect')",
   "language": "python",
   "name": "python3"
  },
  "language_info": {
   "codemirror_mode": {
    "name": "ipython",
    "version": 3
   },
   "file_extension": ".py",
   "mimetype": "text/x-python",
   "name": "python",
   "nbconvert_exporter": "python",
   "pygments_lexer": "ipython3",
   "version": "3.10.5"
  },
  "vscode": {
   "interpreter": {
    "hash": "878f840c9193383bac054de06753aa3f4dd9418001383d961040b59059895a76"
   }
  }
 },
 "nbformat": 4,
 "nbformat_minor": 5
}
